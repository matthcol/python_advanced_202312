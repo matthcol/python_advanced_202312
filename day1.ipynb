{
 "cells": [
  {
   "cell_type": "markdown",
   "id": "309efeab-9a05-4ed4-b9ef-19d1f3710cae",
   "metadata": {},
   "source": [
    "# Python Avancé: day 1\n",
    "(wriiten with jupyter notebook/lab)"
   ]
  },
  {
   "cell_type": "code",
   "execution_count": 150,
   "id": "44881858-d315-4163-8476-305d7efc46bc",
   "metadata": {},
   "outputs": [],
   "source": [
    "import pandas as pd\n",
    "import matplotlib.pyplot as plt\n",
    "import numpy as np\n",
    "from collections.abc import Iterable, Iterator\n",
    "import itertools\n",
    "\n",
    "from queens import queens\n",
    "from square import *"
   ]
  },
  {
   "cell_type": "markdown",
   "id": "eee9e4db-9fe2-4102-bfc5-38327745ddf5",
   "metadata": {},
   "source": [
    "## Collections\n",
    "- list:  [1, 2, 3]\n",
    "- tuple: (1, \"Toulouse\", 31000)\n",
    "- dict: { \"id\": 1, \"name\": \"Toulouse\", \"cp\": 31000}"
   ]
  },
  {
   "cell_type": "markdown",
   "id": "c16a8a94-e25f-4722-8db7-3d9de035d7e8",
   "metadata": {},
   "source": [
    "## Fonctions"
   ]
  },
  {
   "cell_type": "code",
   "execution_count": 2,
   "id": "38cdd892-63d0-47d1-b5c9-1d3448801ccb",
   "metadata": {},
   "outputs": [],
   "source": [
    "# function with 2 required args\n",
    "def f(a,b):\n",
    "    print(f\"a = {a} ; b = {b}\")"
   ]
  },
  {
   "cell_type": "code",
   "execution_count": 3,
   "id": "168c91f9-a9a6-48ae-8ecc-5ee2bfbbeeff",
   "metadata": {},
   "outputs": [],
   "source": [
    "# wrong calls\n",
    "\n",
    "# f()\n",
    "\n",
    "# Error: f() takes 2 positional arguments but 3 were given\n",
    "# f(1,2,3)"
   ]
  },
  {
   "cell_type": "code",
   "execution_count": 4,
   "id": "e48f8361-edea-4139-87a7-beedd3b1ae7c",
   "metadata": {},
   "outputs": [
    {
     "name": "stdout",
     "output_type": "stream",
     "text": [
      "a = 1 ; b = Toulouse\n",
      "a = 1 ; b = Toulouse\n",
      "a = 1 ; b = Toulouse\n",
      "a = 1 ; b = Toulouse\n"
     ]
    }
   ],
   "source": [
    "f(1, \"Toulouse\")\n",
    "f(a=1, b=\"Toulouse\")\n",
    "f(b=\"Toulouse\", a=1)\n",
    "f(1, b=\"Toulouse\")"
   ]
  },
  {
   "cell_type": "code",
   "execution_count": 5,
   "id": "e389587f-1fa5-4b98-9371-315efe835c94",
   "metadata": {},
   "outputs": [],
   "source": [
    "def wrong_f(a, b, c=0, d=None, l=[]):\n",
    "    l.append(a)\n",
    "    print(f\"required args: a = {a} ; b = {b}\")\n",
    "    print(f\"opt args: c = {c} ; d = {d} ; l = {l}\")"
   ]
  },
  {
   "cell_type": "code",
   "execution_count": 6,
   "id": "49d8df2a-535d-4614-a6b2-766e8ea71ec7",
   "metadata": {},
   "outputs": [
    {
     "name": "stdout",
     "output_type": "stream",
     "text": [
      "required args: a = 1 ; b = 2\n",
      "opt args: c = 0 ; d = None ; l = [1]\n"
     ]
    }
   ],
   "source": [
    "wrong_f(1, 2)"
   ]
  },
  {
   "cell_type": "code",
   "execution_count": 7,
   "id": "dbc42373-763f-4875-9b52-9b53ee1d050d",
   "metadata": {},
   "outputs": [
    {
     "name": "stdout",
     "output_type": "stream",
     "text": [
      "required args: a = 11 ; b = 22\n",
      "opt args: c = 0 ; d = None ; l = [1, 11]\n"
     ]
    }
   ],
   "source": [
    "wrong_f(11, 22)"
   ]
  },
  {
   "cell_type": "code",
   "execution_count": 8,
   "id": "cf23951b-35e6-4350-bfee-70c27fa18a3d",
   "metadata": {},
   "outputs": [],
   "source": [
    "def f(a, b, c=0, d=None, l: list|None = None):\n",
    "    if l is None:\n",
    "        l = []\n",
    "    l.append(a)\n",
    "    print(f\"required args: a = {a} ; b = {b}\")\n",
    "    print(f\"opt args: c = {c} ; d = {d} ; l = {l}\")"
   ]
  },
  {
   "cell_type": "code",
   "execution_count": 9,
   "id": "eb711020-6e3b-4d2a-99db-2bbb03744a6c",
   "metadata": {},
   "outputs": [
    {
     "name": "stdout",
     "output_type": "stream",
     "text": [
      "required args: a = 1 ; b = 2\n",
      "opt args: c = 0 ; d = None ; l = [1]\n",
      "required args: a = 11 ; b = 22\n",
      "opt args: c = 0 ; d = None ; l = [11]\n",
      "required args: a = 111 ; b = 222\n",
      "opt args: c = 0 ; d = None ; l = [111]\n",
      "required args: a = 111 ; b = 222\n",
      "opt args: c = 0 ; d = None ; l = [1, 2, 3, 111]\n",
      "required args: a = 111 ; b = 222\n",
      "opt args: c = 0 ; d = Toulouse ; l = [1, 2, 3, 111]\n"
     ]
    }
   ],
   "source": [
    "f(1, 2)\n",
    "f(11, 22)\n",
    "f(111, 222, l=None)\n",
    "f(111, 222, l=[1,2,3])\n",
    "f(111, 222, d=\"Toulouse\", l=[1,2,3])"
   ]
  },
  {
   "cell_type": "code",
   "execution_count": 10,
   "id": "a7021d2a-54c9-49c4-8c18-a2807b28afd0",
   "metadata": {},
   "outputs": [],
   "source": [
    "# wrong call (duck typing)\n",
    "# f(11, 22, l=(3, 4, 5))"
   ]
  },
  {
   "cell_type": "markdown",
   "id": "47a1fd33-584e-40f4-bf3d-25246c673aad",
   "metadata": {},
   "source": [
    "### Différentes écoles "
   ]
  },
  {
   "cell_type": "code",
   "execution_count": 11,
   "id": "177b24db-e552-409c-b58b-af210fe38d61",
   "metadata": {
    "collapsed": true,
    "jupyter": {
     "outputs_hidden": true
    },
    "tags": []
   },
   "outputs": [
    {
     "data": {
      "text/plain": [
       "\u001b[1;31mSignature:\u001b[0m\n",
       "\u001b[0mpd\u001b[0m\u001b[1;33m.\u001b[0m\u001b[0mread_csv\u001b[0m\u001b[1;33m(\u001b[0m\u001b[1;33m\n",
       "\u001b[0m    \u001b[0mfilepath_or_buffer\u001b[0m\u001b[1;33m:\u001b[0m \u001b[1;34m'FilePath | ReadCsvBuffer[bytes] | ReadCsvBuffer[str]'\u001b[0m\u001b[1;33m,\u001b[0m\u001b[1;33m\n",
       "\u001b[0m    \u001b[1;33m*\u001b[0m\u001b[1;33m,\u001b[0m\u001b[1;33m\n",
       "\u001b[0m    \u001b[0msep\u001b[0m\u001b[1;33m:\u001b[0m \u001b[1;34m'str | None | lib.NoDefault'\u001b[0m \u001b[1;33m=\u001b[0m \u001b[1;33m<\u001b[0m\u001b[0mno_default\u001b[0m\u001b[1;33m>\u001b[0m\u001b[1;33m,\u001b[0m\u001b[1;33m\n",
       "\u001b[0m    \u001b[0mdelimiter\u001b[0m\u001b[1;33m:\u001b[0m \u001b[1;34m'str | None | lib.NoDefault'\u001b[0m \u001b[1;33m=\u001b[0m \u001b[1;32mNone\u001b[0m\u001b[1;33m,\u001b[0m\u001b[1;33m\n",
       "\u001b[0m    \u001b[0mheader\u001b[0m\u001b[1;33m:\u001b[0m \u001b[1;34m\"int | Sequence[int] | None | Literal['infer']\"\u001b[0m \u001b[1;33m=\u001b[0m \u001b[1;34m'infer'\u001b[0m\u001b[1;33m,\u001b[0m\u001b[1;33m\n",
       "\u001b[0m    \u001b[0mnames\u001b[0m\u001b[1;33m:\u001b[0m \u001b[1;34m'Sequence[Hashable] | None | lib.NoDefault'\u001b[0m \u001b[1;33m=\u001b[0m \u001b[1;33m<\u001b[0m\u001b[0mno_default\u001b[0m\u001b[1;33m>\u001b[0m\u001b[1;33m,\u001b[0m\u001b[1;33m\n",
       "\u001b[0m    \u001b[0mindex_col\u001b[0m\u001b[1;33m:\u001b[0m \u001b[1;34m'IndexLabel | Literal[False] | None'\u001b[0m \u001b[1;33m=\u001b[0m \u001b[1;32mNone\u001b[0m\u001b[1;33m,\u001b[0m\u001b[1;33m\n",
       "\u001b[0m    \u001b[0musecols\u001b[0m\u001b[1;33m:\u001b[0m \u001b[1;34m'list[HashableT] | Callable[[Hashable], bool] | None'\u001b[0m \u001b[1;33m=\u001b[0m \u001b[1;32mNone\u001b[0m\u001b[1;33m,\u001b[0m\u001b[1;33m\n",
       "\u001b[0m    \u001b[0mdtype\u001b[0m\u001b[1;33m:\u001b[0m \u001b[1;34m'DtypeArg | None'\u001b[0m \u001b[1;33m=\u001b[0m \u001b[1;32mNone\u001b[0m\u001b[1;33m,\u001b[0m\u001b[1;33m\n",
       "\u001b[0m    \u001b[0mengine\u001b[0m\u001b[1;33m:\u001b[0m \u001b[1;34m'CSVEngine | None'\u001b[0m \u001b[1;33m=\u001b[0m \u001b[1;32mNone\u001b[0m\u001b[1;33m,\u001b[0m\u001b[1;33m\n",
       "\u001b[0m    \u001b[0mconverters\u001b[0m\u001b[1;33m:\u001b[0m \u001b[1;34m'Mapping[Hashable, Callable] | None'\u001b[0m \u001b[1;33m=\u001b[0m \u001b[1;32mNone\u001b[0m\u001b[1;33m,\u001b[0m\u001b[1;33m\n",
       "\u001b[0m    \u001b[0mtrue_values\u001b[0m\u001b[1;33m:\u001b[0m \u001b[1;34m'list | None'\u001b[0m \u001b[1;33m=\u001b[0m \u001b[1;32mNone\u001b[0m\u001b[1;33m,\u001b[0m\u001b[1;33m\n",
       "\u001b[0m    \u001b[0mfalse_values\u001b[0m\u001b[1;33m:\u001b[0m \u001b[1;34m'list | None'\u001b[0m \u001b[1;33m=\u001b[0m \u001b[1;32mNone\u001b[0m\u001b[1;33m,\u001b[0m\u001b[1;33m\n",
       "\u001b[0m    \u001b[0mskipinitialspace\u001b[0m\u001b[1;33m:\u001b[0m \u001b[1;34m'bool'\u001b[0m \u001b[1;33m=\u001b[0m \u001b[1;32mFalse\u001b[0m\u001b[1;33m,\u001b[0m\u001b[1;33m\n",
       "\u001b[0m    \u001b[0mskiprows\u001b[0m\u001b[1;33m:\u001b[0m \u001b[1;34m'list[int] | int | Callable[[Hashable], bool] | None'\u001b[0m \u001b[1;33m=\u001b[0m \u001b[1;32mNone\u001b[0m\u001b[1;33m,\u001b[0m\u001b[1;33m\n",
       "\u001b[0m    \u001b[0mskipfooter\u001b[0m\u001b[1;33m:\u001b[0m \u001b[1;34m'int'\u001b[0m \u001b[1;33m=\u001b[0m \u001b[1;36m0\u001b[0m\u001b[1;33m,\u001b[0m\u001b[1;33m\n",
       "\u001b[0m    \u001b[0mnrows\u001b[0m\u001b[1;33m:\u001b[0m \u001b[1;34m'int | None'\u001b[0m \u001b[1;33m=\u001b[0m \u001b[1;32mNone\u001b[0m\u001b[1;33m,\u001b[0m\u001b[1;33m\n",
       "\u001b[0m    \u001b[0mna_values\u001b[0m\u001b[1;33m:\u001b[0m \u001b[1;34m'Sequence[str] | Mapping[str, Sequence[str]] | None'\u001b[0m \u001b[1;33m=\u001b[0m \u001b[1;32mNone\u001b[0m\u001b[1;33m,\u001b[0m\u001b[1;33m\n",
       "\u001b[0m    \u001b[0mkeep_default_na\u001b[0m\u001b[1;33m:\u001b[0m \u001b[1;34m'bool'\u001b[0m \u001b[1;33m=\u001b[0m \u001b[1;32mTrue\u001b[0m\u001b[1;33m,\u001b[0m\u001b[1;33m\n",
       "\u001b[0m    \u001b[0mna_filter\u001b[0m\u001b[1;33m:\u001b[0m \u001b[1;34m'bool'\u001b[0m \u001b[1;33m=\u001b[0m \u001b[1;32mTrue\u001b[0m\u001b[1;33m,\u001b[0m\u001b[1;33m\n",
       "\u001b[0m    \u001b[0mverbose\u001b[0m\u001b[1;33m:\u001b[0m \u001b[1;34m'bool'\u001b[0m \u001b[1;33m=\u001b[0m \u001b[1;32mFalse\u001b[0m\u001b[1;33m,\u001b[0m\u001b[1;33m\n",
       "\u001b[0m    \u001b[0mskip_blank_lines\u001b[0m\u001b[1;33m:\u001b[0m \u001b[1;34m'bool'\u001b[0m \u001b[1;33m=\u001b[0m \u001b[1;32mTrue\u001b[0m\u001b[1;33m,\u001b[0m\u001b[1;33m\n",
       "\u001b[0m    \u001b[0mparse_dates\u001b[0m\u001b[1;33m:\u001b[0m \u001b[1;34m'bool | Sequence[Hashable] | None'\u001b[0m \u001b[1;33m=\u001b[0m \u001b[1;32mNone\u001b[0m\u001b[1;33m,\u001b[0m\u001b[1;33m\n",
       "\u001b[0m    \u001b[0minfer_datetime_format\u001b[0m\u001b[1;33m:\u001b[0m \u001b[1;34m'bool | lib.NoDefault'\u001b[0m \u001b[1;33m=\u001b[0m \u001b[1;33m<\u001b[0m\u001b[0mno_default\u001b[0m\u001b[1;33m>\u001b[0m\u001b[1;33m,\u001b[0m\u001b[1;33m\n",
       "\u001b[0m    \u001b[0mkeep_date_col\u001b[0m\u001b[1;33m:\u001b[0m \u001b[1;34m'bool'\u001b[0m \u001b[1;33m=\u001b[0m \u001b[1;32mFalse\u001b[0m\u001b[1;33m,\u001b[0m\u001b[1;33m\n",
       "\u001b[0m    \u001b[0mdate_parser\u001b[0m\u001b[1;33m:\u001b[0m \u001b[1;34m'Callable | lib.NoDefault'\u001b[0m \u001b[1;33m=\u001b[0m \u001b[1;33m<\u001b[0m\u001b[0mno_default\u001b[0m\u001b[1;33m>\u001b[0m\u001b[1;33m,\u001b[0m\u001b[1;33m\n",
       "\u001b[0m    \u001b[0mdate_format\u001b[0m\u001b[1;33m:\u001b[0m \u001b[1;34m'str | None'\u001b[0m \u001b[1;33m=\u001b[0m \u001b[1;32mNone\u001b[0m\u001b[1;33m,\u001b[0m\u001b[1;33m\n",
       "\u001b[0m    \u001b[0mdayfirst\u001b[0m\u001b[1;33m:\u001b[0m \u001b[1;34m'bool'\u001b[0m \u001b[1;33m=\u001b[0m \u001b[1;32mFalse\u001b[0m\u001b[1;33m,\u001b[0m\u001b[1;33m\n",
       "\u001b[0m    \u001b[0mcache_dates\u001b[0m\u001b[1;33m:\u001b[0m \u001b[1;34m'bool'\u001b[0m \u001b[1;33m=\u001b[0m \u001b[1;32mTrue\u001b[0m\u001b[1;33m,\u001b[0m\u001b[1;33m\n",
       "\u001b[0m    \u001b[0miterator\u001b[0m\u001b[1;33m:\u001b[0m \u001b[1;34m'bool'\u001b[0m \u001b[1;33m=\u001b[0m \u001b[1;32mFalse\u001b[0m\u001b[1;33m,\u001b[0m\u001b[1;33m\n",
       "\u001b[0m    \u001b[0mchunksize\u001b[0m\u001b[1;33m:\u001b[0m \u001b[1;34m'int | None'\u001b[0m \u001b[1;33m=\u001b[0m \u001b[1;32mNone\u001b[0m\u001b[1;33m,\u001b[0m\u001b[1;33m\n",
       "\u001b[0m    \u001b[0mcompression\u001b[0m\u001b[1;33m:\u001b[0m \u001b[1;34m'CompressionOptions'\u001b[0m \u001b[1;33m=\u001b[0m \u001b[1;34m'infer'\u001b[0m\u001b[1;33m,\u001b[0m\u001b[1;33m\n",
       "\u001b[0m    \u001b[0mthousands\u001b[0m\u001b[1;33m:\u001b[0m \u001b[1;34m'str | None'\u001b[0m \u001b[1;33m=\u001b[0m \u001b[1;32mNone\u001b[0m\u001b[1;33m,\u001b[0m\u001b[1;33m\n",
       "\u001b[0m    \u001b[0mdecimal\u001b[0m\u001b[1;33m:\u001b[0m \u001b[1;34m'str'\u001b[0m \u001b[1;33m=\u001b[0m \u001b[1;34m'.'\u001b[0m\u001b[1;33m,\u001b[0m\u001b[1;33m\n",
       "\u001b[0m    \u001b[0mlineterminator\u001b[0m\u001b[1;33m:\u001b[0m \u001b[1;34m'str | None'\u001b[0m \u001b[1;33m=\u001b[0m \u001b[1;32mNone\u001b[0m\u001b[1;33m,\u001b[0m\u001b[1;33m\n",
       "\u001b[0m    \u001b[0mquotechar\u001b[0m\u001b[1;33m:\u001b[0m \u001b[1;34m'str'\u001b[0m \u001b[1;33m=\u001b[0m \u001b[1;34m'\"'\u001b[0m\u001b[1;33m,\u001b[0m\u001b[1;33m\n",
       "\u001b[0m    \u001b[0mquoting\u001b[0m\u001b[1;33m:\u001b[0m \u001b[1;34m'int'\u001b[0m \u001b[1;33m=\u001b[0m \u001b[1;36m0\u001b[0m\u001b[1;33m,\u001b[0m\u001b[1;33m\n",
       "\u001b[0m    \u001b[0mdoublequote\u001b[0m\u001b[1;33m:\u001b[0m \u001b[1;34m'bool'\u001b[0m \u001b[1;33m=\u001b[0m \u001b[1;32mTrue\u001b[0m\u001b[1;33m,\u001b[0m\u001b[1;33m\n",
       "\u001b[0m    \u001b[0mescapechar\u001b[0m\u001b[1;33m:\u001b[0m \u001b[1;34m'str | None'\u001b[0m \u001b[1;33m=\u001b[0m \u001b[1;32mNone\u001b[0m\u001b[1;33m,\u001b[0m\u001b[1;33m\n",
       "\u001b[0m    \u001b[0mcomment\u001b[0m\u001b[1;33m:\u001b[0m \u001b[1;34m'str | None'\u001b[0m \u001b[1;33m=\u001b[0m \u001b[1;32mNone\u001b[0m\u001b[1;33m,\u001b[0m\u001b[1;33m\n",
       "\u001b[0m    \u001b[0mencoding\u001b[0m\u001b[1;33m:\u001b[0m \u001b[1;34m'str | None'\u001b[0m \u001b[1;33m=\u001b[0m \u001b[1;32mNone\u001b[0m\u001b[1;33m,\u001b[0m\u001b[1;33m\n",
       "\u001b[0m    \u001b[0mencoding_errors\u001b[0m\u001b[1;33m:\u001b[0m \u001b[1;34m'str | None'\u001b[0m \u001b[1;33m=\u001b[0m \u001b[1;34m'strict'\u001b[0m\u001b[1;33m,\u001b[0m\u001b[1;33m\n",
       "\u001b[0m    \u001b[0mdialect\u001b[0m\u001b[1;33m:\u001b[0m \u001b[1;34m'str | csv.Dialect | None'\u001b[0m \u001b[1;33m=\u001b[0m \u001b[1;32mNone\u001b[0m\u001b[1;33m,\u001b[0m\u001b[1;33m\n",
       "\u001b[0m    \u001b[0mon_bad_lines\u001b[0m\u001b[1;33m:\u001b[0m \u001b[1;34m'str'\u001b[0m \u001b[1;33m=\u001b[0m \u001b[1;34m'error'\u001b[0m\u001b[1;33m,\u001b[0m\u001b[1;33m\n",
       "\u001b[0m    \u001b[0mdelim_whitespace\u001b[0m\u001b[1;33m:\u001b[0m \u001b[1;34m'bool'\u001b[0m \u001b[1;33m=\u001b[0m \u001b[1;32mFalse\u001b[0m\u001b[1;33m,\u001b[0m\u001b[1;33m\n",
       "\u001b[0m    \u001b[0mlow_memory\u001b[0m\u001b[1;33m:\u001b[0m \u001b[1;34m'bool'\u001b[0m \u001b[1;33m=\u001b[0m \u001b[1;32mTrue\u001b[0m\u001b[1;33m,\u001b[0m\u001b[1;33m\n",
       "\u001b[0m    \u001b[0mmemory_map\u001b[0m\u001b[1;33m:\u001b[0m \u001b[1;34m'bool'\u001b[0m \u001b[1;33m=\u001b[0m \u001b[1;32mFalse\u001b[0m\u001b[1;33m,\u001b[0m\u001b[1;33m\n",
       "\u001b[0m    \u001b[0mfloat_precision\u001b[0m\u001b[1;33m:\u001b[0m \u001b[1;34m\"Literal['high', 'legacy'] | None\"\u001b[0m \u001b[1;33m=\u001b[0m \u001b[1;32mNone\u001b[0m\u001b[1;33m,\u001b[0m\u001b[1;33m\n",
       "\u001b[0m    \u001b[0mstorage_options\u001b[0m\u001b[1;33m:\u001b[0m \u001b[1;34m'StorageOptions | None'\u001b[0m \u001b[1;33m=\u001b[0m \u001b[1;32mNone\u001b[0m\u001b[1;33m,\u001b[0m\u001b[1;33m\n",
       "\u001b[0m    \u001b[0mdtype_backend\u001b[0m\u001b[1;33m:\u001b[0m \u001b[1;34m'DtypeBackend | lib.NoDefault'\u001b[0m \u001b[1;33m=\u001b[0m \u001b[1;33m<\u001b[0m\u001b[0mno_default\u001b[0m\u001b[1;33m>\u001b[0m\u001b[1;33m,\u001b[0m\u001b[1;33m\n",
       "\u001b[0m\u001b[1;33m)\u001b[0m \u001b[1;33m->\u001b[0m \u001b[1;34m'DataFrame | TextFileReader'\u001b[0m\u001b[1;33m\u001b[0m\u001b[1;33m\u001b[0m\u001b[0m\n",
       "\u001b[1;31mDocstring:\u001b[0m\n",
       "Read a comma-separated values (csv) file into DataFrame.\n",
       "\n",
       "Also supports optionally iterating or breaking of the file\n",
       "into chunks.\n",
       "\n",
       "Additional help can be found in the online docs for\n",
       "`IO Tools <https://pandas.pydata.org/pandas-docs/stable/user_guide/io.html>`_.\n",
       "\n",
       "Parameters\n",
       "----------\n",
       "filepath_or_buffer : str, path object or file-like object\n",
       "    Any valid string path is acceptable. The string could be a URL. Valid\n",
       "    URL schemes include http, ftp, s3, gs, and file. For file URLs, a host is\n",
       "    expected. A local file could be: file://localhost/path/to/table.csv.\n",
       "\n",
       "    If you want to pass in a path object, pandas accepts any ``os.PathLike``.\n",
       "\n",
       "    By file-like object, we refer to objects with a ``read()`` method, such as\n",
       "    a file handle (e.g. via builtin ``open`` function) or ``StringIO``.\n",
       "sep : str, default ','\n",
       "    Character or regex pattern to treat as the delimiter. If ``sep=None``, the\n",
       "    C engine cannot automatically detect\n",
       "    the separator, but the Python parsing engine can, meaning the latter will\n",
       "    be used and automatically detect the separator from only the first valid\n",
       "    row of the file by Python's builtin sniffer tool, ``csv.Sniffer``.\n",
       "    In addition, separators longer than 1 character and different from\n",
       "    ``'\\s+'`` will be interpreted as regular expressions and will also force\n",
       "    the use of the Python parsing engine. Note that regex delimiters are prone\n",
       "    to ignoring quoted data. Regex example: ``'\\r\\t'``.\n",
       "delimiter : str, optional\n",
       "    Alias for ``sep``.\n",
       "header : int, Sequence of int, 'infer' or None, default 'infer'\n",
       "    Row number(s) containing column labels and marking the start of the\n",
       "    data (zero-indexed). Default behavior is to infer the column names: if no ``names``\n",
       "    are passed the behavior is identical to ``header=0`` and column\n",
       "    names are inferred from the first line of the file, if column\n",
       "    names are passed explicitly to ``names`` then the behavior is identical to\n",
       "    ``header=None``. Explicitly pass ``header=0`` to be able to\n",
       "    replace existing names. The header can be a list of integers that\n",
       "    specify row locations for a :class:`~pandas.MultiIndex` on the columns\n",
       "    e.g. ``[0, 1, 3]``. Intervening rows that are not specified will be\n",
       "    skipped (e.g. 2 in this example is skipped). Note that this\n",
       "    parameter ignores commented lines and empty lines if\n",
       "    ``skip_blank_lines=True``, so ``header=0`` denotes the first line of\n",
       "    data rather than the first line of the file.\n",
       "names : Sequence of Hashable, optional\n",
       "    Sequence of column labels to apply. If the file contains a header row,\n",
       "    then you should explicitly pass ``header=0`` to override the column names.\n",
       "    Duplicates in this list are not allowed.\n",
       "index_col : Hashable, Sequence of Hashable or False, optional\n",
       "  Column(s) to use as row label(s), denoted either by column labels or column\n",
       "  indices.  If a sequence of labels or indices is given, :class:`~pandas.MultiIndex`\n",
       "  will be formed for the row labels.\n",
       "\n",
       "  Note: ``index_col=False`` can be used to force pandas to *not* use the first\n",
       "  column as the index, e.g., when you have a malformed file with delimiters at\n",
       "  the end of each line.\n",
       "usecols : list of Hashable or Callable, optional\n",
       "    Subset of columns to select, denoted either by column labels or column indices.\n",
       "    If list-like, all elements must either\n",
       "    be positional (i.e. integer indices into the document columns) or strings\n",
       "    that correspond to column names provided either by the user in ``names`` or\n",
       "    inferred from the document header row(s). If ``names`` are given, the document\n",
       "    header row(s) are not taken into account. For example, a valid list-like\n",
       "    ``usecols`` parameter would be ``[0, 1, 2]`` or ``['foo', 'bar', 'baz']``.\n",
       "    Element order is ignored, so ``usecols=[0, 1]`` is the same as ``[1, 0]``.\n",
       "    To instantiate a :class:`~pandas.DataFrame` from ``data`` with element order\n",
       "    preserved use ``pd.read_csv(data, usecols=['foo', 'bar'])[['foo', 'bar']]``\n",
       "    for columns in ``['foo', 'bar']`` order or\n",
       "    ``pd.read_csv(data, usecols=['foo', 'bar'])[['bar', 'foo']]``\n",
       "    for ``['bar', 'foo']`` order.\n",
       "\n",
       "    If callable, the callable function will be evaluated against the column\n",
       "    names, returning names where the callable function evaluates to ``True``. An\n",
       "    example of a valid callable argument would be ``lambda x: x.upper() in\n",
       "    ['AAA', 'BBB', 'DDD']``. Using this parameter results in much faster\n",
       "    parsing time and lower memory usage.\n",
       "dtype : dtype or dict of {Hashable : dtype}, optional\n",
       "    Data type(s) to apply to either the whole dataset or individual columns.\n",
       "    E.g., ``{'a': np.float64, 'b': np.int32, 'c': 'Int64'}``\n",
       "    Use ``str`` or ``object`` together with suitable ``na_values`` settings\n",
       "    to preserve and not interpret ``dtype``.\n",
       "    If ``converters`` are specified, they will be applied INSTEAD\n",
       "    of ``dtype`` conversion.\n",
       "\n",
       "    .. versionadded:: 1.5.0\n",
       "\n",
       "        Support for ``defaultdict`` was added. Specify a ``defaultdict`` as input where\n",
       "        the default determines the ``dtype`` of the columns which are not explicitly\n",
       "        listed.\n",
       "engine : {'c', 'python', 'pyarrow'}, optional\n",
       "    Parser engine to use. The C and pyarrow engines are faster, while the python engine\n",
       "    is currently more feature-complete. Multithreading is currently only supported by\n",
       "    the pyarrow engine.\n",
       "\n",
       "    .. versionadded:: 1.4.0\n",
       "\n",
       "        The 'pyarrow' engine was added as an *experimental* engine, and some features\n",
       "        are unsupported, or may not work correctly, with this engine.\n",
       "converters : dict of {Hashable : Callable}, optional\n",
       "    Functions for converting values in specified columns. Keys can either\n",
       "    be column labels or column indices.\n",
       "true_values : list, optional\n",
       "    Values to consider as ``True`` in addition to case-insensitive variants of 'True'.\n",
       "false_values : list, optional\n",
       "    Values to consider as ``False`` in addition to case-insensitive variants of 'False'.\n",
       "skipinitialspace : bool, default False\n",
       "    Skip spaces after delimiter.\n",
       "skiprows : int, list of int or Callable, optional\n",
       "    Line numbers to skip (0-indexed) or number of lines to skip (``int``)\n",
       "    at the start of the file.\n",
       "\n",
       "    If callable, the callable function will be evaluated against the row\n",
       "    indices, returning ``True`` if the row should be skipped and ``False`` otherwise.\n",
       "    An example of a valid callable argument would be ``lambda x: x in [0, 2]``.\n",
       "skipfooter : int, default 0\n",
       "    Number of lines at bottom of file to skip (Unsupported with ``engine='c'``).\n",
       "nrows : int, optional\n",
       "    Number of rows of file to read. Useful for reading pieces of large files.\n",
       "na_values : Hashable, Iterable of Hashable or dict of {Hashable : Iterable}, optional\n",
       "    Additional strings to recognize as ``NA``/``NaN``. If ``dict`` passed, specific\n",
       "    per-column ``NA`` values.  By default the following values are interpreted as\n",
       "    ``NaN``: \" \", \"#N/A\", \"#N/A N/A\", \"#NA\", \"-1.#IND\", \"-1.#QNAN\", \"-NaN\", \"-nan\",\n",
       "    \"1.#IND\", \"1.#QNAN\", \"<NA>\", \"N/A\", \"NA\", \"NULL\", \"NaN\", \"None\",\n",
       "    \"n/a\", \"nan\", \"null \".\n",
       "\n",
       "keep_default_na : bool, default True\n",
       "    Whether or not to include the default ``NaN`` values when parsing the data.\n",
       "    Depending on whether ``na_values`` is passed in, the behavior is as follows:\n",
       "\n",
       "    * If ``keep_default_na`` is ``True``, and ``na_values`` are specified, ``na_values``\n",
       "      is appended to the default ``NaN`` values used for parsing.\n",
       "    * If ``keep_default_na`` is ``True``, and ``na_values`` are not specified, only\n",
       "      the default ``NaN`` values are used for parsing.\n",
       "    * If ``keep_default_na`` is ``False``, and ``na_values`` are specified, only\n",
       "      the ``NaN`` values specified ``na_values`` are used for parsing.\n",
       "    * If ``keep_default_na`` is ``False``, and ``na_values`` are not specified, no\n",
       "      strings will be parsed as ``NaN``.\n",
       "\n",
       "    Note that if ``na_filter`` is passed in as ``False``, the ``keep_default_na`` and\n",
       "    ``na_values`` parameters will be ignored.\n",
       "na_filter : bool, default True\n",
       "    Detect missing value markers (empty strings and the value of ``na_values``). In\n",
       "    data without any ``NA`` values, passing ``na_filter=False`` can improve the\n",
       "    performance of reading a large file.\n",
       "verbose : bool, default False\n",
       "    Indicate number of ``NA`` values placed in non-numeric columns.\n",
       "skip_blank_lines : bool, default True\n",
       "    If ``True``, skip over blank lines rather than interpreting as ``NaN`` values.\n",
       "parse_dates : bool, list of Hashable, list of lists or dict of {Hashable : list}, default False\n",
       "    The behavior is as follows:\n",
       "\n",
       "    * ``bool``. If ``True`` -> try parsing the index.\n",
       "    * ``list`` of ``int`` or names. e.g. If ``[1, 2, 3]`` -> try parsing columns 1, 2, 3\n",
       "      each as a separate date column.\n",
       "    * ``list`` of ``list``. e.g.  If ``[[1, 3]]`` -> combine columns 1 and 3 and parse\n",
       "      as a single date column.\n",
       "    * ``dict``, e.g. ``{'foo' : [1, 3]}`` -> parse columns 1, 3 as date and call\n",
       "      result 'foo'\n",
       "\n",
       "    If a column or index cannot be represented as an array of ``datetime``,\n",
       "    say because of an unparsable value or a mixture of timezones, the column\n",
       "    or index will be returned unaltered as an ``object`` data type. For\n",
       "    non-standard ``datetime`` parsing, use :func:`~pandas.to_datetime` after\n",
       "    :func:`~pandas.read_csv`.\n",
       "\n",
       "    Note: A fast-path exists for iso8601-formatted dates.\n",
       "infer_datetime_format : bool, default False\n",
       "    If ``True`` and ``parse_dates`` is enabled, pandas will attempt to infer the\n",
       "    format of the ``datetime`` strings in the columns, and if it can be inferred,\n",
       "    switch to a faster method of parsing them. In some cases this can increase\n",
       "    the parsing speed by 5-10x.\n",
       "\n",
       "    .. deprecated:: 2.0.0\n",
       "        A strict version of this argument is now the default, passing it has no effect.\n",
       "\n",
       "keep_date_col : bool, default False\n",
       "    If ``True`` and ``parse_dates`` specifies combining multiple columns then\n",
       "    keep the original columns.\n",
       "date_parser : Callable, optional\n",
       "    Function to use for converting a sequence of string columns to an array of\n",
       "    ``datetime`` instances. The default uses ``dateutil.parser.parser`` to do the\n",
       "    conversion. pandas will try to call ``date_parser`` in three different ways,\n",
       "    advancing to the next if an exception occurs: 1) Pass one or more arrays\n",
       "    (as defined by ``parse_dates``) as arguments; 2) concatenate (row-wise) the\n",
       "    string values from the columns defined by ``parse_dates`` into a single array\n",
       "    and pass that; and 3) call ``date_parser`` once for each row using one or\n",
       "    more strings (corresponding to the columns defined by ``parse_dates``) as\n",
       "    arguments.\n",
       "\n",
       "    .. deprecated:: 2.0.0\n",
       "       Use ``date_format`` instead, or read in as ``object`` and then apply\n",
       "       :func:`~pandas.to_datetime` as-needed.\n",
       "date_format : str or dict of column -> format, optional\n",
       "   Format to use for parsing dates when used in conjunction with ``parse_dates``.\n",
       "   For anything more complex, please read in as ``object`` and then apply\n",
       "   :func:`~pandas.to_datetime` as-needed.\n",
       "\n",
       "   .. versionadded:: 2.0.0\n",
       "dayfirst : bool, default False\n",
       "    DD/MM format dates, international and European format.\n",
       "cache_dates : bool, default True\n",
       "    If ``True``, use a cache of unique, converted dates to apply the ``datetime``\n",
       "    conversion. May produce significant speed-up when parsing duplicate\n",
       "    date strings, especially ones with timezone offsets.\n",
       "\n",
       "iterator : bool, default False\n",
       "    Return ``TextFileReader`` object for iteration or getting chunks with\n",
       "    ``get_chunk()``.\n",
       "\n",
       "    .. versionchanged:: 1.2\n",
       "\n",
       "       ``TextFileReader`` is a context manager.\n",
       "chunksize : int, optional\n",
       "    Number of lines to read from the file per chunk. Passing a value will cause the\n",
       "    function to return a ``TextFileReader`` object for iteration.\n",
       "    See the `IO Tools docs\n",
       "    <https://pandas.pydata.org/pandas-docs/stable/io.html#io-chunking>`_\n",
       "    for more information on ``iterator`` and ``chunksize``.\n",
       "\n",
       "    .. versionchanged:: 1.2\n",
       "\n",
       "       ``TextFileReader`` is a context manager.\n",
       "compression : str or dict, default 'infer'\n",
       "    For on-the-fly decompression of on-disk data. If 'infer' and 'filepath_or_buffer' is\n",
       "    path-like, then detect compression from the following extensions: '.gz',\n",
       "    '.bz2', '.zip', '.xz', '.zst', '.tar', '.tar.gz', '.tar.xz' or '.tar.bz2'\n",
       "    (otherwise no compression).\n",
       "    If using 'zip' or 'tar', the ZIP file must contain only one data file to be read in.\n",
       "    Set to ``None`` for no decompression.\n",
       "    Can also be a dict with key ``'method'`` set\n",
       "    to one of {``'zip'``, ``'gzip'``, ``'bz2'``, ``'zstd'``, ``'xz'``, ``'tar'``} and\n",
       "    other key-value pairs are forwarded to\n",
       "    ``zipfile.ZipFile``, ``gzip.GzipFile``,\n",
       "    ``bz2.BZ2File``, ``zstandard.ZstdDecompressor``, ``lzma.LZMAFile`` or\n",
       "    ``tarfile.TarFile``, respectively.\n",
       "    As an example, the following could be passed for Zstandard decompression using a\n",
       "    custom compression dictionary:\n",
       "    ``compression={'method': 'zstd', 'dict_data': my_compression_dict}``.\n",
       "\n",
       "    .. versionadded:: 1.5.0\n",
       "        Added support for `.tar` files.\n",
       "\n",
       "    .. versionchanged:: 1.4.0 Zstandard support.\n",
       "\n",
       "thousands : str (length 1), optional\n",
       "    Character acting as the thousands separator in numerical values.\n",
       "decimal : str (length 1), default '.'\n",
       "    Character to recognize as decimal point (e.g., use ',' for European data).\n",
       "lineterminator : str (length 1), optional\n",
       "    Character used to denote a line break. Only valid with C parser.\n",
       "quotechar : str (length 1), optional\n",
       "    Character used to denote the start and end of a quoted item. Quoted\n",
       "    items can include the ``delimiter`` and it will be ignored.\n",
       "quoting : {0 or csv.QUOTE_MINIMAL, 1 or csv.QUOTE_ALL, 2 or csv.QUOTE_NONNUMERIC, 3 or csv.QUOTE_NONE}, default csv.QUOTE_MINIMAL\n",
       "    Control field quoting behavior per ``csv.QUOTE_*`` constants. Default is\n",
       "    ``csv.QUOTE_MINIMAL`` (i.e., 0) which implies that only fields containing special\n",
       "    characters are quoted (e.g., characters defined in ``quotechar``, ``delimiter``,\n",
       "    or ``lineterminator``.\n",
       "doublequote : bool, default True\n",
       "   When ``quotechar`` is specified and ``quoting`` is not ``QUOTE_NONE``, indicate\n",
       "   whether or not to interpret two consecutive ``quotechar`` elements INSIDE a\n",
       "   field as a single ``quotechar`` element.\n",
       "escapechar : str (length 1), optional\n",
       "    Character used to escape other characters.\n",
       "comment : str (length 1), optional\n",
       "    Character indicating that the remainder of line should not be parsed.\n",
       "    If found at the beginning\n",
       "    of a line, the line will be ignored altogether. This parameter must be a\n",
       "    single character. Like empty lines (as long as ``skip_blank_lines=True``),\n",
       "    fully commented lines are ignored by the parameter ``header`` but not by\n",
       "    ``skiprows``. For example, if ``comment='#'``, parsing\n",
       "    ``#empty\\na,b,c\\n1,2,3`` with ``header=0`` will result in ``'a,b,c'`` being\n",
       "    treated as the header.\n",
       "encoding : str, optional, default 'utf-8'\n",
       "    Encoding to use for UTF when reading/writing (ex. ``'utf-8'``). `List of Python\n",
       "    standard encodings\n",
       "    <https://docs.python.org/3/library/codecs.html#standard-encodings>`_ .\n",
       "\n",
       "    .. versionchanged:: 1.2\n",
       "\n",
       "       When ``encoding`` is ``None``, ``errors='replace'`` is passed to\n",
       "       ``open()``. Otherwise, ``errors='strict'`` is passed to ``open()``.\n",
       "       This behavior was previously only the case for ``engine='python'``.\n",
       "\n",
       "    .. versionchanged:: 1.3.0\n",
       "\n",
       "       ``encoding_errors`` is a new argument. ``encoding`` has no longer an\n",
       "       influence on how encoding errors are handled.\n",
       "\n",
       "encoding_errors : str, optional, default 'strict'\n",
       "    How encoding errors are treated. `List of possible values\n",
       "    <https://docs.python.org/3/library/codecs.html#error-handlers>`_ .\n",
       "\n",
       "    .. versionadded:: 1.3.0\n",
       "\n",
       "dialect : str or csv.Dialect, optional\n",
       "    If provided, this parameter will override values (default or not) for the\n",
       "    following parameters: ``delimiter``, ``doublequote``, ``escapechar``,\n",
       "    ``skipinitialspace``, ``quotechar``, and ``quoting``. If it is necessary to\n",
       "    override values, a ``ParserWarning`` will be issued. See ``csv.Dialect``\n",
       "    documentation for more details.\n",
       "on_bad_lines : {'error', 'warn', 'skip'} or Callable, default 'error'\n",
       "    Specifies what to do upon encountering a bad line (a line with too many fields).\n",
       "    Allowed values are :\n",
       "\n",
       "    - ``'error'``, raise an Exception when a bad line is encountered.\n",
       "    - ``'warn'``, raise a warning when a bad line is encountered and skip that line.\n",
       "    - ``'skip'``, skip bad lines without raising or warning when they are encountered.\n",
       "\n",
       "    .. versionadded:: 1.3.0\n",
       "\n",
       "    .. versionadded:: 1.4.0\n",
       "\n",
       "        - Callable, function with signature\n",
       "          ``(bad_line: list[str]) -> list[str] | None`` that will process a single\n",
       "          bad line. ``bad_line`` is a list of strings split by the ``sep``.\n",
       "          If the function returns ``None``, the bad line will be ignored.\n",
       "          If the function returns a new ``list`` of strings with more elements than\n",
       "          expected, a ``ParserWarning`` will be emitted while dropping extra elements.\n",
       "          Only supported when ``engine='python'``\n",
       "\n",
       "delim_whitespace : bool, default False\n",
       "    Specifies whether or not whitespace (e.g. ``' '`` or ``'\\t'``) will be\n",
       "    used as the ``sep`` delimiter. Equivalent to setting ``sep='\\s+'``. If this option\n",
       "    is set to ``True``, nothing should be passed in for the ``delimiter``\n",
       "    parameter.\n",
       "low_memory : bool, default True\n",
       "    Internally process the file in chunks, resulting in lower memory use\n",
       "    while parsing, but possibly mixed type inference.  To ensure no mixed\n",
       "    types either set ``False``, or specify the type with the ``dtype`` parameter.\n",
       "    Note that the entire file is read into a single :class:`~pandas.DataFrame`\n",
       "    regardless, use the ``chunksize`` or ``iterator`` parameter to return the data in\n",
       "    chunks. (Only valid with C parser).\n",
       "memory_map : bool, default False\n",
       "    If a filepath is provided for ``filepath_or_buffer``, map the file object\n",
       "    directly onto memory and access the data directly from there. Using this\n",
       "    option can improve performance because there is no longer any I/O overhead.\n",
       "float_precision : {'high', 'legacy', 'round_trip'}, optional\n",
       "    Specifies which converter the C engine should use for floating-point\n",
       "    values. The options are ``None`` or ``'high'`` for the ordinary converter,\n",
       "    ``'legacy'`` for the original lower precision pandas converter, and\n",
       "    ``'round_trip'`` for the round-trip converter.\n",
       "\n",
       "    .. versionchanged:: 1.2\n",
       "\n",
       "storage_options : dict, optional\n",
       "    Extra options that make sense for a particular storage connection, e.g.\n",
       "    host, port, username, password, etc. For HTTP(S) URLs the key-value pairs\n",
       "    are forwarded to ``urllib.request.Request`` as header options. For other\n",
       "    URLs (e.g. starting with \"s3://\", and \"gcs://\") the key-value pairs are\n",
       "    forwarded to ``fsspec.open``. Please see ``fsspec`` and ``urllib`` for more\n",
       "    details, and for more examples on storage options refer `here\n",
       "    <https://pandas.pydata.org/docs/user_guide/io.html?\n",
       "    highlight=storage_options#reading-writing-remote-files>`_.\n",
       "\n",
       "    .. versionadded:: 1.2\n",
       "\n",
       "dtype_backend : {'numpy_nullable', 'pyarrow'}, default 'numpy_nullable'\n",
       "    Back-end data type applied to the resultant :class:`DataFrame`\n",
       "    (still experimental). Behaviour is as follows:\n",
       "\n",
       "    * ``\"numpy_nullable\"``: returns nullable-dtype-backed :class:`DataFrame`\n",
       "      (default).\n",
       "    * ``\"pyarrow\"``: returns pyarrow-backed nullable :class:`ArrowDtype`\n",
       "      DataFrame.\n",
       "\n",
       "    .. versionadded:: 2.0\n",
       "\n",
       "Returns\n",
       "-------\n",
       "DataFrame or TextFileReader\n",
       "    A comma-separated values (csv) file is returned as two-dimensional\n",
       "    data structure with labeled axes.\n",
       "\n",
       "See Also\n",
       "--------\n",
       "DataFrame.to_csv : Write DataFrame to a comma-separated values (csv) file.\n",
       "read_table : Read general delimited file into DataFrame.\n",
       "read_fwf : Read a table of fixed-width formatted lines into DataFrame.\n",
       "\n",
       "Examples\n",
       "--------\n",
       ">>> pd.read_csv('data.csv')  # doctest: +SKIP\n",
       "\u001b[1;31mFile:\u001b[0m      c:\\users\\matthias\\anaconda3\\envs\\env312\\lib\\site-packages\\pandas\\io\\parsers\\readers.py\n",
       "\u001b[1;31mType:\u001b[0m      function"
      ]
     },
     "metadata": {},
     "output_type": "display_data"
    }
   ],
   "source": [
    "pd.read_csv?"
   ]
  },
  {
   "cell_type": "code",
   "execution_count": 12,
   "id": "f76049fe-3fd7-4ddc-94c9-124c10065ba8",
   "metadata": {
    "collapsed": true,
    "jupyter": {
     "outputs_hidden": true
    },
    "tags": []
   },
   "outputs": [
    {
     "data": {
      "text/plain": [
       "\u001b[1;31mSignature:\u001b[0m\n",
       "\u001b[0mplt\u001b[0m\u001b[1;33m.\u001b[0m\u001b[0mplot\u001b[0m\u001b[1;33m(\u001b[0m\u001b[1;33m\n",
       "\u001b[0m    \u001b[1;33m*\u001b[0m\u001b[0margs\u001b[0m\u001b[1;33m:\u001b[0m \u001b[1;34m'float | ArrayLike | str'\u001b[0m\u001b[1;33m,\u001b[0m\u001b[1;33m\n",
       "\u001b[0m    \u001b[0mscalex\u001b[0m\u001b[1;33m:\u001b[0m \u001b[1;34m'bool'\u001b[0m \u001b[1;33m=\u001b[0m \u001b[1;32mTrue\u001b[0m\u001b[1;33m,\u001b[0m\u001b[1;33m\n",
       "\u001b[0m    \u001b[0mscaley\u001b[0m\u001b[1;33m:\u001b[0m \u001b[1;34m'bool'\u001b[0m \u001b[1;33m=\u001b[0m \u001b[1;32mTrue\u001b[0m\u001b[1;33m,\u001b[0m\u001b[1;33m\n",
       "\u001b[0m    \u001b[0mdata\u001b[0m\u001b[1;33m=\u001b[0m\u001b[1;32mNone\u001b[0m\u001b[1;33m,\u001b[0m\u001b[1;33m\n",
       "\u001b[0m    \u001b[1;33m**\u001b[0m\u001b[0mkwargs\u001b[0m\u001b[1;33m,\u001b[0m\u001b[1;33m\n",
       "\u001b[0m\u001b[1;33m)\u001b[0m \u001b[1;33m->\u001b[0m \u001b[1;34m'list[Line2D]'\u001b[0m\u001b[1;33m\u001b[0m\u001b[1;33m\u001b[0m\u001b[0m\n",
       "\u001b[1;31mDocstring:\u001b[0m\n",
       "Plot y versus x as lines and/or markers.\n",
       "\n",
       "Call signatures::\n",
       "\n",
       "    plot([x], y, [fmt], *, data=None, **kwargs)\n",
       "    plot([x], y, [fmt], [x2], y2, [fmt2], ..., **kwargs)\n",
       "\n",
       "The coordinates of the points or line nodes are given by *x*, *y*.\n",
       "\n",
       "The optional parameter *fmt* is a convenient way for defining basic\n",
       "formatting like color, marker and linestyle. It's a shortcut string\n",
       "notation described in the *Notes* section below.\n",
       "\n",
       ">>> plot(x, y)        # plot x and y using default line style and color\n",
       ">>> plot(x, y, 'bo')  # plot x and y using blue circle markers\n",
       ">>> plot(y)           # plot y using x as index array 0..N-1\n",
       ">>> plot(y, 'r+')     # ditto, but with red plusses\n",
       "\n",
       "You can use `.Line2D` properties as keyword arguments for more\n",
       "control on the appearance. Line properties and *fmt* can be mixed.\n",
       "The following two calls yield identical results:\n",
       "\n",
       ">>> plot(x, y, 'go--', linewidth=2, markersize=12)\n",
       ">>> plot(x, y, color='green', marker='o', linestyle='dashed',\n",
       "...      linewidth=2, markersize=12)\n",
       "\n",
       "When conflicting with *fmt*, keyword arguments take precedence.\n",
       "\n",
       "\n",
       "**Plotting labelled data**\n",
       "\n",
       "There's a convenient way for plotting objects with labelled data (i.e.\n",
       "data that can be accessed by index ``obj['y']``). Instead of giving\n",
       "the data in *x* and *y*, you can provide the object in the *data*\n",
       "parameter and just give the labels for *x* and *y*::\n",
       "\n",
       ">>> plot('xlabel', 'ylabel', data=obj)\n",
       "\n",
       "All indexable objects are supported. This could e.g. be a `dict`, a\n",
       "`pandas.DataFrame` or a structured numpy array.\n",
       "\n",
       "\n",
       "**Plotting multiple sets of data**\n",
       "\n",
       "There are various ways to plot multiple sets of data.\n",
       "\n",
       "- The most straight forward way is just to call `plot` multiple times.\n",
       "  Example:\n",
       "\n",
       "  >>> plot(x1, y1, 'bo')\n",
       "  >>> plot(x2, y2, 'go')\n",
       "\n",
       "- If *x* and/or *y* are 2D arrays a separate data set will be drawn\n",
       "  for every column. If both *x* and *y* are 2D, they must have the\n",
       "  same shape. If only one of them is 2D with shape (N, m) the other\n",
       "  must have length N and will be used for every data set m.\n",
       "\n",
       "  Example:\n",
       "\n",
       "  >>> x = [1, 2, 3]\n",
       "  >>> y = np.array([[1, 2], [3, 4], [5, 6]])\n",
       "  >>> plot(x, y)\n",
       "\n",
       "  is equivalent to:\n",
       "\n",
       "  >>> for col in range(y.shape[1]):\n",
       "  ...     plot(x, y[:, col])\n",
       "\n",
       "- The third way is to specify multiple sets of *[x]*, *y*, *[fmt]*\n",
       "  groups::\n",
       "\n",
       "  >>> plot(x1, y1, 'g^', x2, y2, 'g-')\n",
       "\n",
       "  In this case, any additional keyword argument applies to all\n",
       "  datasets. Also, this syntax cannot be combined with the *data*\n",
       "  parameter.\n",
       "\n",
       "By default, each line is assigned a different style specified by a\n",
       "'style cycle'. The *fmt* and line property parameters are only\n",
       "necessary if you want explicit deviations from these defaults.\n",
       "Alternatively, you can also change the style cycle using\n",
       ":rc:`axes.prop_cycle`.\n",
       "\n",
       "\n",
       "Parameters\n",
       "----------\n",
       "x, y : array-like or scalar\n",
       "    The horizontal / vertical coordinates of the data points.\n",
       "    *x* values are optional and default to ``range(len(y))``.\n",
       "\n",
       "    Commonly, these parameters are 1D arrays.\n",
       "\n",
       "    They can also be scalars, or two-dimensional (in that case, the\n",
       "    columns represent separate data sets).\n",
       "\n",
       "    These arguments cannot be passed as keywords.\n",
       "\n",
       "fmt : str, optional\n",
       "    A format string, e.g. 'ro' for red circles. See the *Notes*\n",
       "    section for a full description of the format strings.\n",
       "\n",
       "    Format strings are just an abbreviation for quickly setting\n",
       "    basic line properties. All of these and more can also be\n",
       "    controlled by keyword arguments.\n",
       "\n",
       "    This argument cannot be passed as keyword.\n",
       "\n",
       "data : indexable object, optional\n",
       "    An object with labelled data. If given, provide the label names to\n",
       "    plot in *x* and *y*.\n",
       "\n",
       "    .. note::\n",
       "        Technically there's a slight ambiguity in calls where the\n",
       "        second label is a valid *fmt*. ``plot('n', 'o', data=obj)``\n",
       "        could be ``plt(x, y)`` or ``plt(y, fmt)``. In such cases,\n",
       "        the former interpretation is chosen, but a warning is issued.\n",
       "        You may suppress the warning by adding an empty format string\n",
       "        ``plot('n', 'o', '', data=obj)``.\n",
       "\n",
       "Returns\n",
       "-------\n",
       "list of `.Line2D`\n",
       "    A list of lines representing the plotted data.\n",
       "\n",
       "Other Parameters\n",
       "----------------\n",
       "scalex, scaley : bool, default: True\n",
       "    These parameters determine if the view limits are adapted to the\n",
       "    data limits. The values are passed on to\n",
       "    `~.axes.Axes.autoscale_view`.\n",
       "\n",
       "**kwargs : `~matplotlib.lines.Line2D` properties, optional\n",
       "    *kwargs* are used to specify properties like a line label (for\n",
       "    auto legends), linewidth, antialiasing, marker face color.\n",
       "    Example::\n",
       "\n",
       "    >>> plot([1, 2, 3], [1, 2, 3], 'go-', label='line 1', linewidth=2)\n",
       "    >>> plot([1, 2, 3], [1, 4, 9], 'rs', label='line 2')\n",
       "\n",
       "    If you specify multiple lines with one plot call, the kwargs apply\n",
       "    to all those lines. In case the label object is iterable, each\n",
       "    element is used as labels for each set of data.\n",
       "\n",
       "    Here is a list of available `.Line2D` properties:\n",
       "\n",
       "    Properties:\n",
       "    agg_filter: a filter function, which takes a (m, n, 3) float array and a dpi value, and returns a (m, n, 3) array and two offsets from the bottom left corner of the image\n",
       "    alpha: scalar or None\n",
       "    animated: bool\n",
       "    antialiased or aa: bool\n",
       "    clip_box: `~matplotlib.transforms.BboxBase` or None\n",
       "    clip_on: bool\n",
       "    clip_path: Patch or (Path, Transform) or None\n",
       "    color or c: color\n",
       "    dash_capstyle: `.CapStyle` or {'butt', 'projecting', 'round'}\n",
       "    dash_joinstyle: `.JoinStyle` or {'miter', 'round', 'bevel'}\n",
       "    dashes: sequence of floats (on/off ink in points) or (None, None)\n",
       "    data: (2, N) array or two 1D arrays\n",
       "    drawstyle or ds: {'default', 'steps', 'steps-pre', 'steps-mid', 'steps-post'}, default: 'default'\n",
       "    figure: `~matplotlib.figure.Figure`\n",
       "    fillstyle: {'full', 'left', 'right', 'bottom', 'top', 'none'}\n",
       "    gapcolor: color or None\n",
       "    gid: str\n",
       "    in_layout: bool\n",
       "    label: object\n",
       "    linestyle or ls: {'-', '--', '-.', ':', '', (offset, on-off-seq), ...}\n",
       "    linewidth or lw: float\n",
       "    marker: marker style string, `~.path.Path` or `~.markers.MarkerStyle`\n",
       "    markeredgecolor or mec: color\n",
       "    markeredgewidth or mew: float\n",
       "    markerfacecolor or mfc: color\n",
       "    markerfacecoloralt or mfcalt: color\n",
       "    markersize or ms: float\n",
       "    markevery: None or int or (int, int) or slice or list[int] or float or (float, float) or list[bool]\n",
       "    mouseover: bool\n",
       "    path_effects: list of `.AbstractPathEffect`\n",
       "    picker: float or callable[[Artist, Event], tuple[bool, dict]]\n",
       "    pickradius: float\n",
       "    rasterized: bool\n",
       "    sketch_params: (scale: float, length: float, randomness: float)\n",
       "    snap: bool or None\n",
       "    solid_capstyle: `.CapStyle` or {'butt', 'projecting', 'round'}\n",
       "    solid_joinstyle: `.JoinStyle` or {'miter', 'round', 'bevel'}\n",
       "    transform: unknown\n",
       "    url: str\n",
       "    visible: bool\n",
       "    xdata: 1D array\n",
       "    ydata: 1D array\n",
       "    zorder: float\n",
       "\n",
       "See Also\n",
       "--------\n",
       "scatter : XY scatter plot with markers of varying size and/or color (\n",
       "    sometimes also called bubble chart).\n",
       "\n",
       "Notes\n",
       "-----\n",
       "**Format Strings**\n",
       "\n",
       "A format string consists of a part for color, marker and line::\n",
       "\n",
       "    fmt = '[marker][line][color]'\n",
       "\n",
       "Each of them is optional. If not provided, the value from the style\n",
       "cycle is used. Exception: If ``line`` is given, but no ``marker``,\n",
       "the data will be a line without markers.\n",
       "\n",
       "Other combinations such as ``[color][marker][line]`` are also\n",
       "supported, but note that their parsing may be ambiguous.\n",
       "\n",
       "**Markers**\n",
       "\n",
       "=============   ===============================\n",
       "character       description\n",
       "=============   ===============================\n",
       "``'.'``         point marker\n",
       "``','``         pixel marker\n",
       "``'o'``         circle marker\n",
       "``'v'``         triangle_down marker\n",
       "``'^'``         triangle_up marker\n",
       "``'<'``         triangle_left marker\n",
       "``'>'``         triangle_right marker\n",
       "``'1'``         tri_down marker\n",
       "``'2'``         tri_up marker\n",
       "``'3'``         tri_left marker\n",
       "``'4'``         tri_right marker\n",
       "``'8'``         octagon marker\n",
       "``'s'``         square marker\n",
       "``'p'``         pentagon marker\n",
       "``'P'``         plus (filled) marker\n",
       "``'*'``         star marker\n",
       "``'h'``         hexagon1 marker\n",
       "``'H'``         hexagon2 marker\n",
       "``'+'``         plus marker\n",
       "``'x'``         x marker\n",
       "``'X'``         x (filled) marker\n",
       "``'D'``         diamond marker\n",
       "``'d'``         thin_diamond marker\n",
       "``'|'``         vline marker\n",
       "``'_'``         hline marker\n",
       "=============   ===============================\n",
       "\n",
       "**Line Styles**\n",
       "\n",
       "=============    ===============================\n",
       "character        description\n",
       "=============    ===============================\n",
       "``'-'``          solid line style\n",
       "``'--'``         dashed line style\n",
       "``'-.'``         dash-dot line style\n",
       "``':'``          dotted line style\n",
       "=============    ===============================\n",
       "\n",
       "Example format strings::\n",
       "\n",
       "    'b'    # blue markers with default shape\n",
       "    'or'   # red circles\n",
       "    '-g'   # green solid line\n",
       "    '--'   # dashed line with default color\n",
       "    '^k:'  # black triangle_up markers connected by a dotted line\n",
       "\n",
       "**Colors**\n",
       "\n",
       "The supported color abbreviations are the single letter codes\n",
       "\n",
       "=============    ===============================\n",
       "character        color\n",
       "=============    ===============================\n",
       "``'b'``          blue\n",
       "``'g'``          green\n",
       "``'r'``          red\n",
       "``'c'``          cyan\n",
       "``'m'``          magenta\n",
       "``'y'``          yellow\n",
       "``'k'``          black\n",
       "``'w'``          white\n",
       "=============    ===============================\n",
       "\n",
       "and the ``'CN'`` colors that index into the default property cycle.\n",
       "\n",
       "If the color is the only part of the format string, you can\n",
       "additionally use any  `matplotlib.colors` spec, e.g. full names\n",
       "(``'green'``) or hex strings (``'#008000'``).\n",
       "\u001b[1;31mFile:\u001b[0m      c:\\users\\matthias\\anaconda3\\envs\\env312\\lib\\site-packages\\matplotlib\\pyplot.py\n",
       "\u001b[1;31mType:\u001b[0m      function"
      ]
     },
     "metadata": {},
     "output_type": "display_data"
    }
   ],
   "source": [
    "plt.plot?"
   ]
  },
  {
   "cell_type": "code",
   "execution_count": 13,
   "id": "40384546-8f93-43af-80a7-4b73f17bd0f2",
   "metadata": {},
   "outputs": [
    {
     "data": {
      "text/plain": [
       "[]"
      ]
     },
     "execution_count": 13,
     "metadata": {},
     "output_type": "execute_result"
    },
    {
     "data": {
      "image/png": "[encoded data removed]",
      "text/plain": [
       "<Figure size 640x480 with 1 Axes>"
      ]
     },
     "metadata": {},
     "output_type": "display_data"
    }
   ],
   "source": [
    "plt.plot(toto=3) # passe\n",
    "# plt.plot([1,2,3], toto=3) # passe pas"
   ]
  },
  {
   "cell_type": "markdown",
   "id": "7c06de40-a849-43bd-9e6c-a7b117b4e922",
   "metadata": {},
   "source": [
    "### variadic args"
   ]
  },
  {
   "cell_type": "code",
   "execution_count": 14,
   "id": "33847f0c-afa1-413a-a6b9-da264d953ce6",
   "metadata": {},
   "outputs": [],
   "source": [
    "def h(a, *args, d=0, **kwargs):\n",
    "    \"\"\" h function\n",
    "    \n",
    "    Arguments:\n",
    "    - a: positional required argument\n",
    "    - args: positional arguments (0 to n)\n",
    "    - d: nb (default 0)\n",
    "    - color: color of .. (default 'yellow')\n",
    "    \"\"\"\n",
    "    print(f\"arg a: value = {a} ; type = {type(a)}\")\n",
    "    print(f\"arg args: value = {args} ; type = {type(args)}\")\n",
    "    for arg in args:\n",
    "        print(f\"\\t-arg: value = {arg} ; type = {type(arg)}\")\n",
    "    print(f\"arg d: value = {d} ; type = {type(d)}\")\n",
    "    print(f\"arg kwargs: value = {kwargs} ; type = {type(kwargs)}\")\n",
    "    opt_color = kwargs['color'] if 'color' in kwargs else 'yellow'\n",
    "    print(f\"arg opt_color: value = {opt_color} ; type = {type(opt_color)}\")\n",
    "    \n",
    "    "
   ]
  },
  {
   "cell_type": "code",
   "execution_count": 15,
   "id": "c7a4dfaa-d3ed-48af-a298-36f51e09a475",
   "metadata": {},
   "outputs": [
    {
     "data": {
      "text/plain": [
       "\u001b[1;31mSignature:\u001b[0m \u001b[0mh\u001b[0m\u001b[1;33m(\u001b[0m\u001b[0ma\u001b[0m\u001b[1;33m,\u001b[0m \u001b[1;33m*\u001b[0m\u001b[0margs\u001b[0m\u001b[1;33m,\u001b[0m \u001b[0md\u001b[0m\u001b[1;33m=\u001b[0m\u001b[1;36m0\u001b[0m\u001b[1;33m,\u001b[0m \u001b[1;33m**\u001b[0m\u001b[0mkwargs\u001b[0m\u001b[1;33m)\u001b[0m\u001b[1;33m\u001b[0m\u001b[1;33m\u001b[0m\u001b[0m\n",
       "\u001b[1;31mDocstring:\u001b[0m\n",
       "h function\n",
       "\n",
       "Arguments:\n",
       "- a: positional required argument\n",
       "- args: positional arguments (0 to n)\n",
       "- d: nb (default 0)\n",
       "- color: color of .. (default 'yellow')\n",
       "\u001b[1;31mFile:\u001b[0m      c:\\users\\matthias\\appdata\\local\\temp\\ipykernel_10160\\2720133015.py\n",
       "\u001b[1;31mType:\u001b[0m      function"
      ]
     },
     "metadata": {},
     "output_type": "display_data"
    }
   ],
   "source": [
    "h?"
   ]
  },
  {
   "cell_type": "code",
   "execution_count": 16,
   "id": "6ccaecd5-e7df-471f-9b67-818ad0f66fbf",
   "metadata": {},
   "outputs": [
    {
     "name": "stdout",
     "output_type": "stream",
     "text": [
      "Help on function h in module __main__:\n",
      "\n",
      "h(a, *args, d=0, **kwargs)\n",
      "    h function\n",
      "\n",
      "    Arguments:\n",
      "    - a: positional required argument\n",
      "    - args: positional arguments (0 to n)\n",
      "    - d: nb (default 0)\n",
      "    - color: color of .. (default 'yellow')\n",
      "\n"
     ]
    }
   ],
   "source": [
    "help(h)"
   ]
  },
  {
   "cell_type": "code",
   "execution_count": 17,
   "id": "481238a4-b2c4-493d-8043-ed0bde7e6dfc",
   "metadata": {},
   "outputs": [
    {
     "name": "stdout",
     "output_type": "stream",
     "text": [
      "arg a: value = 1 ; type = <class 'int'>\n",
      "arg args: value = (2, 3) ; type = <class 'tuple'>\n",
      "\t-arg: value = 2 ; type = <class 'int'>\n",
      "\t-arg: value = 3 ; type = <class 'int'>\n",
      "arg d: value = 0 ; type = <class 'int'>\n",
      "arg kwargs: value = {} ; type = <class 'dict'>\n",
      "arg opt_color: value = yellow ; type = <class 'str'>\n"
     ]
    }
   ],
   "source": [
    "h(1,2,3)"
   ]
  },
  {
   "cell_type": "code",
   "execution_count": 18,
   "id": "c0ea6f46-4fec-4a83-8b84-95413f1f4c69",
   "metadata": {},
   "outputs": [
    {
     "name": "stdout",
     "output_type": "stream",
     "text": [
      "arg a: value = 1 ; type = <class 'int'>\n",
      "arg args: value = (2, 3) ; type = <class 'tuple'>\n",
      "\t-arg: value = 2 ; type = <class 'int'>\n",
      "\t-arg: value = 3 ; type = <class 'int'>\n",
      "arg d: value = 0 ; type = <class 'int'>\n",
      "arg kwargs: value = {'color': 'red', 'city': 'Toulouse'} ; type = <class 'dict'>\n",
      "arg opt_color: value = red ; type = <class 'str'>\n"
     ]
    }
   ],
   "source": [
    "h(1,2,3, color='red', city='Toulouse')"
   ]
  },
  {
   "cell_type": "code",
   "execution_count": 19,
   "id": "2c201bb3-cbcc-4caf-9f44-bf9f794d364f",
   "metadata": {},
   "outputs": [
    {
     "name": "stdout",
     "output_type": "stream",
     "text": [
      "arg a: value = 1 ; type = <class 'int'>\n",
      "arg args: value = (2, 3) ; type = <class 'tuple'>\n",
      "\t-arg: value = 2 ; type = <class 'int'>\n",
      "\t-arg: value = 3 ; type = <class 'int'>\n",
      "arg d: value = 45 ; type = <class 'int'>\n",
      "arg kwargs: value = {'color': 'red', 'city': 'Toulouse'} ; type = <class 'dict'>\n",
      "arg opt_color: value = red ; type = <class 'str'>\n"
     ]
    }
   ],
   "source": [
    "h(1,2,3, color='red', d=45, city='Toulouse')"
   ]
  },
  {
   "cell_type": "code",
   "execution_count": 20,
   "id": "77659ef3-94a9-472e-adf2-f34320eaeef9",
   "metadata": {},
   "outputs": [],
   "source": [
    "def h_strict(a, *args, d=0, **kwargs):\n",
    "    \"\"\" h_strict function\n",
    "    \n",
    "    Arguments:\n",
    "    - a: positional required argument\n",
    "    - args: positional arguments (0 to n)\n",
    "    - d: nb (default 0)\n",
    "    - color: color of .. (default 'yellow')\n",
    "    - city: city to go (default 'Toulouse')\n",
    "    \n",
    "    Raises:\n",
    "    - NotImplementedError if arg is unknown\n",
    "    \"\"\"\n",
    "    print(f\"arg a: value = {a} ; type = {type(a)}\")\n",
    "    print(f\"arg args: value = {args} ; type = {type(args)}\")\n",
    "    for arg in args:\n",
    "        print(f\"\\t-arg: value = {arg} ; type = {type(arg)}\")\n",
    "    print(f\"arg d: value = {d} ; type = {type(d)}\")\n",
    "    print(f\"arg kwargs: value = {kwargs} ; type = {type(kwargs)}\")\n",
    "    opt_color = 'yellow'\n",
    "    opt_city = 'Toulouse'\n",
    "    for arg_name, arg_value in kwargs.items():\n",
    "        match arg_name:\n",
    "            case 'color': \n",
    "                opt_color = arg_value\n",
    "            case 'city':\n",
    "                opt_city = arg_value\n",
    "            case _:\n",
    "                raise NotImplementedError(f\"Argument unknown: {arg_name}\")\n",
    "    print(f\"arg opt_color: value = {opt_color} ; type = {type(opt_color)}\")\n",
    "    print(f\"arg opt_city: value = {opt_city} ; type = {type(opt_city)}\")"
   ]
  },
  {
   "cell_type": "code",
   "execution_count": 21,
   "id": "3eca67b5-6162-49f3-8946-a14d4120352d",
   "metadata": {},
   "outputs": [
    {
     "name": "stdout",
     "output_type": "stream",
     "text": [
      "arg a: value = 1 ; type = <class 'int'>\n",
      "arg args: value = () ; type = <class 'tuple'>\n",
      "arg d: value = 0 ; type = <class 'int'>\n",
      "arg kwargs: value = {} ; type = <class 'dict'>\n",
      "arg opt_color: value = yellow ; type = <class 'str'>\n",
      "arg opt_city: value = Toulouse ; type = <class 'str'>\n"
     ]
    }
   ],
   "source": [
    "h_strict(1)"
   ]
  },
  {
   "cell_type": "code",
   "execution_count": 22,
   "id": "5b153bc8-98b6-43b0-bad9-97dff14bd511",
   "metadata": {},
   "outputs": [
    {
     "name": "stdout",
     "output_type": "stream",
     "text": [
      "arg a: value = 1 ; type = <class 'int'>\n",
      "arg args: value = () ; type = <class 'tuple'>\n",
      "arg d: value = 0 ; type = <class 'int'>\n",
      "arg kwargs: value = {'color': 'red'} ; type = <class 'dict'>\n",
      "arg opt_color: value = red ; type = <class 'str'>\n",
      "arg opt_city: value = Toulouse ; type = <class 'str'>\n"
     ]
    }
   ],
   "source": [
    "h_strict(1, color='red')"
   ]
  },
  {
   "cell_type": "code",
   "execution_count": 23,
   "id": "4f415dce-5b77-420a-8769-654bddc813c2",
   "metadata": {},
   "outputs": [
    {
     "name": "stdout",
     "output_type": "stream",
     "text": [
      "arg a: value = 1 ; type = <class 'int'>\n",
      "arg args: value = () ; type = <class 'tuple'>\n",
      "arg d: value = 0 ; type = <class 'int'>\n",
      "arg kwargs: value = {'city': 'Pau', 'color': 'red'} ; type = <class 'dict'>\n",
      "arg opt_color: value = red ; type = <class 'str'>\n",
      "arg opt_city: value = Pau ; type = <class 'str'>\n"
     ]
    }
   ],
   "source": [
    "h_strict(1, city='Pau', color='red')"
   ]
  },
  {
   "cell_type": "code",
   "execution_count": 24,
   "id": "04cbdbbb-a6b6-44cf-81ef-89318aba1dd5",
   "metadata": {},
   "outputs": [
    {
     "name": "stdout",
     "output_type": "stream",
     "text": [
      "arg a: value = 1 ; type = <class 'int'>\n",
      "arg args: value = () ; type = <class 'tuple'>\n",
      "arg d: value = 0 ; type = <class 'int'>\n",
      "arg kwargs: value = {'city': 'Pau', 'color': 'red', 'by': 'train'} ; type = <class 'dict'>\n",
      "Appel interdit: Argument unknown: by\n"
     ]
    }
   ],
   "source": [
    "try:\n",
    "    h_strict(1, city='Pau', color='red', by='train')\n",
    "except NotImplementedError as e:\n",
    "    print(\"Appel interdit:\", e)"
   ]
  },
  {
   "cell_type": "markdown",
   "id": "3b02734e-a68d-4abd-a861-e88442884b97",
   "metadata": {},
   "source": [
    "### call function unpacking sequence or dict"
   ]
  },
  {
   "cell_type": "code",
   "execution_count": 25,
   "id": "ff9d7a93-4943-455d-bb04-61dc389545e4",
   "metadata": {},
   "outputs": [],
   "source": [
    "l = [1, 2, 3]\n",
    "params = {\n",
    "    'd': 4,\n",
    "    'color': 'blue',\n",
    "    'city': 'Bayonne'\n",
    "}"
   ]
  },
  {
   "cell_type": "code",
   "execution_count": 26,
   "id": "70630c3c-f71c-4927-b8ba-20d4b2eac09e",
   "metadata": {},
   "outputs": [
    {
     "name": "stdout",
     "output_type": "stream",
     "text": [
      "arg a: value = 1 ; type = <class 'int'>\n",
      "arg args: value = (2, 3) ; type = <class 'tuple'>\n",
      "\t-arg: value = 2 ; type = <class 'int'>\n",
      "\t-arg: value = 3 ; type = <class 'int'>\n",
      "arg d: value = 4 ; type = <class 'int'>\n",
      "arg kwargs: value = {'color': 'blue', 'city': 'Bayonne'} ; type = <class 'dict'>\n",
      "arg opt_color: value = blue ; type = <class 'str'>\n",
      "arg opt_city: value = Bayonne ; type = <class 'str'>\n"
     ]
    }
   ],
   "source": [
    "h_strict(*l, **params)"
   ]
  },
  {
   "cell_type": "code",
   "execution_count": 27,
   "id": "8d58f161-a216-4b16-ba4e-b11f930895b7",
   "metadata": {},
   "outputs": [
    {
     "name": "stdout",
     "output_type": "stream",
     "text": [
      "arg a: value = -1 ; type = <class 'int'>\n",
      "arg args: value = (0, 1, 2, 3) ; type = <class 'tuple'>\n",
      "\t-arg: value = 0 ; type = <class 'int'>\n",
      "\t-arg: value = 1 ; type = <class 'int'>\n",
      "\t-arg: value = 2 ; type = <class 'int'>\n",
      "\t-arg: value = 3 ; type = <class 'int'>\n",
      "arg d: value = 4 ; type = <class 'int'>\n",
      "arg kwargs: value = {'by': 'train', 'color': 'blue', 'city': 'Bayonne'} ; type = <class 'dict'>\n",
      "arg opt_color: value = blue ; type = <class 'str'>\n"
     ]
    }
   ],
   "source": [
    "h(-1, 0, *l, by='train', **params)"
   ]
  },
  {
   "cell_type": "markdown",
   "id": "d112a6b4-13b7-40c2-a5c9-5deffd4bf607",
   "metadata": {},
   "source": [
    "### Exemples"
   ]
  },
  {
   "cell_type": "markdown",
   "id": "64706e4d-0d7c-451d-9841-6ea436a33b40",
   "metadata": {},
   "source": [
    "#### zip"
   ]
  },
  {
   "cell_type": "code",
   "execution_count": 28,
   "id": "29b9f2d8-d0fc-478e-941b-b013c8fabd1f",
   "metadata": {},
   "outputs": [
    {
     "data": {
      "text/plain": [
       "[('Toulouse', 470000),\n",
       " ('Pau', 77000),\n",
       " ('Bayonne', 49000),\n",
       " ('Strasbourg', 500000),\n",
       " ('Montpellier', 311000),\n",
       " ('Marseille', 900000)]"
      ]
     },
     "execution_count": 28,
     "metadata": {},
     "output_type": "execute_result"
    }
   ],
   "source": [
    "cities = ['Toulouse', 'Pau', 'Bayonne', 'Strasbourg', 'Montpellier', 'Marseille']\n",
    "pop = (470_000, 77_000, 49_000, 500_000, 311_000, 900_000, 1_000_000_000_000) # one extra value\n",
    "cities_pop_lazy = zip(cities, pop) # lazy object\n",
    "cities_pop = list(cities_pop_lazy)\n",
    "cities_pop"
   ]
  },
  {
   "cell_type": "code",
   "execution_count": 29,
   "id": "efe33d94-c813-46d7-b89d-32b787a8513a",
   "metadata": {},
   "outputs": [
    {
     "data": {
      "text/plain": [
       "[]"
      ]
     },
     "execution_count": 29,
     "metadata": {},
     "output_type": "execute_result"
    }
   ],
   "source": [
    "list(zip())"
   ]
  },
  {
   "cell_type": "code",
   "execution_count": 30,
   "id": "c3903991-8fcc-470d-b4f4-1242d42293a0",
   "metadata": {},
   "outputs": [
    {
     "data": {
      "text/plain": [
       "[('Toulouse',),\n",
       " ('Pau',),\n",
       " ('Bayonne',),\n",
       " ('Strasbourg',),\n",
       " ('Montpellier',),\n",
       " ('Marseille',)]"
      ]
     },
     "execution_count": 30,
     "metadata": {},
     "output_type": "execute_result"
    }
   ],
   "source": [
    "list(zip(cities))"
   ]
  },
  {
   "cell_type": "markdown",
   "id": "5e8ffe30-1540-42e0-8258-17f27d3c5831",
   "metadata": {},
   "source": [
    "#### random (numpy)"
   ]
  },
  {
   "cell_type": "code",
   "execution_count": 31,
   "id": "3cc64000-77c2-4cc3-917b-74fd93da421a",
   "metadata": {},
   "outputs": [
    {
     "data": {
      "text/plain": [
       "array([ 5.46443936,  7.4892905 ,  5.03146072, ...,  8.41369771,\n",
       "        8.37208311, 10.18797752])"
      ]
     },
     "execution_count": 31,
     "metadata": {},
     "output_type": "execute_result"
    }
   ],
   "source": [
    "np.random.normal(10, 4, 1_000_000)"
   ]
  },
  {
   "cell_type": "code",
   "execution_count": 32,
   "id": "f0ff49ce-98c4-4744-98c5-f99b9a57ca88",
   "metadata": {},
   "outputs": [
    {
     "data": {
      "text/plain": [
       "array([1.21044291e+01, 2.42362954e-03, 4.91303070e+00, ...,\n",
       "       1.16873132e+01, 8.68310673e+00, 4.60719214e+00])"
      ]
     },
     "execution_count": 32,
     "metadata": {},
     "output_type": "execute_result"
    }
   ],
   "source": [
    "np.random.normal(10, 4, (1_000_000,))"
   ]
  },
  {
   "cell_type": "code",
   "execution_count": 33,
   "id": "0ddd0cc2-2caf-4454-9a36-e17fa3893b7d",
   "metadata": {},
   "outputs": [
    {
     "data": {
      "text/plain": [
       "array([[ 6.81808545, 16.43070309, 15.43821124, ..., 11.97217639,\n",
       "         9.6595066 , 11.55717135],\n",
       "       [ 5.27628314,  5.72937383, 11.49136206, ..., 10.84949122,\n",
       "         7.93430383, 12.89032975],\n",
       "       [ 8.93436845,  6.99077046,  2.77916673, ...,  9.76384315,\n",
       "        18.22632125,  1.84345892],\n",
       "       ...,\n",
       "       [ 2.85542663,  9.94509024,  9.20005744, ..., 18.05344389,\n",
       "        12.28330151, 12.23949056],\n",
       "       [11.46769006, 10.27495917,  6.9415985 , ...,  9.68710688,\n",
       "         6.43093886, 13.99612341],\n",
       "       [ 9.08558761, 21.22773153, 14.40937529, ..., 14.16748224,\n",
       "        12.28769373, 17.38820859]])"
      ]
     },
     "execution_count": 33,
     "metadata": {},
     "output_type": "execute_result"
    }
   ],
   "source": [
    "np.random.normal(10, 4, (1_000, 1_000))"
   ]
  },
  {
   "cell_type": "code",
   "execution_count": 34,
   "id": "a3b9d941-b7b7-4e80-b2c5-138eeb4f55a1",
   "metadata": {},
   "outputs": [
    {
     "data": {
      "text/plain": [
       "12"
      ]
     },
     "execution_count": 34,
     "metadata": {},
     "output_type": "execute_result"
    }
   ],
   "source": [
    "((((((((12))))))))"
   ]
  },
  {
   "cell_type": "code",
   "execution_count": 35,
   "id": "df1a6517-1af6-44e1-a73d-f7790ae17b25",
   "metadata": {},
   "outputs": [
    {
     "data": {
      "text/plain": [
       "(12,)"
      ]
     },
     "execution_count": 35,
     "metadata": {},
     "output_type": "execute_result"
    }
   ],
   "source": [
    "((((((((12)))),))))"
   ]
  },
  {
   "cell_type": "markdown",
   "id": "e0792953-8229-4ed6-b7b1-407ea257fa4f",
   "metadata": {},
   "source": [
    "## Iterable, iterator, generator, comprehension"
   ]
  },
  {
   "cell_type": "code",
   "execution_count": 36,
   "id": "9410d0c6-3347-446f-8e55-29d9b22690c2",
   "metadata": {},
   "outputs": [
    {
     "data": {
      "text/plain": [
       "list"
      ]
     },
     "execution_count": 36,
     "metadata": {},
     "output_type": "execute_result"
    }
   ],
   "source": [
    "type(cities)"
   ]
  },
  {
   "cell_type": "code",
   "execution_count": 37,
   "id": "4f569480-f973-4e1c-838e-45d01ac27081",
   "metadata": {},
   "outputs": [],
   "source": [
    "# object iterable by duck typing\n",
    "assert '__iter__' in dir(list)\n",
    "assert '__iter__' in dir(cities)"
   ]
  },
  {
   "cell_type": "code",
   "execution_count": 38,
   "id": "3a7d7f05-bea3-476a-9e45-be12c498f6b7",
   "metadata": {},
   "outputs": [],
   "source": [
    "assert isinstance(cities, (list, Iterable, object))"
   ]
  },
  {
   "cell_type": "code",
   "execution_count": 39,
   "id": "b4d486d1-a8f0-41a3-a61c-810ec2199e44",
   "metadata": {},
   "outputs": [],
   "source": [
    "assert not isinstance(cities, Iterator)"
   ]
  },
  {
   "cell_type": "code",
   "execution_count": 47,
   "id": "7bddd92b-8828-42d7-80b3-d45482a24933",
   "metadata": {},
   "outputs": [
    {
     "data": {
      "text/plain": [
       "<list_iterator at 0x1b7db160070>"
      ]
     },
     "execution_count": 47,
     "metadata": {},
     "output_type": "execute_result"
    }
   ],
   "source": [
    "it = iter(cities)\n",
    "it"
   ]
  },
  {
   "cell_type": "code",
   "execution_count": 48,
   "id": "6c7a258f-5789-489e-8b5c-0482b441f619",
   "metadata": {},
   "outputs": [],
   "source": [
    "assert isinstance(it, (Iterator, Iterable, object))"
   ]
  },
  {
   "cell_type": "code",
   "execution_count": 49,
   "id": "f883a12e-2588-4e9c-a29e-fa9f96edac10",
   "metadata": {},
   "outputs": [],
   "source": [
    "# iter(2) # TypeError: 'int' object is not iterable"
   ]
  },
  {
   "cell_type": "code",
   "execution_count": 50,
   "id": "d92863b8-9999-4a97-a156-73a329fa24d9",
   "metadata": {},
   "outputs": [
    {
     "data": {
      "text/plain": [
       "True"
      ]
     },
     "execution_count": 50,
     "metadata": {},
     "output_type": "execute_result"
    }
   ],
   "source": [
    "it2 = iter(it)\n",
    "it2 is it"
   ]
  },
  {
   "cell_type": "code",
   "execution_count": 51,
   "id": "227a3810-8dfc-4472-afa9-f0f18cfb8ee7",
   "metadata": {},
   "outputs": [
    {
     "data": {
      "text/plain": [
       "[('a', 'Toulouse'),\n",
       " ('b', 'Pau'),\n",
       " ('c', 'Bayonne'),\n",
       " ('d', 'Strasbourg'),\n",
       " ('e', 'Montpellier'),\n",
       " ('f', 'Marseille')]"
      ]
     },
     "execution_count": 51,
     "metadata": {},
     "output_type": "execute_result"
    }
   ],
   "source": [
    "# an iterator is iterable\n",
    "# => call a function with mixed arguments: iterator and iterable\n",
    "list(zip('abcdefg', it))"
   ]
  },
  {
   "cell_type": "code",
   "execution_count": 61,
   "id": "b38471b6-bc3f-4046-a3fd-75b47d0f7fa3",
   "metadata": {},
   "outputs": [],
   "source": [
    "# new iterator\n",
    "it = iter(cities)"
   ]
  },
  {
   "cell_type": "code",
   "execution_count": 62,
   "id": "a883fafd-c304-4b79-ba1d-392de8b976b7",
   "metadata": {},
   "outputs": [
    {
     "data": {
      "text/plain": [
       "'Toulouse'"
      ]
     },
     "execution_count": 62,
     "metadata": {},
     "output_type": "execute_result"
    }
   ],
   "source": [
    "# next value until exception: StopIteration \n",
    "city = next(it)\n",
    "city"
   ]
  },
  {
   "cell_type": "code",
   "execution_count": 64,
   "id": "6a5a9127-f314-4823-b76e-9350825bb1c1",
   "metadata": {},
   "outputs": [
    {
     "name": "stdout",
     "output_type": "stream",
     "text": [
      "Toulouse\n",
      "Pau\n",
      "Bayonne\n",
      "Strasbourg\n",
      "Montpellier\n",
      "Marseille\n"
     ]
    }
   ],
   "source": [
    "# iter implicit\n",
    "for city in cities:\n",
    "    print(city)"
   ]
  },
  {
   "cell_type": "code",
   "execution_count": 68,
   "id": "220ffa0b-d527-462d-8e2c-47a0d08773c0",
   "metadata": {},
   "outputs": [
    {
     "data": {
      "text/plain": [
       "True"
      ]
     },
     "execution_count": 68,
     "metadata": {},
     "output_type": "execute_result"
    }
   ],
   "source": [
    "# in, not in operators\n",
    "'Pau' in cities"
   ]
  },
  {
   "cell_type": "code",
   "execution_count": 67,
   "id": "64c6eb52-1229-4d0e-a82d-1454ba159aad",
   "metadata": {},
   "outputs": [
    {
     "data": {
      "text/plain": [
       "('Bayonne',\n",
       " 'Toulouse',\n",
       " ('Toulouse', 'Pau', 'Bayonne', 'Strasbourg', 'Montpellier', 'Marseille'))"
      ]
     },
     "execution_count": 67,
     "metadata": {},
     "output_type": "execute_result"
    }
   ],
   "source": [
    "# functions: list, tuple, zip, map, filter, sum, min, max, .....\n",
    "min(cities), max(cities), tuple(cities)"
   ]
  },
  {
   "cell_type": "markdown",
   "id": "0212a839-2903-4472-b224-228a58938890",
   "metadata": {},
   "source": [
    "### comprehensions: list, dict, generator"
   ]
  },
  {
   "cell_type": "markdown",
   "id": "b3c4ca7e-0151-421b-bfb5-bdc8188ce6e0",
   "metadata": {},
   "source": [
    "#### list comprehension"
   ]
  },
  {
   "cell_type": "code",
   "execution_count": 70,
   "id": "8993f00a-9b6b-4a4a-ad03-9029dc08de2e",
   "metadata": {},
   "outputs": [
    {
     "data": {
      "text/plain": [
       "['TOULOUSE', 'PAU', 'BAYONNE', 'STRASBOURG', 'MONTPELLIER', 'MARSEILLE']"
      ]
     },
     "execution_count": 70,
     "metadata": {},
     "output_type": "execute_result"
    }
   ],
   "source": [
    "cities_upercase = [ city.upper() for city in cities ]\n",
    "cities_upercase"
   ]
  },
  {
   "cell_type": "code",
   "execution_count": 72,
   "id": "9b863f8d-3209-4c9c-9d7b-488639a21370",
   "metadata": {},
   "outputs": [
    {
     "data": {
      "text/plain": [
       "['TOULOUSE', 'PAU', 'BAYONNE', 'STRASBOURG', 'MONTPELLIER', 'MARSEILLE']"
      ]
     },
     "execution_count": 72,
     "metadata": {},
     "output_type": "execute_result"
    }
   ],
   "source": [
    "cities_uppercase = list(map(str.upper, cities))\n",
    "cities_uppercase"
   ]
  },
  {
   "cell_type": "code",
   "execution_count": 76,
   "id": "129d6543-1225-428a-a144-f56e87b4b2cc",
   "metadata": {},
   "outputs": [
    {
     "data": {
      "text/plain": [
       "['TOU', 'PAU', 'BAY', 'STR', 'MON', 'MAR']"
      ]
     },
     "execution_count": 76,
     "metadata": {},
     "output_type": "execute_result"
    }
   ],
   "source": [
    "cities_abbrev_upercase = [ city[:3].upper() for city in cities ]\n",
    "cities_abbrev_upercase"
   ]
  },
  {
   "cell_type": "code",
   "execution_count": 79,
   "id": "5b8cac59-43fc-4a14-b09b-333a7ec81bd8",
   "metadata": {
    "tags": []
   },
   "outputs": [
    {
     "data": {
      "text/plain": [
       "['TOU', 'PAU', 'BAY', 'STR', 'MON', 'MAR']"
      ]
     },
     "execution_count": 79,
     "metadata": {},
     "output_type": "execute_result"
    }
   ],
   "source": [
    "cities_abbrev_upercase = list(map(lambda city: city[:3].upper(), cities))\n",
    "cities_abbrev_upercase"
   ]
  },
  {
   "cell_type": "markdown",
   "id": "2cec94bf-14f2-40e3-8c48-b774da638936",
   "metadata": {},
   "source": [
    "#### Exo: filtrer les villes commençant par M et les mettres en majuscule\n",
    "- avec comprenhension\n",
    "- avec map/filter builtin functions"
   ]
  },
  {
   "cell_type": "code",
   "execution_count": 83,
   "id": "260d76c1-a865-4652-985b-b182f7f3332c",
   "metadata": {},
   "outputs": [
    {
     "data": {
      "text/plain": [
       "['MONTPELLIER', 'MARSEILLE']"
      ]
     },
     "execution_count": 83,
     "metadata": {},
     "output_type": "execute_result"
    }
   ],
   "source": [
    "cities_M = [ city.upper() for city in cities\n",
    "            if city.startswith('M')]\n",
    "cities_M"
   ]
  },
  {
   "cell_type": "code",
   "execution_count": 80,
   "id": "b5bd1466-cc0e-48ba-8df1-7bc13c7eaf0b",
   "metadata": {},
   "outputs": [
    {
     "data": {
      "text/plain": [
       "['MONTPELLIER', 'MARSEILLE']"
      ]
     },
     "execution_count": 80,
     "metadata": {},
     "output_type": "execute_result"
    }
   ],
   "source": [
    "list(map(lambda city: city.upper() ,filter(lambda city: city[:1] == 'M', cities)))"
   ]
  },
  {
   "cell_type": "markdown",
   "id": "f7f3ccc0-6991-419c-b1de-145a952675f0",
   "metadata": {},
   "source": [
    "#### dict comprehension"
   ]
  },
  {
   "cell_type": "code",
   "execution_count": 84,
   "id": "e9f55b08-c992-4c54-adb0-fb435c1c6ca9",
   "metadata": {},
   "outputs": [
    {
     "data": {
      "text/plain": [
       "{'Toulouse': 8,\n",
       " 'Pau': 3,\n",
       " 'Bayonne': 7,\n",
       " 'Strasbourg': 10,\n",
       " 'Montpellier': 11,\n",
       " 'Marseille': 9}"
      ]
     },
     "execution_count": 84,
     "metadata": {},
     "output_type": "execute_result"
    }
   ],
   "source": [
    "cities_len = { city: len(city) for city in cities }\n",
    "cities_len"
   ]
  },
  {
   "cell_type": "markdown",
   "id": "fe4116ab-3d7e-46c1-9c02-fa43fe2bded8",
   "metadata": {},
   "source": [
    "#### expression for (generator)"
   ]
  },
  {
   "cell_type": "code",
   "execution_count": 85,
   "id": "bf62be94-ed39-4bd8-9d33-83a182e9263f",
   "metadata": {},
   "outputs": [
    {
     "data": {
      "text/plain": [
       "<generator object <genexpr> at 0x000001B7DAAB18A0>"
      ]
     },
     "execution_count": 85,
     "metadata": {},
     "output_type": "execute_result"
    }
   ],
   "source": [
    "g = (len(city) for city in cities)\n",
    "g"
   ]
  },
  {
   "cell_type": "code",
   "execution_count": 88,
   "id": "bc73c7c1-a6e6-4230-a4a7-da410607b420",
   "metadata": {},
   "outputs": [],
   "source": [
    "assert isinstance(g, (Iterable, Iterator))"
   ]
  },
  {
   "cell_type": "code",
   "execution_count": 89,
   "id": "e17d36e3-458e-4e51-b622-df479466f645",
   "metadata": {},
   "outputs": [
    {
     "data": {
      "text/plain": [
       "48"
      ]
     },
     "execution_count": 89,
     "metadata": {},
     "output_type": "execute_result"
    }
   ],
   "source": [
    "sum(g)"
   ]
  },
  {
   "cell_type": "code",
   "execution_count": 90,
   "id": "482f5c72-e084-468a-8354-adf3f2657495",
   "metadata": {},
   "outputs": [
    {
     "data": {
      "text/plain": [
       "0"
      ]
     },
     "execution_count": 90,
     "metadata": {},
     "output_type": "execute_result"
    }
   ],
   "source": [
    "sum(g)"
   ]
  },
  {
   "cell_type": "code",
   "execution_count": 91,
   "id": "e8770038-79ea-4bd9-ba2d-e66faea67b3d",
   "metadata": {},
   "outputs": [
    {
     "data": {
      "text/plain": [
       "48"
      ]
     },
     "execution_count": 91,
     "metadata": {},
     "output_type": "execute_result"
    }
   ],
   "source": [
    "sum(len(city) for city in cities)"
   ]
  },
  {
   "cell_type": "code",
   "execution_count": 95,
   "id": "fbd74889-68f4-4beb-a7a6-7bbbc67b94fa",
   "metadata": {},
   "outputs": [
    {
     "data": {
      "text/plain": [
       "148"
      ]
     },
     "execution_count": 95,
     "metadata": {},
     "output_type": "execute_result"
    }
   ],
   "source": [
    "# 2 args: parenthesis around generator exression are mandatory\n",
    "sum((len(city) for city in cities), start=100)"
   ]
  },
  {
   "cell_type": "code",
   "execution_count": 99,
   "id": "93e71660-376b-424a-8611-a908c40edb51",
   "metadata": {},
   "outputs": [
    {
     "data": {
      "text/plain": [
       "True"
      ]
     },
     "execution_count": 99,
     "metadata": {},
     "output_type": "execute_result"
    }
   ],
   "source": [
    "# y a t il au moins une ville commençant par M ?\n",
    "# NB: any([]) == False, all([]) == True\n",
    "any(map(lambda city : city[:1]==\"M\", cities))"
   ]
  },
  {
   "cell_type": "code",
   "execution_count": 102,
   "id": "c5c27453-3d37-46a6-8c21-3051e4eff62a",
   "metadata": {},
   "outputs": [
    {
     "data": {
      "text/plain": [
       "True"
      ]
     },
     "execution_count": 102,
     "metadata": {},
     "output_type": "execute_result"
    }
   ],
   "source": [
    "any(city[:1]==\"M\" for city in cities)"
   ]
  },
  {
   "cell_type": "code",
   "execution_count": 101,
   "id": "49f65b7f-247f-462d-b5b4-ef5c6d907a18",
   "metadata": {},
   "outputs": [
    {
     "data": {
      "text/plain": [
       "''"
      ]
     },
     "execution_count": 101,
     "metadata": {},
     "output_type": "execute_result"
    }
   ],
   "source": [
    "# ''[0]\n",
    "''[:1]"
   ]
  },
  {
   "cell_type": "markdown",
   "id": "5eddb340-547f-4dff-88b5-638341377581",
   "metadata": {},
   "source": [
    "### generator with yield, yield from"
   ]
  },
  {
   "cell_type": "code",
   "execution_count": 104,
   "id": "c8acfef2-568b-4f77-a764-19e7d193a4d9",
   "metadata": {},
   "outputs": [],
   "source": [
    "def fibo_inf():\n",
    "    a = 0\n",
    "    b = 1\n",
    "    yield a\n",
    "    yield b\n",
    "    while True:\n",
    "        a, b = b, a + b\n",
    "        yield b\n",
    "    "
   ]
  },
  {
   "cell_type": "code",
   "execution_count": 106,
   "id": "929843e3-c6d1-4664-bb2b-d1306608d489",
   "metadata": {},
   "outputs": [
    {
     "name": "stdout",
     "output_type": "stream",
     "text": [
      "fibo(0) = 0\n",
      "fibo(1) = 1\n",
      "fibo(2) = 1\n",
      "fibo(3) = 2\n",
      "fibo(4) = 3\n",
      "fibo(5) = 5\n",
      "fibo(6) = 8\n",
      "fibo(7) = 13\n",
      "fibo(8) = 21\n",
      "fibo(9) = 34\n"
     ]
    }
   ],
   "source": [
    "for i, v in zip(range(10), fibo_inf()):\n",
    "    print(f\"fibo({i}) = {v}\")"
   ]
  },
  {
   "cell_type": "code",
   "execution_count": 107,
   "id": "4c866f93-8ed8-4fe9-a3c2-bbaba66184f1",
   "metadata": {},
   "outputs": [
    {
     "data": {
      "text/plain": [
       "<generator object fibo_inf at 0x000001B7DD513C60>"
      ]
     },
     "execution_count": 107,
     "metadata": {},
     "output_type": "execute_result"
    }
   ],
   "source": [
    "g = fibo_inf()\n",
    "g"
   ]
  },
  {
   "cell_type": "code",
   "execution_count": 124,
   "id": "0cae9c54-53cc-4c0e-a78d-93c5db1768b5",
   "metadata": {},
   "outputs": [
    {
     "data": {
      "text/plain": [
       "[]"
      ]
     },
     "execution_count": 124,
     "metadata": {},
     "output_type": "execute_result"
    }
   ],
   "source": [
    "list(queens(2))"
   ]
  },
  {
   "cell_type": "code",
   "execution_count": 125,
   "id": "4d073f48-9c40-4520-b580-ee08f4b5e210",
   "metadata": {},
   "outputs": [
    {
     "data": {
      "text/plain": [
       "[(0, 4, 7, 5, 2, 6, 1, 3),\n",
       " (0, 5, 7, 2, 6, 3, 1, 4),\n",
       " (0, 6, 3, 5, 7, 1, 4, 2),\n",
       " (0, 6, 4, 7, 1, 3, 5, 2),\n",
       " (1, 3, 5, 7, 2, 0, 6, 4),\n",
       " (1, 4, 6, 3, 0, 7, 5, 2),\n",
       " (1, 4, 6, 0, 2, 7, 5, 3),\n",
       " (1, 5, 0, 6, 3, 7, 2, 4),\n",
       " (1, 5, 7, 2, 0, 3, 6, 4),\n",
       " (1, 6, 2, 5, 7, 4, 0, 3),\n",
       " (1, 6, 4, 7, 0, 3, 5, 2),\n",
       " (1, 7, 5, 0, 2, 4, 6, 3),\n",
       " (2, 0, 6, 4, 7, 1, 3, 5),\n",
       " (2, 4, 1, 7, 0, 6, 3, 5),\n",
       " (2, 4, 1, 7, 5, 3, 6, 0),\n",
       " (2, 4, 6, 0, 3, 1, 7, 5),\n",
       " (2, 4, 7, 3, 0, 6, 1, 5),\n",
       " (2, 5, 3, 0, 7, 4, 6, 1),\n",
       " (2, 5, 3, 1, 7, 4, 6, 0),\n",
       " (2, 5, 1, 4, 7, 0, 6, 3),\n",
       " (2, 5, 1, 6, 4, 0, 7, 3),\n",
       " (2, 5, 1, 6, 0, 3, 7, 4),\n",
       " (2, 5, 7, 1, 3, 0, 6, 4),\n",
       " (2, 5, 7, 0, 4, 6, 1, 3),\n",
       " (2, 5, 7, 0, 3, 6, 4, 1),\n",
       " (2, 6, 1, 7, 4, 0, 3, 5),\n",
       " (2, 6, 1, 7, 5, 3, 0, 4),\n",
       " (2, 7, 3, 6, 0, 5, 1, 4),\n",
       " (3, 1, 4, 7, 5, 0, 2, 6),\n",
       " (3, 1, 6, 4, 0, 7, 5, 2),\n",
       " (3, 1, 6, 2, 5, 7, 0, 4),\n",
       " (3, 1, 6, 2, 5, 7, 4, 0),\n",
       " (3, 1, 7, 4, 6, 0, 2, 5),\n",
       " (3, 1, 7, 5, 0, 2, 4, 6),\n",
       " (3, 0, 4, 7, 5, 2, 6, 1),\n",
       " (3, 0, 4, 7, 1, 6, 2, 5),\n",
       " (3, 5, 0, 4, 1, 7, 2, 6),\n",
       " (3, 5, 7, 1, 6, 0, 2, 4),\n",
       " (3, 5, 7, 2, 0, 6, 4, 1),\n",
       " (3, 6, 2, 7, 1, 4, 0, 5),\n",
       " (3, 6, 0, 7, 4, 1, 5, 2),\n",
       " (3, 6, 4, 2, 0, 5, 7, 1),\n",
       " (3, 6, 4, 1, 5, 0, 2, 7),\n",
       " (3, 7, 0, 2, 5, 1, 6, 4),\n",
       " (3, 7, 0, 4, 6, 1, 5, 2),\n",
       " (3, 7, 4, 2, 0, 6, 1, 5),\n",
       " (4, 1, 3, 5, 7, 2, 0, 6),\n",
       " (4, 1, 3, 6, 2, 7, 5, 0),\n",
       " (4, 1, 5, 0, 6, 3, 7, 2),\n",
       " (4, 1, 7, 0, 3, 6, 2, 5),\n",
       " (4, 2, 0, 5, 7, 1, 3, 6),\n",
       " (4, 2, 0, 6, 1, 7, 5, 3),\n",
       " (4, 2, 7, 3, 6, 0, 5, 1),\n",
       " (4, 0, 3, 5, 7, 1, 6, 2),\n",
       " (4, 0, 7, 3, 1, 6, 2, 5),\n",
       " (4, 0, 7, 5, 2, 6, 1, 3),\n",
       " (4, 6, 3, 0, 2, 7, 5, 1),\n",
       " (4, 6, 0, 3, 1, 7, 5, 2),\n",
       " (4, 6, 0, 2, 7, 5, 3, 1),\n",
       " (4, 6, 1, 3, 7, 0, 2, 5),\n",
       " (4, 6, 1, 5, 2, 0, 3, 7),\n",
       " (4, 6, 1, 5, 2, 0, 7, 3),\n",
       " (4, 7, 3, 0, 2, 5, 1, 6),\n",
       " (4, 7, 3, 0, 6, 1, 5, 2),\n",
       " (5, 1, 6, 0, 3, 7, 4, 2),\n",
       " (5, 1, 6, 0, 2, 4, 7, 3),\n",
       " (5, 2, 4, 6, 0, 3, 1, 7),\n",
       " (5, 2, 4, 7, 0, 3, 1, 6),\n",
       " (5, 2, 0, 6, 4, 7, 1, 3),\n",
       " (5, 2, 0, 7, 4, 1, 3, 6),\n",
       " (5, 2, 0, 7, 3, 1, 6, 4),\n",
       " (5, 2, 6, 3, 0, 7, 1, 4),\n",
       " (5, 2, 6, 1, 3, 7, 0, 4),\n",
       " (5, 2, 6, 1, 7, 4, 0, 3),\n",
       " (5, 3, 1, 7, 4, 6, 0, 2),\n",
       " (5, 3, 0, 4, 7, 1, 6, 2),\n",
       " (5, 3, 6, 0, 2, 4, 1, 7),\n",
       " (5, 3, 6, 0, 7, 1, 4, 2),\n",
       " (5, 0, 4, 1, 7, 2, 6, 3),\n",
       " (5, 7, 1, 3, 0, 6, 4, 2),\n",
       " (6, 1, 3, 0, 7, 4, 2, 5),\n",
       " (6, 1, 5, 2, 0, 3, 7, 4),\n",
       " (6, 2, 0, 5, 7, 4, 1, 3),\n",
       " (6, 2, 7, 1, 4, 0, 5, 3),\n",
       " (6, 3, 1, 4, 7, 0, 2, 5),\n",
       " (6, 3, 1, 7, 5, 0, 2, 4),\n",
       " (6, 4, 2, 0, 5, 7, 1, 3),\n",
       " (6, 0, 2, 7, 5, 3, 1, 4),\n",
       " (7, 1, 3, 0, 6, 4, 2, 5),\n",
       " (7, 1, 4, 2, 0, 6, 3, 5),\n",
       " (7, 2, 0, 5, 1, 4, 6, 3),\n",
       " (7, 3, 0, 2, 5, 1, 6, 4)]"
      ]
     },
     "execution_count": 125,
     "metadata": {},
     "output_type": "execute_result"
    }
   ],
   "source": [
    "list(queens(8))"
   ]
  },
  {
   "cell_type": "code",
   "execution_count": 112,
   "id": "89c17bc7-643f-4c88-8baa-b423abbf3763",
   "metadata": {},
   "outputs": [
    {
     "data": {
      "text/plain": [
       "3"
      ]
     },
     "execution_count": 112,
     "metadata": {},
     "output_type": "execute_result"
    }
   ],
   "source": [
    "next(g)"
   ]
  },
  {
   "cell_type": "code",
   "execution_count": 114,
   "id": "66d24bc2-b2cd-48c2-b62f-3b5443d17a45",
   "metadata": {},
   "outputs": [],
   "source": [
    "# NB: infinite loop\n",
    "# for v in fibo_inf():\n",
    "#     pass"
   ]
  },
  {
   "cell_type": "code",
   "execution_count": 115,
   "id": "87feb093-1aeb-4598-95b8-61595893ecb7",
   "metadata": {},
   "outputs": [],
   "source": [
    "def fibo(max_index):\n",
    "    a = 0\n",
    "    b = 1\n",
    "    if max_index >= 0:\n",
    "        yield a\n",
    "    if max_index >= 1:\n",
    "        yield b\n",
    "    for _ in range(max_index - 1):\n",
    "        a, b = b, a + b\n",
    "        yield b"
   ]
  },
  {
   "cell_type": "code",
   "execution_count": 116,
   "id": "78efced2-fdc5-4190-924a-7e0109302eff",
   "metadata": {},
   "outputs": [
    {
     "data": {
      "text/plain": [
       "[0]"
      ]
     },
     "execution_count": 116,
     "metadata": {},
     "output_type": "execute_result"
    }
   ],
   "source": [
    "list(fibo(0))"
   ]
  },
  {
   "cell_type": "code",
   "execution_count": 117,
   "id": "4433f539-e2af-4967-8f40-2a22cc1bd1b3",
   "metadata": {},
   "outputs": [
    {
     "data": {
      "text/plain": [
       "[0, 1]"
      ]
     },
     "execution_count": 117,
     "metadata": {},
     "output_type": "execute_result"
    }
   ],
   "source": [
    "list(fibo(1))"
   ]
  },
  {
   "cell_type": "code",
   "execution_count": 118,
   "id": "121f4e01-ef0b-47be-9e9d-e8e8c4153da3",
   "metadata": {},
   "outputs": [
    {
     "data": {
      "text/plain": [
       "[0, 1, 1]"
      ]
     },
     "execution_count": 118,
     "metadata": {},
     "output_type": "execute_result"
    }
   ],
   "source": [
    "list(fibo(2))"
   ]
  },
  {
   "cell_type": "code",
   "execution_count": 119,
   "id": "b552130a-f1c3-4527-a4e4-697969f217f9",
   "metadata": {},
   "outputs": [
    {
     "data": {
      "text/plain": [
       "[0, 1, 1, 2, 3, 5, 8, 13, 21, 34, 55]"
      ]
     },
     "execution_count": 119,
     "metadata": {},
     "output_type": "execute_result"
    }
   ],
   "source": [
    "list(fibo(10))"
   ]
  },
  {
   "cell_type": "code",
   "execution_count": 121,
   "id": "ab8e2dcc-90ac-4449-84e5-0dd59d42ed98",
   "metadata": {},
   "outputs": [],
   "source": [
    "# StopIteration: 12 call to next for a generator of 11 values\n",
    "\n",
    "# g = fibo(10)\n",
    "# l = list(g)\n",
    "# next(g)"
   ]
  },
  {
   "cell_type": "markdown",
   "id": "6dad0d57-521f-49c7-b118-97738f501fe4",
   "metadata": {},
   "source": [
    "### Atelier Iteration Carré Magique"
   ]
  },
  {
   "cell_type": "code",
   "execution_count": 128,
   "id": "a31b7844-8757-4da4-9ff5-4b8e972e14d3",
   "metadata": {},
   "outputs": [],
   "source": [
    "def magic_sum(n):\n",
    "    return n*(n**2+1) // 2"
   ]
  },
  {
   "cell_type": "code",
   "execution_count": 130,
   "id": "95d7a726-195e-4c52-a2fc-cf55aacc3405",
   "metadata": {},
   "outputs": [
    {
     "data": {
      "text/plain": [
       "(15, 870)"
      ]
     },
     "execution_count": 130,
     "metadata": {},
     "output_type": "execute_result"
    }
   ],
   "source": [
    "magic_sum(3), magic_sum(12)"
   ]
  },
  {
   "cell_type": "code",
   "execution_count": 135,
   "id": "171a63ba-b14c-412d-a5f6-e6e9955e5bad",
   "metadata": {},
   "outputs": [
    {
     "data": {
      "text/plain": [
       "[[8, 1, 6], [7, 5, 3], [4, 9, 2]]"
      ]
     },
     "execution_count": 135,
     "metadata": {},
     "output_type": "execute_result"
    }
   ],
   "source": [
    "square = square_ko_col\n",
    "n = len(square)\n",
    "square"
   ]
  },
  {
   "cell_type": "code",
   "execution_count": 134,
   "id": "b56a3ae3-7a85-4ad5-acd4-9e22e55c7efb",
   "metadata": {},
   "outputs": [
    {
     "name": "stdout",
     "output_type": "stream",
     "text": [
      "[8, 1, 6] 15\n",
      "[7, 5, 3] 15\n",
      "[4, 9, 2] 15\n"
     ]
    }
   ],
   "source": [
    "for row in square:\n",
    "    print(row, sum(row))"
   ]
  },
  {
   "cell_type": "code",
   "execution_count": 136,
   "id": "a5d12501-f090-44ff-a377-85d4958d41e9",
   "metadata": {},
   "outputs": [
    {
     "data": {
      "text/plain": [
       "[8, 7, 4]"
      ]
     },
     "execution_count": 136,
     "metadata": {},
     "output_type": "execute_result"
    }
   ],
   "source": [
    "# column 0\n",
    "[ square[i][0] for i in range(n) ]"
   ]
  },
  {
   "cell_type": "code",
   "execution_count": 138,
   "id": "323edeaf-c2ba-496a-9fc6-9d81af919330",
   "metadata": {},
   "outputs": [
    {
     "name": "stdout",
     "output_type": "stream",
     "text": [
      "[8, 7, 4] 19\n",
      "[1, 5, 9] 15\n",
      "[6, 3, 2] 11\n"
     ]
    }
   ],
   "source": [
    "# all columns\n",
    "for j in range(n):\n",
    "    col = [ square[i][j] for i in range(n) ]\n",
    "    print(col, sum(col))"
   ]
  },
  {
   "cell_type": "code",
   "execution_count": 139,
   "id": "71cee8ab-3975-48c1-a33e-f87faaa3d75d",
   "metadata": {},
   "outputs": [
    {
     "data": {
      "text/plain": [
       "[[8, 7, 4], [1, 5, 9], [6, 3, 2]]"
      ]
     },
     "execution_count": 139,
     "metadata": {},
     "output_type": "execute_result"
    }
   ],
   "source": [
    "[[ square[i][j] for i in range(n) ] for j in range(n)]"
   ]
  },
  {
   "cell_type": "code",
   "execution_count": 141,
   "id": "75af5b12-32fa-4ab3-a19a-653aa5d2a289",
   "metadata": {},
   "outputs": [
    {
     "data": {
      "text/plain": [
       "[8, 5, 2]"
      ]
     },
     "execution_count": 141,
     "metadata": {},
     "output_type": "execute_result"
    }
   ],
   "source": [
    "# main diagonal\n",
    "[ square[i][i] for i in range(n) ]"
   ]
  },
  {
   "cell_type": "code",
   "execution_count": 144,
   "id": "fa3dec79-7996-403c-b7b7-e2fcb96008b7",
   "metadata": {},
   "outputs": [
    {
     "data": {
      "text/plain": [
       "[6, 5, 4]"
      ]
     },
     "execution_count": 144,
     "metadata": {},
     "output_type": "execute_result"
    }
   ],
   "source": [
    "# diagonal of symetric square\n",
    "[ square[i][-i - 1] for i in range(n) ]"
   ]
  },
  {
   "cell_type": "code",
   "execution_count": 145,
   "id": "e1196696-fd2c-4eed-a6a6-d3f5e008b2c9",
   "metadata": {},
   "outputs": [],
   "source": [
    "rows = [row for row in square]\n",
    "columns = [[ square[i][j] for i in range(n) ] for j in range(n)]\n",
    "diags = [\n",
    "    [ square[i][i] for i in range(n) ],\n",
    "    [ square[i][-i - 1] for i in range(n) ]\n",
    "]"
   ]
  },
  {
   "cell_type": "code",
   "execution_count": 146,
   "id": "c7eb3869-b028-43c9-8bf3-402344654872",
   "metadata": {},
   "outputs": [
    {
     "data": {
      "text/plain": [
       "[15, 15, 15]"
      ]
     },
     "execution_count": 146,
     "metadata": {},
     "output_type": "execute_result"
    }
   ],
   "source": [
    "[ sum(values) for values in rows ]"
   ]
  },
  {
   "cell_type": "code",
   "execution_count": 147,
   "id": "50e58be4-d3e0-4033-8692-c102a6961aca",
   "metadata": {},
   "outputs": [
    {
     "data": {
      "text/plain": [
       "[19, 15, 11]"
      ]
     },
     "execution_count": 147,
     "metadata": {},
     "output_type": "execute_result"
    }
   ],
   "source": [
    "[ sum(values) for values in columns ]"
   ]
  },
  {
   "cell_type": "code",
   "execution_count": 148,
   "id": "137b3af9-5d9d-4682-8be4-78a8aadd3d6b",
   "metadata": {},
   "outputs": [
    {
     "data": {
      "text/plain": [
       "[15, 15]"
      ]
     },
     "execution_count": 148,
     "metadata": {},
     "output_type": "execute_result"
    }
   ],
   "source": [
    "[ sum(values) for values in diags ]"
   ]
  },
  {
   "cell_type": "code",
   "execution_count": 149,
   "id": "9d905ce5-9c00-41c3-b851-1c7ffbc5085d",
   "metadata": {},
   "outputs": [
    {
     "data": {
      "text/plain": [
       "[15, 15, 15, 19, 15, 11, 15, 15]"
      ]
     },
     "execution_count": 149,
     "metadata": {},
     "output_type": "execute_result"
    }
   ],
   "source": [
    "# solution with intermediate list (! memory peak)\n",
    "[ sum(values) for values in rows + columns + diags ]"
   ]
  },
  {
   "cell_type": "code",
   "execution_count": 151,
   "id": "52ad1eaf-b6a8-4d9c-a096-c5bcda203ca2",
   "metadata": {},
   "outputs": [
    {
     "data": {
      "text/plain": [
       "[15, 15, 15, 19, 15, 11, 15, 15]"
      ]
     },
     "execution_count": 151,
     "metadata": {},
     "output_type": "execute_result"
    }
   ],
   "source": [
    "[ sum(values) for values in itertools.chain(rows, columns, diags) ]"
   ]
  }
 ],
 "metadata": {
  "kernelspec": {
   "display_name": "k312",
   "language": "python",
   "name": "k312"
  },
  "language_info": {
   "codemirror_mode": {
    "name": "ipython",
    "version": 3
   },
   "file_extension": ".py",
   "mimetype": "text/x-python",
   "name": "python",
   "nbconvert_exporter": "python",
   "pygments_lexer": "ipython3",
   "version": "3.12.0"
  }
 },
 "nbformat": 4,
 "nbformat_minor": 5
}
