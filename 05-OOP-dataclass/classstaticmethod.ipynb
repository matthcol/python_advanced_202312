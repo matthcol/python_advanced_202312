{
 "cells": [
  {
   "cell_type": "markdown",
   "id": "3bf1afd8-75ed-4851-9f6c-8be12c181fae",
   "metadata": {},
   "source": [
    "# Class method, static method"
   ]
  },
  {
   "cell_type": "code",
   "execution_count": 1,
   "id": "8d809c71-1e24-4e34-ab4a-77cfc1d98907",
   "metadata": {},
   "outputs": [],
   "source": [
    "from datetime import datetime, date, time, timedelta"
   ]
  },
  {
   "cell_type": "markdown",
   "id": "ff0443a1-01fe-470b-854f-8257aa466a5f",
   "metadata": {},
   "source": [
    "## call class methods on temporal types"
   ]
  },
  {
   "cell_type": "code",
   "execution_count": 2,
   "id": "e3b95808-fdaa-436a-bc45-78c476ef7678",
   "metadata": {},
   "outputs": [
    {
     "data": {
      "text/plain": [
       "datetime.datetime(2023, 12, 6, 14, 50, 38, 862513)"
      ]
     },
     "execution_count": 2,
     "metadata": {},
     "output_type": "execute_result"
    }
   ],
   "source": [
    "datetime.now()"
   ]
  },
  {
   "cell_type": "code",
   "execution_count": 4,
   "id": "62896e0a-3f2a-41d2-bc5d-034e3dc5e366",
   "metadata": {},
   "outputs": [
    {
     "data": {
      "text/plain": [
       "datetime.date(2023, 12, 6)"
      ]
     },
     "execution_count": 4,
     "metadata": {},
     "output_type": "execute_result"
    }
   ],
   "source": [
    "date.today()"
   ]
  },
  {
   "cell_type": "code",
   "execution_count": 7,
   "id": "c9fa3a22-081b-4f59-8e49-4c322c233339",
   "metadata": {},
   "outputs": [
    {
     "data": {
      "text/plain": [
       "datetime.datetime(2024, 2, 29, 22, 3, 40, 432000)"
      ]
     },
     "execution_count": 7,
     "metadata": {},
     "output_type": "execute_result"
    }
   ],
   "source": [
    "datetime.fromisoformat('2024-02-29 22:03:40.432')"
   ]
  },
  {
   "cell_type": "code",
   "execution_count": 12,
   "id": "e7aef06d-da72-4fb5-8131-92c50f60e150",
   "metadata": {},
   "outputs": [
    {
     "data": {
      "text/plain": [
       "datetime.datetime(2024, 2, 29, 22, 3)"
      ]
     },
     "execution_count": 12,
     "metadata": {},
     "output_type": "execute_result"
    }
   ],
   "source": [
    "datetime.strptime('29/02/2024 22:03', '%d/%m/%Y %H:%M')"
   ]
  },
  {
   "cell_type": "markdown",
   "id": "99ac907e-92ff-4932-aaa0-eeba1a467d00",
   "metadata": {},
   "source": [
    "## call constructor on temporal types"
   ]
  },
  {
   "cell_type": "code",
   "execution_count": 9,
   "id": "1fe701e6-2497-4046-a809-f04a44c0f4cd",
   "metadata": {},
   "outputs": [
    {
     "data": {
      "text/plain": [
       "datetime.datetime(2023, 12, 6, 14, 50)"
      ]
     },
     "execution_count": 9,
     "metadata": {},
     "output_type": "execute_result"
    }
   ],
   "source": [
    "dt = datetime(2023, 12, 6, 14, 50)\n",
    "dt"
   ]
  },
  {
   "cell_type": "code",
   "execution_count": 10,
   "id": "a4470036-f382-4f69-830e-e8ed4079bc10",
   "metadata": {},
   "outputs": [
    {
     "data": {
      "text/plain": [
       "datetime.datetime(2023, 12, 9, 14, 50)"
      ]
     },
     "execution_count": 10,
     "metadata": {},
     "output_type": "execute_result"
    }
   ],
   "source": [
    "dt + timedelta(days=3)"
   ]
  }
 ],
 "metadata": {
  "kernelspec": {
   "display_name": "k312",
   "language": "python",
   "name": "k312"
  },
  "language_info": {
   "codemirror_mode": {
    "name": "ipython",
    "version": 3
   },
   "file_extension": ".py",
   "mimetype": "text/x-python",
   "name": "python",
   "nbconvert_exporter": "python",
   "pygments_lexer": "ipython3",
   "version": "3.12.0"
  }
 },
 "nbformat": 4,
 "nbformat_minor": 5
}
