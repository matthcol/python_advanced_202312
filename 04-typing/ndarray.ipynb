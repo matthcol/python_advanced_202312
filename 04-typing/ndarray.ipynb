{
 "cells": [
  {
   "cell_type": "markdown",
   "id": "949343fb-5511-4493-a5bb-90bb8cc513c1",
   "metadata": {},
   "source": [
    "# Focus on ndarray type"
   ]
  },
  {
   "cell_type": "code",
   "execution_count": 1,
   "id": "3cfc563b-a213-446b-809e-73d1e5370b71",
   "metadata": {},
   "outputs": [],
   "source": [
    "import numpy as np\n",
    "import numpy.typing as npt"
   ]
  },
  {
   "cell_type": "markdown",
   "id": "e0e5c834-2fe7-40c3-a074-ac0803239b94",
   "metadata": {},
   "source": [
    "## Typing ndarrays\n",
    "- np.integer super type of int8, ...., uint64\n",
    "- np.floating super type of float32, ..."
   ]
  },
  {
   "cell_type": "code",
   "execution_count": 10,
   "id": "69f0d505-cdfe-4d0c-ad47-92fc9049b8f3",
   "metadata": {},
   "outputs": [
    {
     "data": {
      "text/plain": [
       "array([[ 3.5778984 ,  9.36779126,  9.79377196, ..., 16.52432954,\n",
       "        10.55792896,  9.59925685],\n",
       "       [ 6.67892914,  2.59447695, 12.44393702, ...,  3.58069913,\n",
       "        10.59004597,  0.87098387],\n",
       "       [12.17709143,  8.44923574, 13.24505018, ..., 19.51648038,\n",
       "        16.40344909,  4.13341405],\n",
       "       ...,\n",
       "       [ 5.61888806, 12.11251555, 11.14663522, ..., -2.90689405,\n",
       "         4.70426458, 17.63071517],\n",
       "       [11.72364193,  2.78377919,  7.10779272, ..., 15.85948528,\n",
       "         6.92047002, 12.59690456],\n",
       "       [ 7.8358548 , 13.64722859,  7.80314739, ...,  9.92595322,\n",
       "        10.7512723 , 13.46745655]])"
      ]
     },
     "execution_count": 10,
     "metadata": {},
     "output_type": "execute_result"
    }
   ],
   "source": [
    "data: npt.NDArray[np.floating] = np.random.normal(10, 5, (10_000,10_000))\n",
    "data"
   ]
  },
  {
   "cell_type": "code",
   "execution_count": 5,
   "id": "11830d21-4cfd-4eda-a507-801c23ed1c9f",
   "metadata": {},
   "outputs": [
    {
     "data": {
      "text/plain": [
       "(9.999912836856355, 5.000010793848019)"
      ]
     },
     "execution_count": 5,
     "metadata": {},
     "output_type": "execute_result"
    }
   ],
   "source": [
    "data.mean(), data.std()"
   ]
  },
  {
   "cell_type": "code",
   "execution_count": 6,
   "id": "b056176f-310c-4f17-bb40-0e2edec85c3c",
   "metadata": {},
   "outputs": [
    {
     "data": {
      "text/plain": [
       "dtype('float64')"
      ]
     },
     "execution_count": 6,
     "metadata": {},
     "output_type": "execute_result"
    }
   ],
   "source": [
    "data.dtype"
   ]
  },
  {
   "cell_type": "markdown",
   "id": "cdcc2728-147c-47ae-9280-1a391fbf7878",
   "metadata": {},
   "source": [
    "## Slots and properties\n",
    "https://docs.python.org/3/library/functions.html#property"
   ]
  },
  {
   "cell_type": "code",
   "execution_count": 12,
   "id": "de56413d-b888-466e-8528-c84b8b501c11",
   "metadata": {},
   "outputs": [],
   "source": [
    "# AttributeError: 'numpy.ndarray' object has no attribute 'city'\n",
    "# data.city = \"Pau\""
   ]
  },
  {
   "cell_type": "code",
   "execution_count": 14,
   "id": "4dba3f02-aaf1-441e-b590-6b8957d5fb55",
   "metadata": {},
   "outputs": [
    {
     "data": {
      "text/plain": [
       "<memory at 0x00000169650F1560>"
      ]
     },
     "execution_count": 14,
     "metadata": {},
     "output_type": "execute_result"
    }
   ],
   "source": [
    "# NB: data attribute is a pointer on memory area of numbers\n",
    "data.data"
   ]
  },
  {
   "cell_type": "code",
   "execution_count": 16,
   "id": "17fa7a6a-d087-441d-954d-c66359b3342a",
   "metadata": {},
   "outputs": [],
   "source": [
    "# AttributeError: Cannot delete array data\n",
    "# del data.data"
   ]
  },
  {
   "cell_type": "code",
   "execution_count": 18,
   "id": "4a7cd3d1-49ca-4c77-a840-02289f43829b",
   "metadata": {},
   "outputs": [],
   "source": [
    "# TypeError: a bytes-like object is required, not 'int'\n",
    "# data.data = 2"
   ]
  },
  {
   "cell_type": "code",
   "execution_count": 20,
   "id": "79c6e780-e0fc-4887-a573-e94bb25fa709",
   "metadata": {},
   "outputs": [
    {
     "data": {
      "text/plain": [
       "array([ 3.5778984 ,  9.36779126,  9.79377196, ...,  9.92595322,\n",
       "       10.7512723 , 13.46745655])"
      ]
     },
     "execution_count": 20,
     "metadata": {},
     "output_type": "execute_result"
    }
   ],
   "source": [
    "data.shape = (10**8,)\n",
    "data"
   ]
  },
  {
   "cell_type": "code",
   "execution_count": 22,
   "id": "6bc19c06-3f76-4741-8420-df6cdb1af0b2",
   "metadata": {},
   "outputs": [],
   "source": [
    "# ValueError: cannot reshape array of size 100000000 into shape (1000,1000,1000)\n",
    "# data.shape = (1000, 1000, 1000)"
   ]
  },
  {
   "cell_type": "markdown",
   "id": "e5599636-af7a-479f-a542-2acf796c1779",
   "metadata": {},
   "source": [
    "## ndarray and subclasses: MaskedArray"
   ]
  },
  {
   "cell_type": "code",
   "execution_count": 23,
   "id": "0cb80046-a0a0-491b-a975-292acd5e1a2f",
   "metadata": {},
   "outputs": [
    {
     "data": {
      "text/plain": [
       "(-17.155860217579438, 40.99584751893339)"
      ]
     },
     "execution_count": 23,
     "metadata": {},
     "output_type": "execute_result"
    }
   ],
   "source": [
    "data.min(), data.max()"
   ]
  },
  {
   "cell_type": "code",
   "execution_count": 29,
   "id": "c9c5bd8d-f828-4368-89ec-439613f6c4a3",
   "metadata": {},
   "outputs": [
    {
     "data": {
      "text/plain": [
       "array([-11.14894038, -10.32070857, -10.76475524, ..., -10.1758062 ,\n",
       "       -10.89142882, -10.48040674])"
      ]
     },
     "execution_count": 29,
     "metadata": {},
     "output_type": "execute_result"
    }
   ],
   "source": [
    "negative_values = data[data < -10]\n",
    "nb = len(negative_values)\n",
    "negative_values"
   ]
  },
  {
   "cell_type": "code",
   "execution_count": 30,
   "id": "cc44d0be-00cd-45e8-adf6-ee94007e46ef",
   "metadata": {},
   "outputs": [
    {
     "data": {
      "text/plain": [
       "(3186, 100000000)"
      ]
     },
     "execution_count": 30,
     "metadata": {},
     "output_type": "execute_result"
    }
   ],
   "source": [
    "nb, len(data)"
   ]
  },
  {
   "cell_type": "code",
   "execution_count": 36,
   "id": "7a77162b-bf7e-4cd5-9e72-d63698d060c3",
   "metadata": {},
   "outputs": [
    {
     "data": {
      "text/plain": [
       "masked_array(data=[3.5778984013407324, 9.367791261979862,\n",
       "                   9.793771961439928, ..., 9.925953222977899,\n",
       "                   10.751272301716293, 13.467456554688457],\n",
       "             mask=[False, False, False, ..., False, False, False],\n",
       "       fill_value=1e+20)"
      ]
     },
     "execution_count": 36,
     "metadata": {},
     "output_type": "execute_result"
    }
   ],
   "source": [
    "data_aboveM10 = np.ma.masked_less(data, -10)\n",
    "data_aboveM10"
   ]
  },
  {
   "cell_type": "code",
   "execution_count": 37,
   "id": "4647d07c-7a19-4d24-a915-136a0f22ca52",
   "metadata": {},
   "outputs": [
    {
     "data": {
      "text/plain": [
       "True"
      ]
     },
     "execution_count": 37,
     "metadata": {},
     "output_type": "execute_result"
    }
   ],
   "source": [
    "isinstance(data_aboveM10, (np.ma.MaskedArray, np.ndarray, object)) "
   ]
  },
  {
   "cell_type": "code",
   "execution_count": 38,
   "id": "ba6a96f5-e6d2-4f7b-900d-369d8962b6a9",
   "metadata": {},
   "outputs": [
    {
     "data": {
      "text/plain": [
       "(-9.999928749564273, 40.99584751893339, 10.001144490201932, 4.998947767826213)"
      ]
     },
     "execution_count": 38,
     "metadata": {},
     "output_type": "execute_result"
    }
   ],
   "source": [
    "data_aboveM10.min(), data_aboveM10.max(), data_aboveM10.mean(), data_aboveM10.std()"
   ]
  },
  {
   "cell_type": "code",
   "execution_count": null,
   "id": "b04541e5-bc68-4660-9933-a76596899ccf",
   "metadata": {},
   "outputs": [],
   "source": []
  }
 ],
 "metadata": {
  "kernelspec": {
   "display_name": "k312",
   "language": "python",
   "name": "k312"
  },
  "language_info": {
   "codemirror_mode": {
    "name": "ipython",
    "version": 3
   },
   "file_extension": ".py",
   "mimetype": "text/x-python",
   "name": "python",
   "nbconvert_exporter": "python",
   "pygments_lexer": "ipython3",
   "version": "3.12.0"
  }
 },
 "nbformat": 4,
 "nbformat_minor": 5
}
