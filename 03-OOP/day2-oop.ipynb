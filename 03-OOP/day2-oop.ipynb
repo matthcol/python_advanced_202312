{
 "cells": [
  {
   "cell_type": "markdown",
   "id": "2da44bd1-42a5-4ad1-91f7-aeb8146482de",
   "metadata": {},
   "source": [
    "# Object Oriented Programming\n",
    "- python 3: all is object, every class inherits from object"
   ]
  },
  {
   "cell_type": "code",
   "execution_count": 50,
   "id": "a7b7f5a0-5ce1-4474-9879-3a7f4659a545",
   "metadata": {},
   "outputs": [],
   "source": [
    "from collections.abc import Iterable\n",
    "import numpy as np\n",
    "from typing import override"
   ]
  },
  {
   "cell_type": "markdown",
   "id": "da79b28c-affa-49ea-bc99-9161339131f4",
   "metadata": {},
   "source": [
    "## class str"
   ]
  },
  {
   "cell_type": "code",
   "execution_count": 5,
   "id": "65449c4c-18fa-40c8-9f7b-50ca34556f6e",
   "metadata": {},
   "outputs": [
    {
     "data": {
      "text/plain": [
       "True"
      ]
     },
     "execution_count": 5,
     "metadata": {},
     "output_type": "execute_result"
    }
   ],
   "source": [
    "city = 'Toulouse'\n",
    "isinstance(city, (str, Iterable, object))"
   ]
  },
  {
   "cell_type": "code",
   "execution_count": 6,
   "id": "cd166bf0-ceb6-4177-8603-a0654c1e7704",
   "metadata": {},
   "outputs": [
    {
     "data": {
      "text/plain": [
       "'TOULOUSE'"
      ]
     },
     "execution_count": 6,
     "metadata": {},
     "output_type": "execute_result"
    }
   ],
   "source": [
    "city.upper()"
   ]
  },
  {
   "cell_type": "code",
   "execution_count": 8,
   "id": "35fb1875-a4b5-4c13-ade6-8c816d702915",
   "metadata": {},
   "outputs": [
    {
     "data": {
      "text/plain": [
       "['T', 'o', 'u', 'l', 'o', 'u', 's', 'e']"
      ]
     },
     "execution_count": 8,
     "metadata": {},
     "output_type": "execute_result"
    }
   ],
   "source": [
    "# call iter => call __iter__ of type str\n",
    "list(city)"
   ]
  },
  {
   "cell_type": "markdown",
   "id": "f864b5c6-f048-4e2b-a948-d88c966a3f8e",
   "metadata": {},
   "source": [
    "## class ndarray"
   ]
  },
  {
   "cell_type": "code",
   "execution_count": 21,
   "id": "1897e6eb-229f-4200-b640-2b96f49143ee",
   "metadata": {},
   "outputs": [
    {
     "data": {
      "text/plain": [
       "array([[ 0. ,  0. ,  0. ,  0. ,  0. ,  0. ,  0. ,  0. ,  0. ,  0. ],\n",
       "       [ 0. ,  0. ,  0. ,  0. ,  0. ,  0. ,  0. ,  0. ,  0. ,  0. ],\n",
       "       [ 0. ,  0. ,  0. ,  0. ,  0. ,  0. ,  0. ,  0. ,  0. ,  0. ],\n",
       "       [ 0. ,  0. ,  0. ,  0. ,  0. ,  0. ,  0. , 12.5,  0. ,  0. ],\n",
       "       [ 0. ,  0. ,  0. ,  0. ,  0. ,  0. ,  0. ,  0. ,  0. ,  0. ],\n",
       "       [ 0. ,  0. ,  0. ,  0. ,  0. ,  0. ,  0. ,  0. ,  0. ,  0. ],\n",
       "       [ 0. ,  0. ,  0. ,  0. ,  0. ,  0. ,  0. ,  0. ,  0. ,  0. ],\n",
       "       [ 0. ,  0. ,  0. ,  0. ,  0. ,  0. ,  0. ,  0. ,  0. ,  0. ],\n",
       "       [ 0. ,  0. ,  0. ,  0. ,  0. ,  0. ,  0. ,  0. ,  0. ,  0. ],\n",
       "       [ 0. ,  0. ,  0. ,  0. ,  0. ,  0. ,  0. ,  0. ,  0. ,  0. ]])"
      ]
     },
     "execution_count": 21,
     "metadata": {},
     "output_type": "execute_result"
    }
   ],
   "source": [
    "m = np.zeros((10, 10))\n",
    "m[3, 7] = 12.5\n",
    "m"
   ]
  },
  {
   "cell_type": "code",
   "execution_count": 22,
   "id": "f6a1c40b-0c50-4782-93c4-2ee67f95a127",
   "metadata": {},
   "outputs": [
    {
     "name": "stdout",
     "output_type": "stream",
     "text": [
      "[[ 0.   0.   0.   0.   0.   0.   0.   0.   0.   0. ]\n",
      " [ 0.   0.   0.   0.   0.   0.   0.   0.   0.   0. ]\n",
      " [ 0.   0.   0.   0.   0.   0.   0.   0.   0.   0. ]\n",
      " [ 0.   0.   0.   0.   0.   0.   0.  12.5  0.   0. ]\n",
      " [ 0.   0.   0.   0.   0.   0.   0.   0.   0.   0. ]\n",
      " [ 0.   0.   0.   0.   0.   0.   0.   0.   0.   0. ]\n",
      " [ 0.   0.   0.   0.   0.   0.   0.   0.   0.   0. ]\n",
      " [ 0.   0.   0.   0.   0.   0.   0.   0.   0.   0. ]\n",
      " [ 0.   0.   0.   0.   0.   0.   0.   0.   0.   0. ]\n",
      " [ 0.   0.   0.   0.   0.   0.   0.   0.   0.   0. ]]\n"
     ]
    }
   ],
   "source": [
    "print(m)"
   ]
  },
  {
   "cell_type": "markdown",
   "id": "5dbe1892-3041-4935-ac04-d51a3bfa6765",
   "metadata": {},
   "source": [
    "## class City (v0)"
   ]
  },
  {
   "cell_type": "code",
   "execution_count": 10,
   "id": "ecfc240b-9278-4437-a343-51756ac87e95",
   "metadata": {},
   "outputs": [],
   "source": [
    "# new class City inherits from class object\n",
    "\n",
    "class City:\n",
    "    pass"
   ]
  },
  {
   "cell_type": "code",
   "execution_count": 12,
   "id": "2ba9c8a1-b58c-4644-8b54-4812a38ab8c8",
   "metadata": {},
   "outputs": [
    {
     "data": {
      "text/plain": [
       "<__main__.City at 0x1c35e058800>"
      ]
     },
     "execution_count": 12,
     "metadata": {},
     "output_type": "execute_result"
    }
   ],
   "source": [
    "c = City()\n",
    "# following line calls repr(c) who calls c.__repr__()\n",
    "c"
   ]
  },
  {
   "cell_type": "code",
   "execution_count": 13,
   "id": "ed50ab4a-efdf-42bc-a162-77b8ea78ad01",
   "metadata": {},
   "outputs": [
    {
     "data": {
      "text/plain": [
       "'<__main__.City object at 0x000001C35E058800>'"
      ]
     },
     "execution_count": 13,
     "metadata": {},
     "output_type": "execute_result"
    }
   ],
   "source": [
    "# impl method for repr (python interactive): for developper\n",
    "c.__repr__()"
   ]
  },
  {
   "cell_type": "code",
   "execution_count": 15,
   "id": "88f2dcac-ab6c-4445-ad3f-38a1eaa8f1bb",
   "metadata": {},
   "outputs": [
    {
     "data": {
      "text/plain": [
       "'<__main__.City object at 0x000001C35E058800>'"
      ]
     },
     "execution_count": 15,
     "metadata": {},
     "output_type": "execute_result"
    }
   ],
   "source": [
    "# impk method for str (print, ..): for end user\n",
    "c.__str__()"
   ]
  },
  {
   "cell_type": "code",
   "execution_count": 24,
   "id": "1f9df8b3-5af8-473a-aa30-4c0d73a60e64",
   "metadata": {},
   "outputs": [
    {
     "data": {
      "text/plain": [
       "True"
      ]
     },
     "execution_count": 24,
     "metadata": {},
     "output_type": "execute_result"
    }
   ],
   "source": [
    "c.__doc__ is None"
   ]
  },
  {
   "cell_type": "code",
   "execution_count": 26,
   "id": "c9a33b6a-4e18-4b63-9b05-cdfd4b9d1df2",
   "metadata": {},
   "outputs": [
    {
     "data": {
      "text/plain": [
       "True"
      ]
     },
     "execution_count": 26,
     "metadata": {},
     "output_type": "execute_result"
    }
   ],
   "source": [
    "c == c # call __eq__"
   ]
  },
  {
   "cell_type": "code",
   "execution_count": 28,
   "id": "7f1f9b97-d274-4afd-bfd0-47b53cb78cd8",
   "metadata": {},
   "outputs": [
    {
     "data": {
      "text/plain": [
       "False"
      ]
     },
     "execution_count": 28,
     "metadata": {},
     "output_type": "execute_result"
    }
   ],
   "source": [
    "c != c # cal __ne__"
   ]
  },
  {
   "cell_type": "code",
   "execution_count": 30,
   "id": "f5caf688-11fb-4f61-8cf6-936b00803d5e",
   "metadata": {},
   "outputs": [
    {
     "data": {
      "text/plain": [
       "NotImplemented"
      ]
     },
     "execution_count": 30,
     "metadata": {},
     "output_type": "execute_result"
    }
   ],
   "source": [
    "# order comparison: __ge__ (>=), __gt__ (>), __le__ (<=), __lt__ (<)\n",
    "# c < c # TypeError: '<' not supported between instances of 'City' and 'City'\n",
    "c.__lt__(c)"
   ]
  },
  {
   "cell_type": "markdown",
   "id": "17dc0ce2-8b59-42a7-9122-2aec144d4a88",
   "metadata": {},
   "source": [
    "## class City with attributes"
   ]
  },
  {
   "cell_type": "code",
   "execution_count": 58,
   "id": "7d51f761-8568-451e-9a8f-6871b75cbff1",
   "metadata": {},
   "outputs": [],
   "source": [
    "class City:\n",
    "    \"\"\"class City representing a city with:\n",
    "    - its name\n",
    "    - its population\n",
    "    - its main zipcode\n",
    "    \"\"\"\n",
    "    \n",
    "    def __init__(self, name=None, population=None, zipcode=None):\n",
    "        self.name = name\n",
    "        self.population = population\n",
    "        self.zipcode = zipcode\n",
    "        \n",
    "    # overrides both __repr__ and __str__ if no override of __str__\n",
    "    @override\n",
    "    def __repr__(self):\n",
    "        return f\"City[name={self.name}, pop={self.population}, zipcode={self.zipcode}]\"\n",
    "    \n",
    "    @override\n",
    "    def __str__(self):\n",
    "        return f\"{self.name} (pop={self.population}, zipcode={self.zipcode})\"\n",
    "    \n",
    "    @override\n",
    "    def __eq__(self, other):\n",
    "        # other is a City (strict with type() or isinstance to accept subclasses)\n",
    "        # other has attributes: name, zipcode, population\n",
    "        if type(other) is not City:\n",
    "            return NotImplemented\n",
    "        return (self.name, self.zipcode) == (other.name, other.zipcode)"
   ]
  },
  {
   "cell_type": "code",
   "execution_count": 59,
   "id": "b7e95fc7-cffe-4911-8140-9d6a3e4944c1",
   "metadata": {},
   "outputs": [
    {
     "data": {
      "text/plain": [
       "[City[name=None, pop=None, zipcode=None],\n",
       " City[name=Toulouse, pop=None, zipcode=None],\n",
       " City[name=Marseille, pop=900000, zipcode=13000],\n",
       " City[name=Pau, pop=77000, zipcode=64000]]"
      ]
     },
     "execution_count": 59,
     "metadata": {},
     "output_type": "execute_result"
    }
   ],
   "source": [
    "# new objects of type City with its constructor => call __init__ (just after __new__)\n",
    "c1 = City()\n",
    "c2 = City('Toulouse')\n",
    "c3 = City('Marseille', 900_000, 13000)\n",
    "c4 = City(name='Pau', population=77_000, zipcode=64000)\n",
    "cities = [ c1, c2, c3, c4 ]\n",
    "cities"
   ]
  },
  {
   "cell_type": "code",
   "execution_count": 60,
   "id": "66bf8d94-1a3d-4142-98d7-6e5176651564",
   "metadata": {},
   "outputs": [
    {
     "name": "stdout",
     "output_type": "stream",
     "text": [
      "None (pop=None, zipcode=None)\n",
      "None, None, None\n",
      "\n",
      "Toulouse (pop=None, zipcode=None)\n",
      "Toulouse, None, None\n",
      "\n",
      "Marseille (pop=900000, zipcode=13000)\n",
      "Marseille, 900000, 13000\n",
      "\n",
      "Pau (pop=77000, zipcode=64000)\n",
      "Pau, 77000, 64000\n",
      "\n"
     ]
    }
   ],
   "source": [
    "for city in cities:\n",
    "    print(city)\n",
    "    print(city.name, city.population, city.zipcode, sep=', ') \n",
    "    print()"
   ]
  },
  {
   "cell_type": "code",
   "execution_count": 61,
   "id": "2e8fe795-929d-4669-92be-1e835201a526",
   "metadata": {},
   "outputs": [
    {
     "name": "stdout",
     "output_type": "stream",
     "text": [
      "Help on class City in module __main__:\n",
      "\n",
      "class City(builtins.object)\n",
      " |  City(name=None, population=None, zipcode=None)\n",
      " |\n",
      " |  class City representing a city with:\n",
      " |  - its name\n",
      " |  - its population\n",
      " |  - its main zipcode\n",
      " |\n",
      " |  Methods defined here:\n",
      " |\n",
      " |  __eq__(self, other)\n",
      " |      Return self==value.\n",
      " |\n",
      " |  __init__(self, name=None, population=None, zipcode=None)\n",
      " |      Initialize self.  See help(type(self)) for accurate signature.\n",
      " |\n",
      " |  __repr__(self)\n",
      " |      Return repr(self).\n",
      " |\n",
      " |  __str__(self)\n",
      " |      Return str(self).\n",
      " |\n",
      " |  ----------------------------------------------------------------------\n",
      " |  Data descriptors defined here:\n",
      " |\n",
      " |  __dict__\n",
      " |      dictionary for instance variables (if defined)\n",
      " |\n",
      " |  __weakref__\n",
      " |      list of weak references to the object (if defined)\n",
      " |\n",
      " |  ----------------------------------------------------------------------\n",
      " |  Data and other attributes defined here:\n",
      " |\n",
      " |  __hash__ = None\n",
      "\n"
     ]
    }
   ],
   "source": [
    "help(City)"
   ]
  },
  {
   "cell_type": "code",
   "execution_count": 62,
   "id": "7587d4e5-d921-44ea-a2cc-2f2a301715f5",
   "metadata": {},
   "outputs": [
    {
     "data": {
      "text/plain": [
       "False"
      ]
     },
     "execution_count": 62,
     "metadata": {},
     "output_type": "execute_result"
    }
   ],
   "source": [
    "c1 == c2"
   ]
  },
  {
   "cell_type": "code",
   "execution_count": 63,
   "id": "5974ddc5-bbbf-40c4-898c-3e9cefc214bf",
   "metadata": {},
   "outputs": [
    {
     "data": {
      "text/plain": [
       "True"
      ]
     },
     "execution_count": 63,
     "metadata": {},
     "output_type": "execute_result"
    }
   ],
   "source": [
    "c3bis = City('Marseille', 900_000, 13000)\n",
    "c3 == c3bis"
   ]
  },
  {
   "cell_type": "code",
   "execution_count": 64,
   "id": "84335454-41ae-47e8-a642-0fe3065bf07f",
   "metadata": {},
   "outputs": [
    {
     "data": {
      "text/plain": [
       "False"
      ]
     },
     "execution_count": 64,
     "metadata": {},
     "output_type": "execute_result"
    }
   ],
   "source": [
    "c3 == 'Toulouse'"
   ]
  },
  {
   "cell_type": "code",
   "execution_count": null,
   "id": "259b3e4f-8479-4784-b4c1-d21a4527ee8d",
   "metadata": {},
   "outputs": [],
   "source": []
  }
 ],
 "metadata": {
  "kernelspec": {
   "display_name": "k312",
   "language": "python",
   "name": "k312"
  },
  "language_info": {
   "codemirror_mode": {
    "name": "ipython",
    "version": 3
   },
   "file_extension": ".py",
   "mimetype": "text/x-python",
   "name": "python",
   "nbconvert_exporter": "python",
   "pygments_lexer": "ipython3",
   "version": "3.12.0"
  }
 },
 "nbformat": 4,
 "nbformat_minor": 5
}
