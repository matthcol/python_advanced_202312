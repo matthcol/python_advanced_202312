{
 "cells": [
  {
   "cell_type": "markdown",
   "id": "2da44bd1-42a5-4ad1-91f7-aeb8146482de",
   "metadata": {},
   "source": [
    "# Object Oriented Programming\n",
    "- python 3: all is object, every class inherits from object"
   ]
  },
  {
   "cell_type": "code",
   "execution_count": 57,
   "id": "a7b7f5a0-5ce1-4474-9879-3a7f4659a545",
   "metadata": {},
   "outputs": [],
   "source": [
    "from collections.abc import Iterable\n",
    "import numpy as np\n",
    "from typing import override\n",
    "import operator as op\n",
    "import functools as func\n",
    "import classic.city as classic\n",
    "import locale"
   ]
  },
  {
   "cell_type": "markdown",
   "id": "da79b28c-affa-49ea-bc99-9161339131f4",
   "metadata": {},
   "source": [
    "## class str"
   ]
  },
  {
   "cell_type": "code",
   "execution_count": 2,
   "id": "65449c4c-18fa-40c8-9f7b-50ca34556f6e",
   "metadata": {},
   "outputs": [
    {
     "data": {
      "text/plain": [
       "True"
      ]
     },
     "execution_count": 2,
     "metadata": {},
     "output_type": "execute_result"
    }
   ],
   "source": [
    "city = 'Toulouse'\n",
    "isinstance(city, (str, Iterable, object))"
   ]
  },
  {
   "cell_type": "code",
   "execution_count": 3,
   "id": "cd166bf0-ceb6-4177-8603-a0654c1e7704",
   "metadata": {},
   "outputs": [
    {
     "data": {
      "text/plain": [
       "'TOULOUSE'"
      ]
     },
     "execution_count": 3,
     "metadata": {},
     "output_type": "execute_result"
    }
   ],
   "source": [
    "city.upper()"
   ]
  },
  {
   "cell_type": "code",
   "execution_count": 4,
   "id": "35fb1875-a4b5-4c13-ade6-8c816d702915",
   "metadata": {},
   "outputs": [
    {
     "data": {
      "text/plain": [
       "['T', 'o', 'u', 'l', 'o', 'u', 's', 'e']"
      ]
     },
     "execution_count": 4,
     "metadata": {},
     "output_type": "execute_result"
    }
   ],
   "source": [
    "# call iter => call __iter__ of type str\n",
    "list(city)"
   ]
  },
  {
   "cell_type": "markdown",
   "id": "f864b5c6-f048-4e2b-a948-d88c966a3f8e",
   "metadata": {},
   "source": [
    "## class ndarray"
   ]
  },
  {
   "cell_type": "code",
   "execution_count": 5,
   "id": "1897e6eb-229f-4200-b640-2b96f49143ee",
   "metadata": {},
   "outputs": [
    {
     "data": {
      "text/plain": [
       "array([[ 0. ,  0. ,  0. ,  0. ,  0. ,  0. ,  0. ,  0. ,  0. ,  0. ],\n",
       "       [ 0. ,  0. ,  0. ,  0. ,  0. ,  0. ,  0. ,  0. ,  0. ,  0. ],\n",
       "       [ 0. ,  0. ,  0. ,  0. ,  0. ,  0. ,  0. ,  0. ,  0. ,  0. ],\n",
       "       [ 0. ,  0. ,  0. ,  0. ,  0. ,  0. ,  0. , 12.5,  0. ,  0. ],\n",
       "       [ 0. ,  0. ,  0. ,  0. ,  0. ,  0. ,  0. ,  0. ,  0. ,  0. ],\n",
       "       [ 0. ,  0. ,  0. ,  0. ,  0. ,  0. ,  0. ,  0. ,  0. ,  0. ],\n",
       "       [ 0. ,  0. ,  0. ,  0. ,  0. ,  0. ,  0. ,  0. ,  0. ,  0. ],\n",
       "       [ 0. ,  0. ,  0. ,  0. ,  0. ,  0. ,  0. ,  0. ,  0. ,  0. ],\n",
       "       [ 0. ,  0. ,  0. ,  0. ,  0. ,  0. ,  0. ,  0. ,  0. ,  0. ],\n",
       "       [ 0. ,  0. ,  0. ,  0. ,  0. ,  0. ,  0. ,  0. ,  0. ,  0. ]])"
      ]
     },
     "execution_count": 5,
     "metadata": {},
     "output_type": "execute_result"
    }
   ],
   "source": [
    "m = np.zeros((10, 10))\n",
    "m[3, 7] = 12.5\n",
    "m"
   ]
  },
  {
   "cell_type": "code",
   "execution_count": 6,
   "id": "f6a1c40b-0c50-4782-93c4-2ee67f95a127",
   "metadata": {},
   "outputs": [
    {
     "name": "stdout",
     "output_type": "stream",
     "text": [
      "[[ 0.   0.   0.   0.   0.   0.   0.   0.   0.   0. ]\n",
      " [ 0.   0.   0.   0.   0.   0.   0.   0.   0.   0. ]\n",
      " [ 0.   0.   0.   0.   0.   0.   0.   0.   0.   0. ]\n",
      " [ 0.   0.   0.   0.   0.   0.   0.  12.5  0.   0. ]\n",
      " [ 0.   0.   0.   0.   0.   0.   0.   0.   0.   0. ]\n",
      " [ 0.   0.   0.   0.   0.   0.   0.   0.   0.   0. ]\n",
      " [ 0.   0.   0.   0.   0.   0.   0.   0.   0.   0. ]\n",
      " [ 0.   0.   0.   0.   0.   0.   0.   0.   0.   0. ]\n",
      " [ 0.   0.   0.   0.   0.   0.   0.   0.   0.   0. ]\n",
      " [ 0.   0.   0.   0.   0.   0.   0.   0.   0.   0. ]]\n"
     ]
    }
   ],
   "source": [
    "print(m)"
   ]
  },
  {
   "cell_type": "markdown",
   "id": "5dbe1892-3041-4935-ac04-d51a3bfa6765",
   "metadata": {},
   "source": [
    "## class City (v0)"
   ]
  },
  {
   "cell_type": "code",
   "execution_count": 7,
   "id": "ecfc240b-9278-4437-a343-51756ac87e95",
   "metadata": {},
   "outputs": [],
   "source": [
    "# new class City inherits from class object\n",
    "\n",
    "class City:\n",
    "    pass"
   ]
  },
  {
   "cell_type": "code",
   "execution_count": 8,
   "id": "2ba9c8a1-b58c-4644-8b54-4812a38ab8c8",
   "metadata": {},
   "outputs": [
    {
     "data": {
      "text/plain": [
       "<__main__.City at 0x27de51c8890>"
      ]
     },
     "execution_count": 8,
     "metadata": {},
     "output_type": "execute_result"
    }
   ],
   "source": [
    "c = City()\n",
    "# following line calls repr(c) who calls c.__repr__()\n",
    "c"
   ]
  },
  {
   "cell_type": "code",
   "execution_count": 9,
   "id": "ed50ab4a-efdf-42bc-a162-77b8ea78ad01",
   "metadata": {},
   "outputs": [
    {
     "data": {
      "text/plain": [
       "'<__main__.City object at 0x0000027DE51C8890>'"
      ]
     },
     "execution_count": 9,
     "metadata": {},
     "output_type": "execute_result"
    }
   ],
   "source": [
    "# impl method for repr (python interactive): for developper\n",
    "c.__repr__()"
   ]
  },
  {
   "cell_type": "code",
   "execution_count": 10,
   "id": "88f2dcac-ab6c-4445-ad3f-38a1eaa8f1bb",
   "metadata": {},
   "outputs": [
    {
     "data": {
      "text/plain": [
       "'<__main__.City object at 0x0000027DE51C8890>'"
      ]
     },
     "execution_count": 10,
     "metadata": {},
     "output_type": "execute_result"
    }
   ],
   "source": [
    "# impk method for str (print, ..): for end user\n",
    "c.__str__()"
   ]
  },
  {
   "cell_type": "code",
   "execution_count": 11,
   "id": "1f9df8b3-5af8-473a-aa30-4c0d73a60e64",
   "metadata": {},
   "outputs": [
    {
     "data": {
      "text/plain": [
       "True"
      ]
     },
     "execution_count": 11,
     "metadata": {},
     "output_type": "execute_result"
    }
   ],
   "source": [
    "c.__doc__ is None"
   ]
  },
  {
   "cell_type": "code",
   "execution_count": 12,
   "id": "c9a33b6a-4e18-4b63-9b05-cdfd4b9d1df2",
   "metadata": {},
   "outputs": [
    {
     "data": {
      "text/plain": [
       "True"
      ]
     },
     "execution_count": 12,
     "metadata": {},
     "output_type": "execute_result"
    }
   ],
   "source": [
    "c == c # call __eq__"
   ]
  },
  {
   "cell_type": "code",
   "execution_count": 13,
   "id": "7f1f9b97-d274-4afd-bfd0-47b53cb78cd8",
   "metadata": {},
   "outputs": [
    {
     "data": {
      "text/plain": [
       "False"
      ]
     },
     "execution_count": 13,
     "metadata": {},
     "output_type": "execute_result"
    }
   ],
   "source": [
    "c != c # cal __ne__"
   ]
  },
  {
   "cell_type": "code",
   "execution_count": 14,
   "id": "f5caf688-11fb-4f61-8cf6-936b00803d5e",
   "metadata": {},
   "outputs": [
    {
     "data": {
      "text/plain": [
       "NotImplemented"
      ]
     },
     "execution_count": 14,
     "metadata": {},
     "output_type": "execute_result"
    }
   ],
   "source": [
    "# order comparison: __ge__ (>=), __gt__ (>), __le__ (<=), __lt__ (<)\n",
    "# c < c # TypeError: '<' not supported between instances of 'City' and 'City'\n",
    "c.__lt__(c)"
   ]
  },
  {
   "cell_type": "markdown",
   "id": "17dc0ce2-8b59-42a7-9122-2aec144d4a88",
   "metadata": {},
   "source": [
    "## class City with attributes"
   ]
  },
  {
   "cell_type": "code",
   "execution_count": 15,
   "id": "7d51f761-8568-451e-9a8f-6871b75cbff1",
   "metadata": {},
   "outputs": [],
   "source": [
    "class City:\n",
    "    \"\"\"class City representing a city with:\n",
    "    - its name\n",
    "    - its population\n",
    "    - its main zipcode\n",
    "    \"\"\"\n",
    "    \n",
    "    def __init__(self, name=None, population=None, zipcode=None):\n",
    "        self.name = name\n",
    "        self.population = population\n",
    "        self.zipcode = zipcode\n",
    "        \n",
    "    # overrides both __repr__ and __str__ if no override of __str__\n",
    "    @override\n",
    "    def __repr__(self):\n",
    "        return f\"City[name={self.name}, pop={self.population}, zipcode={self.zipcode}]\"\n",
    "    \n",
    "    @override\n",
    "    def __str__(self):\n",
    "        return f\"{self.name} (pop={self.population}, zipcode={self.zipcode})\"\n",
    "    \n",
    "    @override\n",
    "    def __eq__(self, other):\n",
    "        # other is a City (strict with type() or isinstance to accept subclasses)\n",
    "        # other has attributes: name, zipcode, population\n",
    "        if type(other) is not City:\n",
    "            return NotImplemented\n",
    "        return (self.name, self.zipcode) == (other.name, other.zipcode)"
   ]
  },
  {
   "cell_type": "code",
   "execution_count": 16,
   "id": "b7e95fc7-cffe-4911-8140-9d6a3e4944c1",
   "metadata": {},
   "outputs": [
    {
     "data": {
      "text/plain": [
       "[City[name=None, pop=None, zipcode=None],\n",
       " City[name=Toulouse, pop=None, zipcode=None],\n",
       " City[name=Marseille, pop=900000, zipcode=13000],\n",
       " City[name=Pau, pop=77000, zipcode=64000]]"
      ]
     },
     "execution_count": 16,
     "metadata": {},
     "output_type": "execute_result"
    }
   ],
   "source": [
    "# new objects of type City with its constructor => call __init__ (just after __new__)\n",
    "c1 = City()\n",
    "c2 = City('Toulouse')\n",
    "c3 = City('Marseille', 900_000, 13000)\n",
    "c4 = City(name='Pau', population=77_000, zipcode=64000)\n",
    "cities = [ c1, c2, c3, c4 ]\n",
    "cities"
   ]
  },
  {
   "cell_type": "code",
   "execution_count": 17,
   "id": "66bf8d94-1a3d-4142-98d7-6e5176651564",
   "metadata": {},
   "outputs": [
    {
     "name": "stdout",
     "output_type": "stream",
     "text": [
      "None (pop=None, zipcode=None)\n",
      "None, None, None\n",
      "\n",
      "Toulouse (pop=None, zipcode=None)\n",
      "Toulouse, None, None\n",
      "\n",
      "Marseille (pop=900000, zipcode=13000)\n",
      "Marseille, 900000, 13000\n",
      "\n",
      "Pau (pop=77000, zipcode=64000)\n",
      "Pau, 77000, 64000\n",
      "\n"
     ]
    }
   ],
   "source": [
    "for city in cities:\n",
    "    print(city)\n",
    "    print(city.name, city.population, city.zipcode, sep=', ') \n",
    "    print()"
   ]
  },
  {
   "cell_type": "code",
   "execution_count": 18,
   "id": "2e8fe795-929d-4669-92be-1e835201a526",
   "metadata": {},
   "outputs": [
    {
     "name": "stdout",
     "output_type": "stream",
     "text": [
      "Help on class City in module __main__:\n",
      "\n",
      "class City(builtins.object)\n",
      " |  City(name=None, population=None, zipcode=None)\n",
      " |\n",
      " |  class City representing a city with:\n",
      " |  - its name\n",
      " |  - its population\n",
      " |  - its main zipcode\n",
      " |\n",
      " |  Methods defined here:\n",
      " |\n",
      " |  __eq__(self, other)\n",
      " |      Return self==value.\n",
      " |\n",
      " |  __init__(self, name=None, population=None, zipcode=None)\n",
      " |      Initialize self.  See help(type(self)) for accurate signature.\n",
      " |\n",
      " |  __repr__(self)\n",
      " |      Return repr(self).\n",
      " |\n",
      " |  __str__(self)\n",
      " |      Return str(self).\n",
      " |\n",
      " |  ----------------------------------------------------------------------\n",
      " |  Data descriptors defined here:\n",
      " |\n",
      " |  __dict__\n",
      " |      dictionary for instance variables (if defined)\n",
      " |\n",
      " |  __weakref__\n",
      " |      list of weak references to the object (if defined)\n",
      " |\n",
      " |  ----------------------------------------------------------------------\n",
      " |  Data and other attributes defined here:\n",
      " |\n",
      " |  __hash__ = None\n",
      "\n"
     ]
    }
   ],
   "source": [
    "help(City)"
   ]
  },
  {
   "cell_type": "code",
   "execution_count": 19,
   "id": "7587d4e5-d921-44ea-a2cc-2f2a301715f5",
   "metadata": {},
   "outputs": [
    {
     "data": {
      "text/plain": [
       "False"
      ]
     },
     "execution_count": 19,
     "metadata": {},
     "output_type": "execute_result"
    }
   ],
   "source": [
    "c1 == c2"
   ]
  },
  {
   "cell_type": "code",
   "execution_count": 20,
   "id": "5974ddc5-bbbf-40c4-898c-3e9cefc214bf",
   "metadata": {},
   "outputs": [
    {
     "data": {
      "text/plain": [
       "True"
      ]
     },
     "execution_count": 20,
     "metadata": {},
     "output_type": "execute_result"
    }
   ],
   "source": [
    "c3bis = City('Marseille', 900_000, 13000)\n",
    "c3 == c3bis"
   ]
  },
  {
   "cell_type": "code",
   "execution_count": 21,
   "id": "84335454-41ae-47e8-a642-0fe3065bf07f",
   "metadata": {},
   "outputs": [
    {
     "data": {
      "text/plain": [
       "False"
      ]
     },
     "execution_count": 21,
     "metadata": {},
     "output_type": "execute_result"
    }
   ],
   "source": [
    "c3 == 'Toulouse'"
   ]
  },
  {
   "cell_type": "markdown",
   "id": "6d249959-d4c9-413f-874c-2a938d359846",
   "metadata": {},
   "source": [
    "## Order comparisons and sort"
   ]
  },
  {
   "cell_type": "code",
   "execution_count": 22,
   "id": "939e3f58-6713-4ac5-8dcb-60e2b9fdafc2",
   "metadata": {},
   "outputs": [],
   "source": [
    "data = [12, 15, 23, 37, -1]"
   ]
  },
  {
   "cell_type": "code",
   "execution_count": 23,
   "id": "67e4ad7d-62ef-42d4-afb7-32c8ea631536",
   "metadata": {},
   "outputs": [
    {
     "data": {
      "text/plain": [
       "[-1, 12, 15, 23, 37]"
      ]
     },
     "execution_count": 23,
     "metadata": {},
     "output_type": "execute_result"
    }
   ],
   "source": [
    "# in place sort (list)\n",
    "data.sort()\n",
    "data"
   ]
  },
  {
   "cell_type": "code",
   "execution_count": 24,
   "id": "6a91133f-f446-4c64-97b4-e830483d7daa",
   "metadata": {},
   "outputs": [
    {
     "data": {
      "text/plain": [
       "[-1, 12, 15, 23, 37]"
      ]
     },
     "execution_count": 24,
     "metadata": {},
     "output_type": "execute_result"
    }
   ],
   "source": [
    "# sort as a new list\n",
    "data2 = (12, 15, 23, 37, -1)\n",
    "data2_sorted = sorted(data2)\n",
    "data2_sorted"
   ]
  },
  {
   "cell_type": "code",
   "execution_count": 25,
   "id": "85a7a93f-71bc-4544-9a61-61173df6ffa3",
   "metadata": {},
   "outputs": [
    {
     "data": {
      "text/plain": [
       "[37, 23, 15, 12, -1]"
      ]
     },
     "execution_count": 25,
     "metadata": {},
     "output_type": "execute_result"
    }
   ],
   "source": [
    "data.sort(reverse=True)\n",
    "data"
   ]
  },
  {
   "cell_type": "code",
   "execution_count": 26,
   "id": "5489a5b4-8626-42d4-9970-766519c047ea",
   "metadata": {},
   "outputs": [
    {
     "data": {
      "text/plain": [
       "[37, 23, 15, 12, -1]"
      ]
     },
     "execution_count": 26,
     "metadata": {},
     "output_type": "execute_result"
    }
   ],
   "source": [
    "data = [12, 15, 23, 37, -1]\n",
    "data.sort(key=lambda x: -x)  # -x1 < -x2\n",
    "data"
   ]
  },
  {
   "cell_type": "code",
   "execution_count": 27,
   "id": "4383180f-ce80-4bdd-8bfb-c85c096dc4eb",
   "metadata": {},
   "outputs": [
    {
     "data": {
      "text/plain": [
       "[(37, 2), (15, 3), (12, 4), (23, 12), (-1, 444)]"
      ]
     },
     "execution_count": 27,
     "metadata": {},
     "output_type": "execute_result"
    }
   ],
   "source": [
    "data = [(12, 4), (15, 3), (23,12), (37, 2), (-1, 444)]\n",
    "data.sort(key=lambda x: x[1])\n",
    "data"
   ]
  },
  {
   "cell_type": "code",
   "execution_count": 44,
   "id": "febc09ad-7059-4233-8348-5d9ef18c4857",
   "metadata": {},
   "outputs": [
    {
     "data": {
      "text/plain": [
       "[(22, 2), (37, 2), (15, 3), (12, 4), (23, 12), (-1, 444)]"
      ]
     },
     "execution_count": 44,
     "metadata": {},
     "output_type": "execute_result"
    }
   ],
   "source": [
    "data = [(12, 4), (15, 3), (23,12), (37, 2), (-1, 444), (22, 2)]\n",
    "# data.sort(key=lambda x: (x[1], x[0]))\n",
    "data.sort(key=op.itemgetter(1,0))\n",
    "data"
   ]
  },
  {
   "cell_type": "code",
   "execution_count": 36,
   "id": "3c57f530-5e1f-46ef-a885-5cb665ca6616",
   "metadata": {},
   "outputs": [],
   "source": [
    "cities = [\n",
    "    classic.City(\"Marseille\", 900_000, 130000),\n",
    "    classic.City(\"Toulouse\", 470_000, 31000),\n",
    "    classic.City(\"Béziers\", 76_000, 34032),\n",
    "    classic.City(\"Villeurbanne\", 150_000, 69100),\n",
    "    classic.City(\"Nîmes\", 150_000, 30000),\n",
    "    classic.City(\"Niort\", 60_000, 79000),\n",
    "]"
   ]
  },
  {
   "cell_type": "code",
   "execution_count": 37,
   "id": "710278ad-0172-4df4-a47f-4b8abd2080d2",
   "metadata": {},
   "outputs": [
    {
     "data": {
      "text/plain": [
       "[City[name=Béziers, pop=76000, zipcode=34032],\n",
       " City[name=Marseille, pop=900000, zipcode=130000],\n",
       " City[name=Niort, pop=60000, zipcode=79000],\n",
       " City[name=Nîmes, pop=150000, zipcode=30000],\n",
       " City[name=Toulouse, pop=470000, zipcode=31000],\n",
       " City[name=Villeurbanne, pop=150000, zipcode=69100]]"
      ]
     },
     "execution_count": 37,
     "metadata": {},
     "output_type": "execute_result"
    }
   ],
   "source": [
    "sorted(cities)\n",
    "    "
   ]
  },
  {
   "cell_type": "code",
   "execution_count": 38,
   "id": "67c096df-e4a1-4145-b614-775513291408",
   "metadata": {},
   "outputs": [
    {
     "data": {
      "text/plain": [
       "[City[name=Niort, pop=60000, zipcode=79000],\n",
       " City[name=Béziers, pop=76000, zipcode=34032],\n",
       " City[name=Villeurbanne, pop=150000, zipcode=69100],\n",
       " City[name=Nîmes, pop=150000, zipcode=30000],\n",
       " City[name=Toulouse, pop=470000, zipcode=31000],\n",
       " City[name=Marseille, pop=900000, zipcode=130000]]"
      ]
     },
     "execution_count": 38,
     "metadata": {},
     "output_type": "execute_result"
    }
   ],
   "source": [
    "# sort by population asc\n",
    "sorted(cities, key=lambda c: c.population)"
   ]
  },
  {
   "cell_type": "code",
   "execution_count": 39,
   "id": "fc0722cb-5a38-46b3-922c-c6a513664f7f",
   "metadata": {},
   "outputs": [
    {
     "data": {
      "text/plain": [
       "[City[name=Niort, pop=60000, zipcode=79000],\n",
       " City[name=Béziers, pop=76000, zipcode=34032],\n",
       " City[name=Nîmes, pop=150000, zipcode=30000],\n",
       " City[name=Villeurbanne, pop=150000, zipcode=69100],\n",
       " City[name=Toulouse, pop=470000, zipcode=31000],\n",
       " City[name=Marseille, pop=900000, zipcode=130000]]"
      ]
     },
     "execution_count": 39,
     "metadata": {},
     "output_type": "execute_result"
    }
   ],
   "source": [
    "sorted(cities, key=lambda c: (c.population, c.zipcode))"
   ]
  },
  {
   "cell_type": "code",
   "execution_count": 41,
   "id": "b4e3bba9-5d94-4e98-91d4-612073cb5a9a",
   "metadata": {},
   "outputs": [
    {
     "data": {
      "text/plain": [
       "[City[name=Niort, pop=60000, zipcode=79000],\n",
       " City[name=Béziers, pop=76000, zipcode=34032],\n",
       " City[name=Villeurbanne, pop=150000, zipcode=69100],\n",
       " City[name=Nîmes, pop=150000, zipcode=30000],\n",
       " City[name=Toulouse, pop=470000, zipcode=31000],\n",
       " City[name=Marseille, pop=900000, zipcode=130000]]"
      ]
     },
     "execution_count": 41,
     "metadata": {},
     "output_type": "execute_result"
    }
   ],
   "source": [
    "sorted(cities, key=op.attrgetter('population'))"
   ]
  },
  {
   "cell_type": "code",
   "execution_count": 42,
   "id": "4fddbfa6-897c-40b2-8225-d3c0c46a6366",
   "metadata": {},
   "outputs": [
    {
     "data": {
      "text/plain": [
       "[City[name=Niort, pop=60000, zipcode=79000],\n",
       " City[name=Béziers, pop=76000, zipcode=34032],\n",
       " City[name=Nîmes, pop=150000, zipcode=30000],\n",
       " City[name=Villeurbanne, pop=150000, zipcode=69100],\n",
       " City[name=Toulouse, pop=470000, zipcode=31000],\n",
       " City[name=Marseille, pop=900000, zipcode=130000]]"
      ]
     },
     "execution_count": 42,
     "metadata": {},
     "output_type": "execute_result"
    }
   ],
   "source": [
    "sorted(cities, key=op.attrgetter('population', 'zipcode'))"
   ]
  },
  {
   "cell_type": "markdown",
   "id": "abe3188b-6d3a-41bb-a56d-6dbd6c9ef416",
   "metadata": {},
   "source": [
    "## Sorting according to locale"
   ]
  },
  {
   "cell_type": "code",
   "execution_count": 45,
   "id": "a98f2339-deab-474f-bf14-2136ff399adf",
   "metadata": {},
   "outputs": [
    {
     "data": {
      "text/plain": [
       "['Marseille', 'Toulouse', 'Béziers', 'Villeurbanne', 'Nîmes', 'Niort']"
      ]
     },
     "execution_count": 45,
     "metadata": {},
     "output_type": "execute_result"
    }
   ],
   "source": [
    "city_names = [ city.name for city in cities ] \n",
    "city_names"
   ]
  },
  {
   "cell_type": "code",
   "execution_count": null,
   "id": "61166688-50c8-457e-9bd1-b32dd94c2891",
   "metadata": {},
   "outputs": [],
   "source": [
    "# sort in French"
   ]
  },
  {
   "cell_type": "code",
   "execution_count": 47,
   "id": "8c1fb240-bae5-41b3-81e1-a0142499a4eb",
   "metadata": {},
   "outputs": [
    {
     "data": {
      "text/plain": [
       "('fr_FR', 'cp1252')"
      ]
     },
     "execution_count": 47,
     "metadata": {},
     "output_type": "execute_result"
    }
   ],
   "source": [
    "locale.getlocale()"
   ]
  },
  {
   "cell_type": "code",
   "execution_count": 49,
   "id": "b9be732f-5bfb-4390-95ad-82d98b56691c",
   "metadata": {},
   "outputs": [
    {
     "data": {
      "text/plain": [
       "('es_ES', 'ISO8859-1')"
      ]
     },
     "execution_count": 49,
     "metadata": {},
     "output_type": "execute_result"
    }
   ],
   "source": [
    "locale.setlocale(locale.LC_ALL, 'es_ES')\n",
    "locale.getlocale()"
   ]
  },
  {
   "cell_type": "code",
   "execution_count": 51,
   "id": "35a0c8f0-233a-4448-9ea6-1789a39902d2",
   "metadata": {},
   "outputs": [],
   "source": [
    "# NB: dict with local aliases locale.locale_alias"
   ]
  },
  {
   "cell_type": "code",
   "execution_count": 54,
   "id": "43b016f2-601c-4afd-b6bc-8251daca4186",
   "metadata": {},
   "outputs": [
    {
     "data": {
      "text/plain": [
       "('fr_FR', 'ISO8859-1')"
      ]
     },
     "execution_count": 54,
     "metadata": {},
     "output_type": "execute_result"
    }
   ],
   "source": [
    "locale.setlocale(locale.LC_ALL, 'fr_FR')\n",
    "locale.getlocale()"
   ]
  },
  {
   "cell_type": "code",
   "execution_count": 56,
   "id": "cda28233-dee2-45c5-a365-f3e4e7ca7b71",
   "metadata": {},
   "outputs": [
    {
     "data": {
      "text/plain": [
       "-1"
      ]
     },
     "execution_count": 56,
     "metadata": {},
     "output_type": "execute_result"
    }
   ],
   "source": [
    "locale.strcoll('Nîmes', 'Niort')"
   ]
  },
  {
   "cell_type": "code",
   "execution_count": 58,
   "id": "1d42cb05-bba1-430b-bc7c-a028333dd840",
   "metadata": {},
   "outputs": [
    {
     "data": {
      "text/plain": [
       "['Béziers', 'Marseille', 'Nîmes', 'Niort', 'Toulouse', 'Villeurbanne']"
      ]
     },
     "execution_count": 58,
     "metadata": {},
     "output_type": "execute_result"
    }
   ],
   "source": [
    "sorted(city_names, key=func.cmp_to_key(locale.strcoll)) "
   ]
  },
  {
   "cell_type": "code",
   "execution_count": 59,
   "id": "262360f1-4d77-49f7-bdfb-652fa8fea56b",
   "metadata": {},
   "outputs": [],
   "source": [
    "words_fr = ['étage', 'étuve', 'été', 'cœur', 'cobra', 'corps']"
   ]
  },
  {
   "cell_type": "code",
   "execution_count": 60,
   "id": "1aeb07ea-0e86-454c-ad50-c47ddf3b10d2",
   "metadata": {},
   "outputs": [
    {
     "data": {
      "text/plain": [
       "['cobra', 'cœur', 'corps', 'étage', 'été', 'étuve']"
      ]
     },
     "execution_count": 60,
     "metadata": {},
     "output_type": "execute_result"
    }
   ],
   "source": [
    "sorted(words_fr, key=func.cmp_to_key(locale.strcoll)) "
   ]
  },
  {
   "cell_type": "code",
   "execution_count": 61,
   "id": "e1d5e764-c1cd-448a-ba47-5e353de458d9",
   "metadata": {},
   "outputs": [
    {
     "data": {
      "text/plain": [
       "['cobra', 'corps', 'cœur', 'étage', 'étuve', 'été']"
      ]
     },
     "execution_count": 61,
     "metadata": {},
     "output_type": "execute_result"
    }
   ],
   "source": [
    "sorted(words_fr)"
   ]
  },
  {
   "cell_type": "code",
   "execution_count": 62,
   "id": "e5c75e3f-4b27-4780-b65c-827220d96160",
   "metadata": {},
   "outputs": [],
   "source": [
    "words_es = [ 'mañana', 'mano', 'matador' ]"
   ]
  },
  {
   "cell_type": "code",
   "execution_count": 63,
   "id": "cc81f9ca-83df-4840-8ea1-e849a4ced710",
   "metadata": {},
   "outputs": [
    {
     "data": {
      "text/plain": [
       "['mano', 'matador', 'mañana']"
      ]
     },
     "execution_count": 63,
     "metadata": {},
     "output_type": "execute_result"
    }
   ],
   "source": [
    "sorted(words_es)"
   ]
  },
  {
   "cell_type": "code",
   "execution_count": 64,
   "id": "724b340a-c467-44d2-ab8e-39d0fd604dda",
   "metadata": {},
   "outputs": [
    {
     "data": {
      "text/plain": [
       "['mañana', 'mano', 'matador']"
      ]
     },
     "execution_count": 64,
     "metadata": {},
     "output_type": "execute_result"
    }
   ],
   "source": [
    "sorted(words_es, key=func.cmp_to_key(locale.strcoll))"
   ]
  },
  {
   "cell_type": "code",
   "execution_count": 65,
   "id": "660511ef-1e05-407d-a38f-f77f730c7f83",
   "metadata": {},
   "outputs": [
    {
     "data": {
      "text/plain": [
       "['mano', 'mañana', 'matador']"
      ]
     },
     "execution_count": 65,
     "metadata": {},
     "output_type": "execute_result"
    }
   ],
   "source": [
    "locale.setlocale(locale.LC_ALL, 'es_ES')\n",
    "sorted(words_es, key=func.cmp_to_key(locale.strcoll))"
   ]
  }
 ],
 "metadata": {
  "kernelspec": {
   "display_name": "k312",
   "language": "python",
   "name": "k312"
  },
  "language_info": {
   "codemirror_mode": {
    "name": "ipython",
    "version": 3
   },
   "file_extension": ".py",
   "mimetype": "text/x-python",
   "name": "python",
   "nbconvert_exporter": "python",
   "pygments_lexer": "ipython3",
   "version": "3.12.0"
  }
 },
 "nbformat": 4,
 "nbformat_minor": 5
}
