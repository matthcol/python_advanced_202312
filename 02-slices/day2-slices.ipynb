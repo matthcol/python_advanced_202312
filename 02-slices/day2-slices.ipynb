{
 "cells": [
  {
   "cell_type": "markdown",
   "id": "64d8dd90-d777-4d43-8352-9f25fb38de51",
   "metadata": {},
   "source": [
    "# Slices\n",
    "- Python\n",
    "    - list, tuple\n",
    "    - str\n",
    "- Numpy\n",
    "    - ndarray\n",
    "- Pandas:\n",
    "    - DataFrame"
   ]
  },
  {
   "cell_type": "code",
   "execution_count": 75,
   "id": "f9a31ac4-4ade-476a-a9ea-8cedf06858af",
   "metadata": {},
   "outputs": [],
   "source": [
    "import numpy as np\n",
    "# https://numpy.org/doc/stable/reference/index.html#reference\n",
    "import pandas as pd"
   ]
  },
  {
   "cell_type": "markdown",
   "id": "5fc87025-487a-4460-adf7-37f683e20997",
   "metadata": {},
   "source": [
    "## slices on str"
   ]
  },
  {
   "cell_type": "code",
   "execution_count": 1,
   "id": "50eba9ec-7c69-4669-8f62-e3da4896dc42",
   "metadata": {},
   "outputs": [],
   "source": [
    "text = 'Toulouse, ville rose'"
   ]
  },
  {
   "cell_type": "code",
   "execution_count": 2,
   "id": "cebf1533-2bce-4f77-93ab-a08ac6899b62",
   "metadata": {},
   "outputs": [
    {
     "data": {
      "text/plain": [
       "'ville'"
      ]
     },
     "execution_count": 2,
     "metadata": {},
     "output_type": "execute_result"
    }
   ],
   "source": [
    "# from index 10 (included) to 15 (excluded)\n",
    "text[10:15]"
   ]
  },
  {
   "cell_type": "code",
   "execution_count": 3,
   "id": "e3e1972d-7ec1-40d6-ac5b-bbb1b7892d22",
   "metadata": {},
   "outputs": [
    {
     "data": {
      "text/plain": [
       "' rose'"
      ]
     },
     "execution_count": 3,
     "metadata": {},
     "output_type": "execute_result"
    }
   ],
   "source": [
    "text[15:]"
   ]
  },
  {
   "cell_type": "code",
   "execution_count": 4,
   "id": "ed404063-a69c-4602-bb31-3cf108fd50cb",
   "metadata": {},
   "outputs": [
    {
     "data": {
      "text/plain": [
       "'Toulouse, '"
      ]
     },
     "execution_count": 4,
     "metadata": {},
     "output_type": "execute_result"
    }
   ],
   "source": [
    "text[:10]"
   ]
  },
  {
   "cell_type": "code",
   "execution_count": 5,
   "id": "c7b33906-6e0c-4726-bd80-ac7c359d5069",
   "metadata": {},
   "outputs": [
    {
     "data": {
      "text/plain": [
       "'Toulouse, ville rose'"
      ]
     },
     "execution_count": 5,
     "metadata": {},
     "output_type": "execute_result"
    }
   ],
   "source": [
    "text[:]"
   ]
  },
  {
   "cell_type": "code",
   "execution_count": 6,
   "id": "50961d93-557d-476a-980c-2fb30b11ee1a",
   "metadata": {},
   "outputs": [
    {
     "data": {
      "text/plain": [
       "'rose'"
      ]
     },
     "execution_count": 6,
     "metadata": {},
     "output_type": "execute_result"
    }
   ],
   "source": [
    "text[-4:]"
   ]
  },
  {
   "cell_type": "code",
   "execution_count": 7,
   "id": "a5452e14-9903-4ed4-b251-20e72b2dcf52",
   "metadata": {},
   "outputs": [
    {
     "data": {
      "text/plain": [
       "'ro'"
      ]
     },
     "execution_count": 7,
     "metadata": {},
     "output_type": "execute_result"
    }
   ],
   "source": [
    "text[-4:-2]"
   ]
  },
  {
   "cell_type": "code",
   "execution_count": 8,
   "id": "18058a13-ebfd-48f0-bcdb-9e9e1fedaaee",
   "metadata": {},
   "outputs": [
    {
     "data": {
      "text/plain": [
       "''"
      ]
     },
     "execution_count": 8,
     "metadata": {},
     "output_type": "execute_result"
    }
   ],
   "source": [
    "text[-2:-4]"
   ]
  },
  {
   "cell_type": "code",
   "execution_count": 9,
   "id": "3e3f1a77-8bcb-45d6-9670-7541889a518f",
   "metadata": {},
   "outputs": [
    {
     "data": {
      "text/plain": [
       "'or'"
      ]
     },
     "execution_count": 9,
     "metadata": {},
     "output_type": "execute_result"
    }
   ],
   "source": [
    "text[-3:-5:-1]"
   ]
  },
  {
   "cell_type": "code",
   "execution_count": 10,
   "id": "6337c5b1-7704-4632-bcbd-9cc04c52867b",
   "metadata": {},
   "outputs": [
    {
     "data": {
      "text/plain": [
       "'esor elliv ,esuoluoT'"
      ]
     },
     "execution_count": 10,
     "metadata": {},
     "output_type": "execute_result"
    }
   ],
   "source": [
    "text[::-1]"
   ]
  },
  {
   "cell_type": "code",
   "execution_count": 11,
   "id": "31dd91ea-7613-4ba0-9e51-ad09252da0e0",
   "metadata": {},
   "outputs": [
    {
     "data": {
      "text/plain": [
       "'Tuos,vlers'"
      ]
     },
     "execution_count": 11,
     "metadata": {},
     "output_type": "execute_result"
    }
   ],
   "source": [
    "text[::2]"
   ]
  },
  {
   "cell_type": "code",
   "execution_count": 12,
   "id": "6b2a3a6b-97be-48f6-8da2-cc28f093c33b",
   "metadata": {},
   "outputs": [
    {
     "data": {
      "text/plain": [
       "'olue il oe'"
      ]
     },
     "execution_count": 12,
     "metadata": {},
     "output_type": "execute_result"
    }
   ],
   "source": [
    "text[1::2]"
   ]
  },
  {
   "cell_type": "code",
   "execution_count": 13,
   "id": "9f3f3015-e7b6-42df-90e4-edab8c079a8c",
   "metadata": {},
   "outputs": [
    {
     "data": {
      "text/plain": [
       "'use, ville rose'"
      ]
     },
     "execution_count": 13,
     "metadata": {},
     "output_type": "execute_result"
    }
   ],
   "source": [
    "text[5:10_000]"
   ]
  },
  {
   "cell_type": "code",
   "execution_count": 14,
   "id": "d8a621c0-9cc3-4b1f-8871-bcdbc2e3e447",
   "metadata": {},
   "outputs": [],
   "source": [
    "# TypeError: 'str' object does not support item assignment\n",
    "# text[:2] = '##'"
   ]
  },
  {
   "cell_type": "markdown",
   "id": "f8a2a495-7206-44d4-9d03-6d5ff8bae963",
   "metadata": {},
   "source": [
    "## slices on list"
   ]
  },
  {
   "cell_type": "code",
   "execution_count": 15,
   "id": "57820f41-c649-4b2c-a420-cd2a6988de28",
   "metadata": {},
   "outputs": [],
   "source": [
    "cities = ['Toulouse', 'Pau', 'Bayonne', 'Strasbourg', 'Montpellier', 'Marseille']"
   ]
  },
  {
   "cell_type": "code",
   "execution_count": 16,
   "id": "84389647-33fb-4865-834a-cd09a1c74865",
   "metadata": {},
   "outputs": [
    {
     "data": {
      "text/plain": [
       "['Toulouse', 'Pau', 'Bayonne']"
      ]
     },
     "execution_count": 16,
     "metadata": {},
     "output_type": "execute_result"
    }
   ],
   "source": [
    "cities[:3]"
   ]
  },
  {
   "cell_type": "code",
   "execution_count": 17,
   "id": "6f2e6a9e-6d63-4846-8a7a-c1cf4230a7fb",
   "metadata": {},
   "outputs": [
    {
     "data": {
      "text/plain": [
       "['Paris', 'Bordeaux', 'Strasbourg', 'Montpellier', 'Marseille']"
      ]
     },
     "execution_count": 17,
     "metadata": {},
     "output_type": "execute_result"
    }
   ],
   "source": [
    "cities[:3] = ['Paris', 'Bordeaux']\n",
    "cities"
   ]
  },
  {
   "cell_type": "code",
   "execution_count": 18,
   "id": "abf45ce1-303e-4e93-adb8-99e967d8b534",
   "metadata": {},
   "outputs": [
    {
     "data": {
      "text/plain": [
       "['Strasbourg', 'Montpellier', 'Marseille']"
      ]
     },
     "execution_count": 18,
     "metadata": {},
     "output_type": "execute_result"
    }
   ],
   "source": [
    "cities[:2] = []\n",
    "cities"
   ]
  },
  {
   "cell_type": "code",
   "execution_count": 19,
   "id": "78698af3-52a9-44ad-a9fc-5e25c9a4906f",
   "metadata": {},
   "outputs": [],
   "source": [
    "# methods: cities.remove/pop/insert/append/extend/...."
   ]
  },
  {
   "cell_type": "code",
   "execution_count": 20,
   "id": "3b04e1c7-8fe6-4fda-9d95-1085b199e7bb",
   "metadata": {},
   "outputs": [
    {
     "data": {
      "text/plain": [
       "['Marseille']"
      ]
     },
     "execution_count": 20,
     "metadata": {},
     "output_type": "execute_result"
    }
   ],
   "source": [
    "del cities[:2]\n",
    "cities"
   ]
  },
  {
   "cell_type": "code",
   "execution_count": 21,
   "id": "5b25f51c-6152-4e65-a3ec-aef587f5585e",
   "metadata": {},
   "outputs": [
    {
     "data": {
      "text/plain": [
       "['Marseille', 'Paris', 'Bordeaux', 'Strasbourg', 'Montpellier']"
      ]
     },
     "execution_count": 21,
     "metadata": {},
     "output_type": "execute_result"
    }
   ],
   "source": [
    "n = len(cities)\n",
    "cities[n:] = ['Paris', 'Bordeaux', 'Strasbourg', 'Montpellier']\n",
    "cities"
   ]
  },
  {
   "cell_type": "code",
   "execution_count": 23,
   "id": "52eaf9ac-e808-440b-a220-7ecba30081e5",
   "metadata": {},
   "outputs": [
    {
     "data": {
      "text/plain": [
       "['Marseille',\n",
       " 'Pau',\n",
       " 'Bayonne',\n",
       " 'Toulouse',\n",
       " 'Paris',\n",
       " 'Bordeaux',\n",
       " 'Strasbourg',\n",
       " 'Montpellier']"
      ]
     },
     "execution_count": 23,
     "metadata": {},
     "output_type": "execute_result"
    }
   ],
   "source": [
    "index = 1\n",
    "cities[index:index] = ['Pau', 'Bayonne', 'Toulouse']\n",
    "cities"
   ]
  },
  {
   "cell_type": "code",
   "execution_count": 28,
   "id": "b579ed67-4146-4081-bd7d-e015a8dfcd91",
   "metadata": {},
   "outputs": [
    {
     "data": {
      "text/plain": [
       "['__delitem__', '__getitem__', '__setitem__']"
      ]
     },
     "execution_count": 28,
     "metadata": {},
     "output_type": "execute_result"
    }
   ],
   "source": [
    "[ m for m in dir(cities) if m in ['__delitem__', '__getitem__', '__setitem__'] ]"
   ]
  },
  {
   "cell_type": "code",
   "execution_count": 29,
   "id": "f3279c88-f653-40a7-ba30-34bb87ffe7f4",
   "metadata": {},
   "outputs": [
    {
     "data": {
      "text/plain": [
       "['__getitem__']"
      ]
     },
     "execution_count": 29,
     "metadata": {},
     "output_type": "execute_result"
    }
   ],
   "source": [
    "[ m for m in dir(str) if m in ['__delitem__', '__getitem__', '__setitem__'] ]"
   ]
  },
  {
   "cell_type": "code",
   "execution_count": 30,
   "id": "d9604ed2-3000-4793-b938-17c987ae6773",
   "metadata": {},
   "outputs": [
    {
     "data": {
      "text/plain": [
       "['__getitem__']"
      ]
     },
     "execution_count": 30,
     "metadata": {},
     "output_type": "execute_result"
    }
   ],
   "source": [
    "[ m for m in dir(tuple) if m in ['__delitem__', '__getitem__', '__setitem__'] ]"
   ]
  },
  {
   "cell_type": "code",
   "execution_count": 31,
   "id": "b61e5fb7-91b8-4302-b5e4-1bd0293b5a2a",
   "metadata": {},
   "outputs": [],
   "source": [
    "square_ok_12 =  [ \n",
    "    [138,\t8,\t17,\t127,\t114,\t32,\t41,\t103,\t90,\t56,\t65,\t79],\n",
    "    [19,\t125,\t140,\t6,\t43,\t101,\t116,\t30,\t67,\t77,\t92,\t54],\n",
    "    [128,\t18,\t7,\t137,\t104,\t42,\t31,\t113,\t80,\t66,\t55,\t89],\n",
    "    [5,\t139,\t126,\t20,\t29,\t115,\t102,\t44,\t53,\t91,\t78,\t68],\n",
    "    [136,\t10,\t15,\t129,\t112,\t34,\t39,\t105,\t88,\t58,\t63,\t81],\n",
    "    [21,\t123,\t142,\t4,\t45,\t99,\t118,\t28,\t69,\t75,\t94,\t52],\n",
    "    [130,\t16,\t9,\t135,\t106,\t40,\t33,\t111,\t82,\t64,\t57,\t87],\n",
    "    [3,\t141,\t124,\t22,\t27,\t117,\t100,\t46,\t51,\t93,\t76,\t70],\n",
    "    [134,\t12,\t13,\t131,\t110,\t36,\t37,\t107,\t86,\t60,\t61,\t83],\n",
    "    [23,\t121,\t144,\t2,\t47,\t97,\t120,\t26,\t71,\t73,\t96,\t50],\n",
    "    [132,\t14,\t11,\t133,\t108,\t38,\t35,\t109,\t84,\t62,\t59,\t85],\n",
    "    [1,\t143,\t122,\t24,\t25,\t119,\t98,\t48,\t49,\t95,\t74,\t72]\n",
    "]"
   ]
  },
  {
   "cell_type": "code",
   "execution_count": 37,
   "id": "1af933b9-0f49-4a7d-9cf0-6df39383977f",
   "metadata": {},
   "outputs": [
    {
     "data": {
      "text/plain": [
       "[[138, 8, 17], [19, 125, 140], [128, 18, 7]]"
      ]
     },
     "execution_count": 37,
     "metadata": {},
     "output_type": "execute_result"
    }
   ],
   "source": [
    "# type list does not accept tuple of slices (n dimension)\n",
    "# square_ok_12[:3, :3]  # TypeError: list indices must be integers or slices, not tuple\n",
    "[ row[:3]  for row in square_ok_12[:3] ]"
   ]
  },
  {
   "cell_type": "markdown",
   "id": "b90471ad-81d0-4b03-9f49-b95428192840",
   "metadata": {},
   "source": [
    "## slices on ndarray (numpy)"
   ]
  },
  {
   "cell_type": "code",
   "execution_count": 40,
   "id": "cd79a14b-63e9-4415-8e24-35df13c7461b",
   "metadata": {},
   "outputs": [
    {
     "data": {
      "text/plain": [
       "array([[138,   8,  17, 127, 114,  32,  41, 103,  90,  56,  65,  79],\n",
       "       [ 19, 125, 140,   6,  43, 101, 116,  30,  67,  77,  92,  54],\n",
       "       [128,  18,   7, 137, 104,  42,  31, 113,  80,  66,  55,  89],\n",
       "       [  5, 139, 126,  20,  29, 115, 102,  44,  53,  91,  78,  68],\n",
       "       [136,  10,  15, 129, 112,  34,  39, 105,  88,  58,  63,  81],\n",
       "       [ 21, 123, 142,   4,  45,  99, 118,  28,  69,  75,  94,  52],\n",
       "       [130,  16,   9, 135, 106,  40,  33, 111,  82,  64,  57,  87],\n",
       "       [  3, 141, 124,  22,  27, 117, 100,  46,  51,  93,  76,  70],\n",
       "       [134,  12,  13, 131, 110,  36,  37, 107,  86,  60,  61,  83],\n",
       "       [ 23, 121, 144,   2,  47,  97, 120,  26,  71,  73,  96,  50],\n",
       "       [132,  14,  11, 133, 108,  38,  35, 109,  84,  62,  59,  85],\n",
       "       [  1, 143, 122,  24,  25, 119,  98,  48,  49,  95,  74,  72]])"
      ]
     },
     "execution_count": 40,
     "metadata": {},
     "output_type": "execute_result"
    }
   ],
   "source": [
    "square12 = np.array(square_ok_12)\n",
    "square12"
   ]
  },
  {
   "cell_type": "code",
   "execution_count": 41,
   "id": "b393430e-e67e-4a56-81c9-f2bfe8da3853",
   "metadata": {},
   "outputs": [
    {
     "data": {
      "text/plain": [
       "(12, 12)"
      ]
     },
     "execution_count": 41,
     "metadata": {},
     "output_type": "execute_result"
    }
   ],
   "source": [
    "square12.shape"
   ]
  },
  {
   "cell_type": "code",
   "execution_count": 42,
   "id": "ddcaff08-4ee1-4132-a1a2-ac7b6967f013",
   "metadata": {},
   "outputs": [
    {
     "data": {
      "text/plain": [
       "dtype('int32')"
      ]
     },
     "execution_count": 42,
     "metadata": {},
     "output_type": "execute_result"
    }
   ],
   "source": [
    "square12.dtype"
   ]
  },
  {
   "cell_type": "code",
   "execution_count": 43,
   "id": "485eca43-d217-4e9b-86e1-a04464381082",
   "metadata": {},
   "outputs": [
    {
     "data": {
      "text/plain": [
       "  C_CONTIGUOUS : True\n",
       "  F_CONTIGUOUS : False\n",
       "  OWNDATA : True\n",
       "  WRITEABLE : True\n",
       "  ALIGNED : True\n",
       "  WRITEBACKIFCOPY : False"
      ]
     },
     "execution_count": 43,
     "metadata": {},
     "output_type": "execute_result"
    }
   ],
   "source": [
    "square12.flags"
   ]
  },
  {
   "cell_type": "code",
   "execution_count": 44,
   "id": "720d572d-c872-42dc-be7f-ca5fec580fd1",
   "metadata": {},
   "outputs": [
    {
     "data": {
      "text/plain": [
       "array([[138,   8,  17],\n",
       "       [ 19, 125, 140],\n",
       "       [128,  18,   7]])"
      ]
     },
     "execution_count": 44,
     "metadata": {},
     "output_type": "execute_result"
    }
   ],
   "source": [
    "extract = square12[:3, :3]\n",
    "extract"
   ]
  },
  {
   "cell_type": "code",
   "execution_count": 45,
   "id": "ad471971-e23d-43b7-a100-e16196781b60",
   "metadata": {},
   "outputs": [
    {
     "data": {
      "text/plain": [
       "  C_CONTIGUOUS : False\n",
       "  F_CONTIGUOUS : False\n",
       "  OWNDATA : False\n",
       "  WRITEABLE : True\n",
       "  ALIGNED : True\n",
       "  WRITEBACKIFCOPY : False"
      ]
     },
     "execution_count": 45,
     "metadata": {},
     "output_type": "execute_result"
    }
   ],
   "source": [
    "extract.flags"
   ]
  },
  {
   "cell_type": "code",
   "execution_count": 46,
   "id": "a5efa48d-d9f3-4ac9-bd3d-e6893aa0049a",
   "metadata": {},
   "outputs": [],
   "source": [
    "extract[0, 0] = 137\n",
    "assert extract[0, 0] == 137\n",
    "assert square12[0, 0] == 137"
   ]
  },
  {
   "cell_type": "code",
   "execution_count": 47,
   "id": "28199edc-7329-4e20-95b4-f1b30877c763",
   "metadata": {},
   "outputs": [
    {
     "data": {
      "text/plain": [
       "12"
      ]
     },
     "execution_count": 47,
     "metadata": {},
     "output_type": "execute_result"
    }
   ],
   "source": [
    "n,_ = square12.shape\n",
    "n"
   ]
  },
  {
   "cell_type": "code",
   "execution_count": 50,
   "id": "783f926a-985d-4f6f-91dd-c65bd3e56923",
   "metadata": {},
   "outputs": [
    {
     "data": {
      "text/plain": [
       "array([ 41, 116,  31, 102,  39, 118,  33, 100,  37, 120,  35,  98])"
      ]
     },
     "execution_count": 50,
     "metadata": {},
     "output_type": "execute_result"
    }
   ],
   "source": [
    "# slice : column of index numColumn\n",
    "numColumn = 6\n",
    "square12[:, numColumn ]"
   ]
  },
  {
   "cell_type": "code",
   "execution_count": 51,
   "id": "50f4370f-6c1e-400f-9ecd-26f93771ae0d",
   "metadata": {},
   "outputs": [
    {
     "data": {
      "text/plain": [
       "array([137, 125,   7,  20, 112,  99,  33,  46,  86,  73,  59,  72])"
      ]
     },
     "execution_count": 51,
     "metadata": {},
     "output_type": "execute_result"
    }
   ],
   "source": [
    "# 2 diags\n",
    "diag1 = square12.diagonal()\n",
    "diag1"
   ]
  },
  {
   "cell_type": "code",
   "execution_count": 52,
   "id": "841eab91-d550-4bbe-afdc-ef2459339cad",
   "metadata": {},
   "outputs": [
    {
     "data": {
      "text/plain": [
       "  C_CONTIGUOUS : False\n",
       "  F_CONTIGUOUS : False\n",
       "  OWNDATA : False\n",
       "  WRITEABLE : False\n",
       "  ALIGNED : True\n",
       "  WRITEBACKIFCOPY : False"
      ]
     },
     "execution_count": 52,
     "metadata": {},
     "output_type": "execute_result"
    }
   ],
   "source": [
    "diag1.flags"
   ]
  },
  {
   "cell_type": "code",
   "execution_count": 55,
   "id": "856b18ac-e32b-4dfa-9b67-d1d967957702",
   "metadata": {},
   "outputs": [
    {
     "data": {
      "text/plain": [
       "array([  1,  14, 144, 131,  27,  40, 118, 105,  53,  66,  92,  79])"
      ]
     },
     "execution_count": 55,
     "metadata": {},
     "output_type": "execute_result"
    }
   ],
   "source": [
    "# symetric horizontal\n",
    "diag2 = square12[::-1].diagonal()\n",
    "diag2"
   ]
  },
  {
   "cell_type": "code",
   "execution_count": 56,
   "id": "4009e380-7908-4f40-a64a-024a231891b5",
   "metadata": {},
   "outputs": [
    {
     "data": {
      "text/plain": [
       "array([ 79,  92,  66,  53, 105, 118,  40,  27, 131, 144,  14,   1])"
      ]
     },
     "execution_count": 56,
     "metadata": {},
     "output_type": "execute_result"
    }
   ],
   "source": [
    "# symetric vertical\n",
    "diag2bis = square12[:, ::-1].diagonal()\n",
    "diag2bis"
   ]
  },
  {
   "cell_type": "code",
   "execution_count": 58,
   "id": "f153b46c-ff3b-46eb-9e08-11077c275607",
   "metadata": {},
   "outputs": [
    {
     "data": {
      "text/plain": [
       "array([[ 79,  65,  56,  90, 103,  41,  32, 114, 127,  17,   8, 137],\n",
       "       [ 54,  92,  77,  67,  30, 116, 101,  43,   6, 140, 125,  19],\n",
       "       [ 89,  55,  66,  80, 113,  31,  42, 104, 137,   7,  18, 128],\n",
       "       [ 68,  78,  91,  53,  44, 102, 115,  29,  20, 126, 139,   5],\n",
       "       [ 81,  63,  58,  88, 105,  39,  34, 112, 129,  15,  10, 136],\n",
       "       [ 52,  94,  75,  69,  28, 118,  99,  45,   4, 142, 123,  21],\n",
       "       [ 87,  57,  64,  82, 111,  33,  40, 106, 135,   9,  16, 130],\n",
       "       [ 70,  76,  93,  51,  46, 100, 117,  27,  22, 124, 141,   3],\n",
       "       [ 83,  61,  60,  86, 107,  37,  36, 110, 131,  13,  12, 134],\n",
       "       [ 50,  96,  73,  71,  26, 120,  97,  47,   2, 144, 121,  23],\n",
       "       [ 85,  59,  62,  84, 109,  35,  38, 108, 133,  11,  14, 132],\n",
       "       [ 72,  74,  95,  49,  48,  98, 119,  25,  24, 122, 143,   1]])"
      ]
     },
     "execution_count": 58,
     "metadata": {},
     "output_type": "execute_result"
    }
   ],
   "source": [
    "# symetric vertical with fliplr\n",
    "np.fliplr(square12)"
   ]
  },
  {
   "cell_type": "code",
   "execution_count": 63,
   "id": "67dfbef9-aeed-4bfa-8d75-d27e1d2879b9",
   "metadata": {},
   "outputs": [
    {
     "data": {
      "text/plain": [
       "array([[137,   8,  17, 127, 114,  32,  41, 103,  90,  56,  65,  79],\n",
       "       [ 19, 125, 140,   6,  43, 101, 116,  30,  67,  77,  92,  54],\n",
       "       [128,  18,   7, 137, 104,  42,  31, 113,  80,  66,  55,  89],\n",
       "       [  5, 139, 126,  20,  29, 115, 102,  44,  53,  91,  78,  68],\n",
       "       [136,  10,  15, 129, 112,  34,  39, 105,  88,  58,  63,  81],\n",
       "       [ 21, 123, 142,   4,  45,  99, 118,  28,  69,  75,  94,  52],\n",
       "       [130,  16,   9, 135, 106,  40,  33, 111,  82,  64,  57,  87],\n",
       "       [  3, 141, 124,  22,  27, 117, 100,  46,  51,  93,  76,  70],\n",
       "       [134,  12,  13, 131, 110,  36,  37, 107,  86,  60,  61,  83],\n",
       "       [ 23, 121, 144,   2,  47,  97, 120,  26,  71,  73,  96,  50],\n",
       "       [132,  14,  11, 133, 108,  38,  35, 109,  84,  62,  59,  85],\n",
       "       [  2, 143, 122,  24,  25, 119,  98,  48,  49,  95,  74,  72]])"
      ]
     },
     "execution_count": 63,
     "metadata": {},
     "output_type": "execute_result"
    }
   ],
   "source": [
    "square12[11, 0] = 2\n",
    "square12"
   ]
  },
  {
   "cell_type": "code",
   "execution_count": 59,
   "id": "4d461b1a-b797-4c1d-bb6a-1f2b196619cb",
   "metadata": {},
   "outputs": [
    {
     "data": {
      "text/plain": [
       "10439"
      ]
     },
     "execution_count": 59,
     "metadata": {},
     "output_type": "execute_result"
    }
   ],
   "source": [
    "square12.sum()"
   ]
  },
  {
   "cell_type": "code",
   "execution_count": 64,
   "id": "85eea991-929d-4076-9b40-e05b58341b93",
   "metadata": {},
   "outputs": [
    {
     "data": {
      "text/plain": [
       "array([870, 870, 870, 870, 870, 870, 870, 870, 870, 870, 870, 870])"
      ]
     },
     "execution_count": 64,
     "metadata": {},
     "output_type": "execute_result"
    }
   ],
   "source": [
    "# sum for each column\n",
    "square12.sum(axis=0)"
   ]
  },
  {
   "cell_type": "code",
   "execution_count": 66,
   "id": "a6e8ea42-8e77-4732-a980-a482b74850df",
   "metadata": {},
   "outputs": [
    {
     "data": {
      "text/plain": [
       "array([869, 870, 870, 870, 870, 870, 870, 870, 870, 870, 870, 871])"
      ]
     },
     "execution_count": 66,
     "metadata": {},
     "output_type": "execute_result"
    }
   ],
   "source": [
    "# sum for each row\n",
    "square12.sum(axis=1)"
   ]
  },
  {
   "cell_type": "code",
   "execution_count": 67,
   "id": "16159916-71cf-468c-8bba-f989bba4aeca",
   "metadata": {},
   "outputs": [],
   "source": [
    "ms = 870"
   ]
  },
  {
   "cell_type": "code",
   "execution_count": 68,
   "id": "89465a75-6679-4d05-ae73-fcd94debb336",
   "metadata": {},
   "outputs": [
    {
     "data": {
      "text/plain": [
       "array([ True,  True,  True,  True,  True,  True,  True,  True,  True,\n",
       "        True,  True,  True])"
      ]
     },
     "execution_count": 68,
     "metadata": {},
     "output_type": "execute_result"
    }
   ],
   "source": [
    "square12.sum(axis=0) == ms"
   ]
  },
  {
   "cell_type": "code",
   "execution_count": 69,
   "id": "a20008a5-afcc-48ea-9b82-735ba8705f9d",
   "metadata": {},
   "outputs": [
    {
     "data": {
      "text/plain": [
       "array([False,  True,  True,  True,  True,  True,  True,  True,  True,\n",
       "        True,  True, False])"
      ]
     },
     "execution_count": 69,
     "metadata": {},
     "output_type": "execute_result"
    }
   ],
   "source": [
    "square12.sum(axis=1) == ms"
   ]
  },
  {
   "cell_type": "code",
   "execution_count": 71,
   "id": "19fc6735-f475-4100-8a15-cb4126265b90",
   "metadata": {},
   "outputs": [
    {
     "data": {
      "text/plain": [
       "(True, False)"
      ]
     },
     "execution_count": 71,
     "metadata": {},
     "output_type": "execute_result"
    }
   ],
   "source": [
    "np.all(square12.sum(axis=0) == ms), \\\n",
    "np.all(square12.sum(axis=1) == ms),"
   ]
  },
  {
   "cell_type": "code",
   "execution_count": 73,
   "id": "1774d9dc-00f0-4055-b24c-b8a5577d9c79",
   "metadata": {},
   "outputs": [
    {
     "data": {
      "text/plain": [
       "array([[137,  19, 128,   5, 136,  21, 130,   3, 134,  23, 132,   2],\n",
       "       [  8, 125,  18, 139,  10, 123,  16, 141,  12, 121,  14, 143],\n",
       "       [ 17, 140,   7, 126,  15, 142,   9, 124,  13, 144,  11, 122],\n",
       "       [127,   6, 137,  20, 129,   4, 135,  22, 131,   2, 133,  24],\n",
       "       [114,  43, 104,  29, 112,  45, 106,  27, 110,  47, 108,  25],\n",
       "       [ 32, 101,  42, 115,  34,  99,  40, 117,  36,  97,  38, 119],\n",
       "       [ 41, 116,  31, 102,  39, 118,  33, 100,  37, 120,  35,  98],\n",
       "       [103,  30, 113,  44, 105,  28, 111,  46, 107,  26, 109,  48],\n",
       "       [ 90,  67,  80,  53,  88,  69,  82,  51,  86,  71,  84,  49],\n",
       "       [ 56,  77,  66,  91,  58,  75,  64,  93,  60,  73,  62,  95],\n",
       "       [ 65,  92,  55,  78,  63,  94,  57,  76,  61,  96,  59,  74],\n",
       "       [ 79,  54,  89,  68,  81,  52,  87,  70,  83,  50,  85,  72]])"
      ]
     },
     "execution_count": 73,
     "metadata": {},
     "output_type": "execute_result"
    }
   ],
   "source": [
    "square12.T"
   ]
  },
  {
   "cell_type": "markdown",
   "id": "36161fbd-9c91-4ce9-afc7-5986db89c803",
   "metadata": {},
   "source": [
    "## slices on DataFrame (pandas)"
   ]
  },
  {
   "cell_type": "code",
   "execution_count": 74,
   "id": "6c6cfd17-5c66-4cef-a4d5-00d8fdc1d04a",
   "metadata": {},
   "outputs": [
    {
     "data": {
      "text/plain": [
       "[('Toulouse', 470000, 31000),\n",
       " ('Pau', 77000, 64000),\n",
       " ('Bayonne', 49000, 64100),\n",
       " ('Strasbourg', 500000, 67000),\n",
       " ('Montpellier', 311000, 34000),\n",
       " ('Marseille', 900000, 13000)]"
      ]
     },
     "execution_count": 74,
     "metadata": {},
     "output_type": "execute_result"
    }
   ],
   "source": [
    "cities = ['Toulouse', 'Pau', 'Bayonne', 'Strasbourg', 'Montpellier', 'Marseille']\n",
    "pop = (470_000, 77_000, 49_000, 500_000, 311_000, 900_000)\n",
    "cp = [31000, 64000, 64100, 67000, 34000, 13000]\n",
    "data = list(zip(cities, pop, cp))\n",
    "data"
   ]
  },
  {
   "cell_type": "code",
   "execution_count": 76,
   "id": "5efa7864-b3c9-4381-8777-706792f168de",
   "metadata": {},
   "outputs": [
    {
     "data": {
      "text/html": [
       "<div>\n",
       "<style scoped>\n",
       "    .dataframe tbody tr th:only-of-type {\n",
       "        vertical-align: middle;\n",
       "    }\n",
       "\n",
       "    .dataframe tbody tr th {\n",
       "        vertical-align: top;\n",
       "    }\n",
       "\n",
       "    .dataframe thead th {\n",
       "        text-align: right;\n",
       "    }\n",
       "</style>\n",
       "<table border=\"1\" class=\"dataframe\">\n",
       "  <thead>\n",
       "    <tr style=\"text-align: right;\">\n",
       "      <th></th>\n",
       "      <th>name</th>\n",
       "      <th>population</th>\n",
       "      <th>zipcode</th>\n",
       "    </tr>\n",
       "  </thead>\n",
       "  <tbody>\n",
       "    <tr>\n",
       "      <th>0</th>\n",
       "      <td>Toulouse</td>\n",
       "      <td>470000</td>\n",
       "      <td>31000</td>\n",
       "    </tr>\n",
       "    <tr>\n",
       "      <th>1</th>\n",
       "      <td>Pau</td>\n",
       "      <td>77000</td>\n",
       "      <td>64000</td>\n",
       "    </tr>\n",
       "    <tr>\n",
       "      <th>2</th>\n",
       "      <td>Bayonne</td>\n",
       "      <td>49000</td>\n",
       "      <td>64100</td>\n",
       "    </tr>\n",
       "    <tr>\n",
       "      <th>3</th>\n",
       "      <td>Strasbourg</td>\n",
       "      <td>500000</td>\n",
       "      <td>67000</td>\n",
       "    </tr>\n",
       "    <tr>\n",
       "      <th>4</th>\n",
       "      <td>Montpellier</td>\n",
       "      <td>311000</td>\n",
       "      <td>34000</td>\n",
       "    </tr>\n",
       "    <tr>\n",
       "      <th>5</th>\n",
       "      <td>Marseille</td>\n",
       "      <td>900000</td>\n",
       "      <td>13000</td>\n",
       "    </tr>\n",
       "  </tbody>\n",
       "</table>\n",
       "</div>"
      ],
      "text/plain": [
       "          name  population  zipcode\n",
       "0     Toulouse      470000    31000\n",
       "1          Pau       77000    64000\n",
       "2      Bayonne       49000    64100\n",
       "3   Strasbourg      500000    67000\n",
       "4  Montpellier      311000    34000\n",
       "5    Marseille      900000    13000"
      ]
     },
     "execution_count": 76,
     "metadata": {},
     "output_type": "execute_result"
    }
   ],
   "source": [
    "dfCities = pd.DataFrame(data, columns=['name', 'population', 'zipcode'])\n",
    "dfCities"
   ]
  },
  {
   "cell_type": "code",
   "execution_count": 77,
   "id": "b316175d-af47-4779-9da6-0d3c50c6bd3c",
   "metadata": {},
   "outputs": [
    {
     "name": "stdout",
     "output_type": "stream",
     "text": [
      "<class 'pandas.core.frame.DataFrame'>\n",
      "RangeIndex: 6 entries, 0 to 5\n",
      "Data columns (total 3 columns):\n",
      " #   Column      Non-Null Count  Dtype \n",
      "---  ------      --------------  ----- \n",
      " 0   name        6 non-null      object\n",
      " 1   population  6 non-null      int64 \n",
      " 2   zipcode     6 non-null      int64 \n",
      "dtypes: int64(2), object(1)\n",
      "memory usage: 276.0+ bytes\n"
     ]
    }
   ],
   "source": [
    "dfCities.info()"
   ]
  },
  {
   "cell_type": "code",
   "execution_count": 79,
   "id": "c632dbef-aa6b-465d-af66-bcba80c63055",
   "metadata": {},
   "outputs": [
    {
     "data": {
      "text/plain": [
       "name          Montpellier\n",
       "population         311000\n",
       "zipcode             34000\n",
       "Name: 4, dtype: object"
      ]
     },
     "execution_count": 79,
     "metadata": {},
     "output_type": "execute_result"
    }
   ],
   "source": [
    "# each row, each column has type Series\n",
    "rowMontpellier = dfCities.loc[4]\n",
    "rowMontpellier "
   ]
  },
  {
   "cell_type": "code",
   "execution_count": 80,
   "id": "52c8b330-d232-4a88-895a-2a1fa87815c0",
   "metadata": {},
   "outputs": [
    {
     "data": {
      "text/plain": [
       "pandas.core.series.Series"
      ]
     },
     "execution_count": 80,
     "metadata": {},
     "output_type": "execute_result"
    }
   ],
   "source": [
    "type(rowMontpellier)"
   ]
  },
  {
   "cell_type": "code",
   "execution_count": 81,
   "id": "7497bd84-b858-48c4-bf07-5b2af1408d91",
   "metadata": {},
   "outputs": [
    {
     "data": {
      "text/plain": [
       "0       Toulouse\n",
       "1            Pau\n",
       "2        Bayonne\n",
       "3     Strasbourg\n",
       "4    Montpellier\n",
       "5      Marseille\n",
       "Name: name, dtype: object"
      ]
     },
     "execution_count": 81,
     "metadata": {},
     "output_type": "execute_result"
    }
   ],
   "source": [
    "dfCities.name"
   ]
  },
  {
   "cell_type": "code",
   "execution_count": 82,
   "id": "a13bd275-6ac5-4477-a374-731d70bf51e1",
   "metadata": {},
   "outputs": [
    {
     "data": {
      "text/plain": [
       "0       Toulouse\n",
       "1            Pau\n",
       "2        Bayonne\n",
       "3     Strasbourg\n",
       "4    Montpellier\n",
       "5      Marseille\n",
       "Name: name, dtype: object"
      ]
     },
     "execution_count": 82,
     "metadata": {},
     "output_type": "execute_result"
    }
   ],
   "source": [
    "dfCities['name']"
   ]
  },
  {
   "cell_type": "code",
   "execution_count": 83,
   "id": "f9f8a180-7790-4dcf-a263-099a19abcb3a",
   "metadata": {},
   "outputs": [
    {
     "data": {
      "text/plain": [
       "0       Toulouse\n",
       "1            Pau\n",
       "2        Bayonne\n",
       "3     Strasbourg\n",
       "4    Montpellier\n",
       "5      Marseille\n",
       "Name: name, dtype: object"
      ]
     },
     "execution_count": 83,
     "metadata": {},
     "output_type": "execute_result"
    }
   ],
   "source": [
    "dfCities.loc[:, 'name']"
   ]
  },
  {
   "cell_type": "code",
   "execution_count": 85,
   "id": "39229589-8797-4ed1-8fbc-648f1e7039f0",
   "metadata": {},
   "outputs": [
    {
     "data": {
      "text/html": [
       "<div>\n",
       "<style scoped>\n",
       "    .dataframe tbody tr th:only-of-type {\n",
       "        vertical-align: middle;\n",
       "    }\n",
       "\n",
       "    .dataframe tbody tr th {\n",
       "        vertical-align: top;\n",
       "    }\n",
       "\n",
       "    .dataframe thead th {\n",
       "        text-align: right;\n",
       "    }\n",
       "</style>\n",
       "<table border=\"1\" class=\"dataframe\">\n",
       "  <thead>\n",
       "    <tr style=\"text-align: right;\">\n",
       "      <th></th>\n",
       "      <th>name</th>\n",
       "      <th>population</th>\n",
       "      <th>zipcode</th>\n",
       "    </tr>\n",
       "  </thead>\n",
       "  <tbody>\n",
       "    <tr>\n",
       "      <th>2</th>\n",
       "      <td>Bayonne</td>\n",
       "      <td>49000</td>\n",
       "      <td>64100</td>\n",
       "    </tr>\n",
       "    <tr>\n",
       "      <th>3</th>\n",
       "      <td>Strasbourg</td>\n",
       "      <td>500000</td>\n",
       "      <td>67000</td>\n",
       "    </tr>\n",
       "    <tr>\n",
       "      <th>4</th>\n",
       "      <td>Montpellier</td>\n",
       "      <td>311000</td>\n",
       "      <td>34000</td>\n",
       "    </tr>\n",
       "  </tbody>\n",
       "</table>\n",
       "</div>"
      ],
      "text/plain": [
       "          name  population  zipcode\n",
       "2      Bayonne       49000    64100\n",
       "3   Strasbourg      500000    67000\n",
       "4  Montpellier      311000    34000"
      ]
     },
     "execution_count": 85,
     "metadata": {},
     "output_type": "execute_result"
    }
   ],
   "source": [
    "# with .loc each bound is included\n",
    "dfCities.loc[2:4]"
   ]
  },
  {
   "cell_type": "code",
   "execution_count": 87,
   "id": "044ac317-c6cb-446b-a8b6-8d0eae9c7dc6",
   "metadata": {},
   "outputs": [
    {
     "data": {
      "text/html": [
       "<div>\n",
       "<style scoped>\n",
       "    .dataframe tbody tr th:only-of-type {\n",
       "        vertical-align: middle;\n",
       "    }\n",
       "\n",
       "    .dataframe tbody tr th {\n",
       "        vertical-align: top;\n",
       "    }\n",
       "\n",
       "    .dataframe thead th {\n",
       "        text-align: right;\n",
       "    }\n",
       "</style>\n",
       "<table border=\"1\" class=\"dataframe\">\n",
       "  <thead>\n",
       "    <tr style=\"text-align: right;\">\n",
       "      <th></th>\n",
       "      <th>population</th>\n",
       "      <th>zipcode</th>\n",
       "    </tr>\n",
       "    <tr>\n",
       "      <th>name</th>\n",
       "      <th></th>\n",
       "      <th></th>\n",
       "    </tr>\n",
       "  </thead>\n",
       "  <tbody>\n",
       "    <tr>\n",
       "      <th>Bayonne</th>\n",
       "      <td>49000</td>\n",
       "      <td>64100</td>\n",
       "    </tr>\n",
       "    <tr>\n",
       "      <th>Marseille</th>\n",
       "      <td>900000</td>\n",
       "      <td>13000</td>\n",
       "    </tr>\n",
       "    <tr>\n",
       "      <th>Montpellier</th>\n",
       "      <td>311000</td>\n",
       "      <td>34000</td>\n",
       "    </tr>\n",
       "    <tr>\n",
       "      <th>Pau</th>\n",
       "      <td>77000</td>\n",
       "      <td>64000</td>\n",
       "    </tr>\n",
       "    <tr>\n",
       "      <th>Strasbourg</th>\n",
       "      <td>500000</td>\n",
       "      <td>67000</td>\n",
       "    </tr>\n",
       "    <tr>\n",
       "      <th>Toulouse</th>\n",
       "      <td>470000</td>\n",
       "      <td>31000</td>\n",
       "    </tr>\n",
       "  </tbody>\n",
       "</table>\n",
       "</div>"
      ],
      "text/plain": [
       "             population  zipcode\n",
       "name                            \n",
       "Bayonne           49000    64100\n",
       "Marseille        900000    13000\n",
       "Montpellier      311000    34000\n",
       "Pau               77000    64000\n",
       "Strasbourg       500000    67000\n",
       "Toulouse         470000    31000"
      ]
     },
     "execution_count": 87,
     "metadata": {},
     "output_type": "execute_result"
    }
   ],
   "source": [
    "dfCitiesByName = dfCities.set_index('name').sort_index()\n",
    "dfCitiesByName"
   ]
  },
  {
   "cell_type": "code",
   "execution_count": 88,
   "id": "b7acf9b8-b630-4572-abf5-060f61fa5453",
   "metadata": {},
   "outputs": [
    {
     "data": {
      "text/plain": [
       "population    311000\n",
       "zipcode        34000\n",
       "Name: Montpellier, dtype: int64"
      ]
     },
     "execution_count": 88,
     "metadata": {},
     "output_type": "execute_result"
    }
   ],
   "source": [
    "dfCitiesByName.loc['Montpellier']"
   ]
  },
  {
   "cell_type": "code",
   "execution_count": 92,
   "id": "42b375e9-a883-4259-9b7a-fbd3f8fae1bc",
   "metadata": {},
   "outputs": [
    {
     "data": {
      "text/html": [
       "<div>\n",
       "<style scoped>\n",
       "    .dataframe tbody tr th:only-of-type {\n",
       "        vertical-align: middle;\n",
       "    }\n",
       "\n",
       "    .dataframe tbody tr th {\n",
       "        vertical-align: top;\n",
       "    }\n",
       "\n",
       "    .dataframe thead th {\n",
       "        text-align: right;\n",
       "    }\n",
       "</style>\n",
       "<table border=\"1\" class=\"dataframe\">\n",
       "  <thead>\n",
       "    <tr style=\"text-align: right;\">\n",
       "      <th></th>\n",
       "      <th>population</th>\n",
       "      <th>zipcode</th>\n",
       "    </tr>\n",
       "    <tr>\n",
       "      <th>name</th>\n",
       "      <th></th>\n",
       "      <th></th>\n",
       "    </tr>\n",
       "  </thead>\n",
       "  <tbody>\n",
       "    <tr>\n",
       "      <th>Marseille</th>\n",
       "      <td>900000</td>\n",
       "      <td>13000</td>\n",
       "    </tr>\n",
       "    <tr>\n",
       "      <th>Montpellier</th>\n",
       "      <td>311000</td>\n",
       "      <td>34000</td>\n",
       "    </tr>\n",
       "  </tbody>\n",
       "</table>\n",
       "</div>"
      ],
      "text/plain": [
       "             population  zipcode\n",
       "name                            \n",
       "Marseille        900000    13000\n",
       "Montpellier      311000    34000"
      ]
     },
     "execution_count": 92,
     "metadata": {},
     "output_type": "execute_result"
    }
   ],
   "source": [
    "dfCitiesByName.loc['M':'Mzzzzzzzzz']"
   ]
  },
  {
   "cell_type": "markdown",
   "id": "f93ff8ed-a72f-4657-88b4-cebaf75f346d",
   "metadata": {},
   "source": [
    "## slices (builtin function)\n",
    "```\n",
    "slice(stop)\n",
    "slice(start, stop[, step])\n",
    "```"
   ]
  },
  {
   "cell_type": "code",
   "execution_count": 93,
   "id": "fd435b9f-551d-4d75-9b6e-24a27e44e026",
   "metadata": {},
   "outputs": [
    {
     "data": {
      "text/plain": [
       "'louse'"
      ]
     },
     "execution_count": 93,
     "metadata": {},
     "output_type": "execute_result"
    }
   ],
   "source": [
    "text[slice(3,8)]"
   ]
  },
  {
   "cell_type": "code",
   "execution_count": 94,
   "id": "c039cc33-9d32-40e9-a92b-2735394171f1",
   "metadata": {},
   "outputs": [
    {
     "data": {
      "text/plain": [
       "array([[137,   8,  17, 127],\n",
       "       [ 19, 125, 140,   6],\n",
       "       [128,  18,   7, 137],\n",
       "       [  5, 139, 126,  20],\n",
       "       [136,  10,  15, 129],\n",
       "       [ 21, 123, 142,   4],\n",
       "       [130,  16,   9, 135],\n",
       "       [  3, 141, 124,  22],\n",
       "       [134,  12,  13, 131],\n",
       "       [ 23, 121, 144,   2],\n",
       "       [132,  14,  11, 133],\n",
       "       [  2, 143, 122,  24]])"
      ]
     },
     "execution_count": 94,
     "metadata": {},
     "output_type": "execute_result"
    }
   ],
   "source": [
    "square12[slice(None), slice(None,4)] # i.e. square12[:, :4]"
   ]
  }
 ],
 "metadata": {
  "kernelspec": {
   "display_name": "k312",
   "language": "python",
   "name": "k312"
  },
  "language_info": {
   "codemirror_mode": {
    "name": "ipython",
    "version": 3
   },
   "file_extension": ".py",
   "mimetype": "text/x-python",
   "name": "python",
   "nbconvert_exporter": "python",
   "pygments_lexer": "ipython3",
   "version": "3.12.0"
  }
 },
 "nbformat": 4,
 "nbformat_minor": 5
}
