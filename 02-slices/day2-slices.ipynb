{
 "cells": [
  {
   "cell_type": "markdown",
   "id": "64d8dd90-d777-4d43-8352-9f25fb38de51",
   "metadata": {},
   "source": [
    "# Slices\n",
    "- Python\n",
    "    - list, tuple\n",
    "    - str\n",
    "- Numpy\n",
    "    - ndarray\n",
    "- Pandas:\n",
    "    - DataFrame"
   ]
  },
  {
   "cell_type": "code",
   "execution_count": 39,
   "id": "f9a31ac4-4ade-476a-a9ea-8cedf06858af",
   "metadata": {},
   "outputs": [],
   "source": [
    "import numpy as np\n",
    "# https://numpy.org/doc/stable/reference/index.html#reference"
   ]
  },
  {
   "cell_type": "markdown",
   "id": "5fc87025-487a-4460-adf7-37f683e20997",
   "metadata": {},
   "source": [
    "## slices on str"
   ]
  },
  {
   "cell_type": "code",
   "execution_count": 1,
   "id": "50eba9ec-7c69-4669-8f62-e3da4896dc42",
   "metadata": {},
   "outputs": [],
   "source": [
    "text = 'Toulouse, ville rose'"
   ]
  },
  {
   "cell_type": "code",
   "execution_count": 2,
   "id": "cebf1533-2bce-4f77-93ab-a08ac6899b62",
   "metadata": {},
   "outputs": [
    {
     "data": {
      "text/plain": [
       "'ville'"
      ]
     },
     "execution_count": 2,
     "metadata": {},
     "output_type": "execute_result"
    }
   ],
   "source": [
    "# from index 10 (included) to 15 (excluded)\n",
    "text[10:15]"
   ]
  },
  {
   "cell_type": "code",
   "execution_count": 3,
   "id": "e3e1972d-7ec1-40d6-ac5b-bbb1b7892d22",
   "metadata": {},
   "outputs": [
    {
     "data": {
      "text/plain": [
       "' rose'"
      ]
     },
     "execution_count": 3,
     "metadata": {},
     "output_type": "execute_result"
    }
   ],
   "source": [
    "text[15:]"
   ]
  },
  {
   "cell_type": "code",
   "execution_count": 4,
   "id": "ed404063-a69c-4602-bb31-3cf108fd50cb",
   "metadata": {},
   "outputs": [
    {
     "data": {
      "text/plain": [
       "'Toulouse, '"
      ]
     },
     "execution_count": 4,
     "metadata": {},
     "output_type": "execute_result"
    }
   ],
   "source": [
    "text[:10]"
   ]
  },
  {
   "cell_type": "code",
   "execution_count": 5,
   "id": "c7b33906-6e0c-4726-bd80-ac7c359d5069",
   "metadata": {},
   "outputs": [
    {
     "data": {
      "text/plain": [
       "'Toulouse, ville rose'"
      ]
     },
     "execution_count": 5,
     "metadata": {},
     "output_type": "execute_result"
    }
   ],
   "source": [
    "text[:]"
   ]
  },
  {
   "cell_type": "code",
   "execution_count": 6,
   "id": "50961d93-557d-476a-980c-2fb30b11ee1a",
   "metadata": {},
   "outputs": [
    {
     "data": {
      "text/plain": [
       "'rose'"
      ]
     },
     "execution_count": 6,
     "metadata": {},
     "output_type": "execute_result"
    }
   ],
   "source": [
    "text[-4:]"
   ]
  },
  {
   "cell_type": "code",
   "execution_count": 7,
   "id": "a5452e14-9903-4ed4-b251-20e72b2dcf52",
   "metadata": {},
   "outputs": [
    {
     "data": {
      "text/plain": [
       "'ro'"
      ]
     },
     "execution_count": 7,
     "metadata": {},
     "output_type": "execute_result"
    }
   ],
   "source": [
    "text[-4:-2]"
   ]
  },
  {
   "cell_type": "code",
   "execution_count": 8,
   "id": "18058a13-ebfd-48f0-bcdb-9e9e1fedaaee",
   "metadata": {},
   "outputs": [
    {
     "data": {
      "text/plain": [
       "''"
      ]
     },
     "execution_count": 8,
     "metadata": {},
     "output_type": "execute_result"
    }
   ],
   "source": [
    "text[-2:-4]"
   ]
  },
  {
   "cell_type": "code",
   "execution_count": 9,
   "id": "3e3f1a77-8bcb-45d6-9670-7541889a518f",
   "metadata": {},
   "outputs": [
    {
     "data": {
      "text/plain": [
       "'or'"
      ]
     },
     "execution_count": 9,
     "metadata": {},
     "output_type": "execute_result"
    }
   ],
   "source": [
    "text[-3:-5:-1]"
   ]
  },
  {
   "cell_type": "code",
   "execution_count": 10,
   "id": "6337c5b1-7704-4632-bcbd-9cc04c52867b",
   "metadata": {},
   "outputs": [
    {
     "data": {
      "text/plain": [
       "'esor elliv ,esuoluoT'"
      ]
     },
     "execution_count": 10,
     "metadata": {},
     "output_type": "execute_result"
    }
   ],
   "source": [
    "text[::-1]"
   ]
  },
  {
   "cell_type": "code",
   "execution_count": 11,
   "id": "31dd91ea-7613-4ba0-9e51-ad09252da0e0",
   "metadata": {},
   "outputs": [
    {
     "data": {
      "text/plain": [
       "'Tuos,vlers'"
      ]
     },
     "execution_count": 11,
     "metadata": {},
     "output_type": "execute_result"
    }
   ],
   "source": [
    "text[::2]"
   ]
  },
  {
   "cell_type": "code",
   "execution_count": 12,
   "id": "6b2a3a6b-97be-48f6-8da2-cc28f093c33b",
   "metadata": {},
   "outputs": [
    {
     "data": {
      "text/plain": [
       "'olue il oe'"
      ]
     },
     "execution_count": 12,
     "metadata": {},
     "output_type": "execute_result"
    }
   ],
   "source": [
    "text[1::2]"
   ]
  },
  {
   "cell_type": "code",
   "execution_count": 13,
   "id": "9f3f3015-e7b6-42df-90e4-edab8c079a8c",
   "metadata": {},
   "outputs": [
    {
     "data": {
      "text/plain": [
       "'use, ville rose'"
      ]
     },
     "execution_count": 13,
     "metadata": {},
     "output_type": "execute_result"
    }
   ],
   "source": [
    "text[5:10_000]"
   ]
  },
  {
   "cell_type": "code",
   "execution_count": 14,
   "id": "d8a621c0-9cc3-4b1f-8871-bcdbc2e3e447",
   "metadata": {},
   "outputs": [],
   "source": [
    "# TypeError: 'str' object does not support item assignment\n",
    "# text[:2] = '##'"
   ]
  },
  {
   "cell_type": "markdown",
   "id": "f8a2a495-7206-44d4-9d03-6d5ff8bae963",
   "metadata": {},
   "source": [
    "## slices on list"
   ]
  },
  {
   "cell_type": "code",
   "execution_count": 15,
   "id": "57820f41-c649-4b2c-a420-cd2a6988de28",
   "metadata": {},
   "outputs": [],
   "source": [
    "cities = ['Toulouse', 'Pau', 'Bayonne', 'Strasbourg', 'Montpellier', 'Marseille']"
   ]
  },
  {
   "cell_type": "code",
   "execution_count": 16,
   "id": "84389647-33fb-4865-834a-cd09a1c74865",
   "metadata": {},
   "outputs": [
    {
     "data": {
      "text/plain": [
       "['Toulouse', 'Pau', 'Bayonne']"
      ]
     },
     "execution_count": 16,
     "metadata": {},
     "output_type": "execute_result"
    }
   ],
   "source": [
    "cities[:3]"
   ]
  },
  {
   "cell_type": "code",
   "execution_count": 17,
   "id": "6f2e6a9e-6d63-4846-8a7a-c1cf4230a7fb",
   "metadata": {},
   "outputs": [
    {
     "data": {
      "text/plain": [
       "['Paris', 'Bordeaux', 'Strasbourg', 'Montpellier', 'Marseille']"
      ]
     },
     "execution_count": 17,
     "metadata": {},
     "output_type": "execute_result"
    }
   ],
   "source": [
    "cities[:3] = ['Paris', 'Bordeaux']\n",
    "cities"
   ]
  },
  {
   "cell_type": "code",
   "execution_count": 18,
   "id": "abf45ce1-303e-4e93-adb8-99e967d8b534",
   "metadata": {},
   "outputs": [
    {
     "data": {
      "text/plain": [
       "['Strasbourg', 'Montpellier', 'Marseille']"
      ]
     },
     "execution_count": 18,
     "metadata": {},
     "output_type": "execute_result"
    }
   ],
   "source": [
    "cities[:2] = []\n",
    "cities"
   ]
  },
  {
   "cell_type": "code",
   "execution_count": 19,
   "id": "78698af3-52a9-44ad-a9fc-5e25c9a4906f",
   "metadata": {},
   "outputs": [],
   "source": [
    "# methods: cities.remove/pop/insert/append/extend/...."
   ]
  },
  {
   "cell_type": "code",
   "execution_count": 20,
   "id": "3b04e1c7-8fe6-4fda-9d95-1085b199e7bb",
   "metadata": {},
   "outputs": [
    {
     "data": {
      "text/plain": [
       "['Marseille']"
      ]
     },
     "execution_count": 20,
     "metadata": {},
     "output_type": "execute_result"
    }
   ],
   "source": [
    "del cities[:2]\n",
    "cities"
   ]
  },
  {
   "cell_type": "code",
   "execution_count": 21,
   "id": "5b25f51c-6152-4e65-a3ec-aef587f5585e",
   "metadata": {},
   "outputs": [
    {
     "data": {
      "text/plain": [
       "['Marseille', 'Paris', 'Bordeaux', 'Strasbourg', 'Montpellier']"
      ]
     },
     "execution_count": 21,
     "metadata": {},
     "output_type": "execute_result"
    }
   ],
   "source": [
    "n = len(cities)\n",
    "cities[n:] = ['Paris', 'Bordeaux', 'Strasbourg', 'Montpellier']\n",
    "cities"
   ]
  },
  {
   "cell_type": "code",
   "execution_count": 23,
   "id": "52eaf9ac-e808-440b-a220-7ecba30081e5",
   "metadata": {},
   "outputs": [
    {
     "data": {
      "text/plain": [
       "['Marseille',\n",
       " 'Pau',\n",
       " 'Bayonne',\n",
       " 'Toulouse',\n",
       " 'Paris',\n",
       " 'Bordeaux',\n",
       " 'Strasbourg',\n",
       " 'Montpellier']"
      ]
     },
     "execution_count": 23,
     "metadata": {},
     "output_type": "execute_result"
    }
   ],
   "source": [
    "index = 1\n",
    "cities[index:index] = ['Pau', 'Bayonne', 'Toulouse']\n",
    "cities"
   ]
  },
  {
   "cell_type": "code",
   "execution_count": 28,
   "id": "b579ed67-4146-4081-bd7d-e015a8dfcd91",
   "metadata": {},
   "outputs": [
    {
     "data": {
      "text/plain": [
       "['__delitem__', '__getitem__', '__setitem__']"
      ]
     },
     "execution_count": 28,
     "metadata": {},
     "output_type": "execute_result"
    }
   ],
   "source": [
    "[ m for m in dir(cities) if m in ['__delitem__', '__getitem__', '__setitem__'] ]"
   ]
  },
  {
   "cell_type": "code",
   "execution_count": 29,
   "id": "f3279c88-f653-40a7-ba30-34bb87ffe7f4",
   "metadata": {},
   "outputs": [
    {
     "data": {
      "text/plain": [
       "['__getitem__']"
      ]
     },
     "execution_count": 29,
     "metadata": {},
     "output_type": "execute_result"
    }
   ],
   "source": [
    "[ m for m in dir(str) if m in ['__delitem__', '__getitem__', '__setitem__'] ]"
   ]
  },
  {
   "cell_type": "code",
   "execution_count": 30,
   "id": "d9604ed2-3000-4793-b938-17c987ae6773",
   "metadata": {},
   "outputs": [
    {
     "data": {
      "text/plain": [
       "['__getitem__']"
      ]
     },
     "execution_count": 30,
     "metadata": {},
     "output_type": "execute_result"
    }
   ],
   "source": [
    "[ m for m in dir(tuple) if m in ['__delitem__', '__getitem__', '__setitem__'] ]"
   ]
  },
  {
   "cell_type": "code",
   "execution_count": 31,
   "id": "b61e5fb7-91b8-4302-b5e4-1bd0293b5a2a",
   "metadata": {},
   "outputs": [],
   "source": [
    "square_ok_12 =  [ \n",
    "    [138,\t8,\t17,\t127,\t114,\t32,\t41,\t103,\t90,\t56,\t65,\t79],\n",
    "    [19,\t125,\t140,\t6,\t43,\t101,\t116,\t30,\t67,\t77,\t92,\t54],\n",
    "    [128,\t18,\t7,\t137,\t104,\t42,\t31,\t113,\t80,\t66,\t55,\t89],\n",
    "    [5,\t139,\t126,\t20,\t29,\t115,\t102,\t44,\t53,\t91,\t78,\t68],\n",
    "    [136,\t10,\t15,\t129,\t112,\t34,\t39,\t105,\t88,\t58,\t63,\t81],\n",
    "    [21,\t123,\t142,\t4,\t45,\t99,\t118,\t28,\t69,\t75,\t94,\t52],\n",
    "    [130,\t16,\t9,\t135,\t106,\t40,\t33,\t111,\t82,\t64,\t57,\t87],\n",
    "    [3,\t141,\t124,\t22,\t27,\t117,\t100,\t46,\t51,\t93,\t76,\t70],\n",
    "    [134,\t12,\t13,\t131,\t110,\t36,\t37,\t107,\t86,\t60,\t61,\t83],\n",
    "    [23,\t121,\t144,\t2,\t47,\t97,\t120,\t26,\t71,\t73,\t96,\t50],\n",
    "    [132,\t14,\t11,\t133,\t108,\t38,\t35,\t109,\t84,\t62,\t59,\t85],\n",
    "    [1,\t143,\t122,\t24,\t25,\t119,\t98,\t48,\t49,\t95,\t74,\t72]\n",
    "]"
   ]
  },
  {
   "cell_type": "code",
   "execution_count": 37,
   "id": "1af933b9-0f49-4a7d-9cf0-6df39383977f",
   "metadata": {},
   "outputs": [
    {
     "data": {
      "text/plain": [
       "[[138, 8, 17], [19, 125, 140], [128, 18, 7]]"
      ]
     },
     "execution_count": 37,
     "metadata": {},
     "output_type": "execute_result"
    }
   ],
   "source": [
    "# type list does not accept tuple of slices (n dimension)\n",
    "# square_ok_12[:3, :3]  # TypeError: list indices must be integers or slices, not tuple\n",
    "[ row[:3]  for row in square_ok_12[:3] ]"
   ]
  },
  {
   "cell_type": "markdown",
   "id": "b90471ad-81d0-4b03-9f49-b95428192840",
   "metadata": {},
   "source": [
    "## slices on ndarray (numpy)"
   ]
  },
  {
   "cell_type": "code",
   "execution_count": 40,
   "id": "cd79a14b-63e9-4415-8e24-35df13c7461b",
   "metadata": {},
   "outputs": [
    {
     "data": {
      "text/plain": [
       "array([[138,   8,  17, 127, 114,  32,  41, 103,  90,  56,  65,  79],\n",
       "       [ 19, 125, 140,   6,  43, 101, 116,  30,  67,  77,  92,  54],\n",
       "       [128,  18,   7, 137, 104,  42,  31, 113,  80,  66,  55,  89],\n",
       "       [  5, 139, 126,  20,  29, 115, 102,  44,  53,  91,  78,  68],\n",
       "       [136,  10,  15, 129, 112,  34,  39, 105,  88,  58,  63,  81],\n",
       "       [ 21, 123, 142,   4,  45,  99, 118,  28,  69,  75,  94,  52],\n",
       "       [130,  16,   9, 135, 106,  40,  33, 111,  82,  64,  57,  87],\n",
       "       [  3, 141, 124,  22,  27, 117, 100,  46,  51,  93,  76,  70],\n",
       "       [134,  12,  13, 131, 110,  36,  37, 107,  86,  60,  61,  83],\n",
       "       [ 23, 121, 144,   2,  47,  97, 120,  26,  71,  73,  96,  50],\n",
       "       [132,  14,  11, 133, 108,  38,  35, 109,  84,  62,  59,  85],\n",
       "       [  1, 143, 122,  24,  25, 119,  98,  48,  49,  95,  74,  72]])"
      ]
     },
     "execution_count": 40,
     "metadata": {},
     "output_type": "execute_result"
    }
   ],
   "source": [
    "square12 = np.array(square_ok_12)\n",
    "square12"
   ]
  },
  {
   "cell_type": "code",
   "execution_count": 41,
   "id": "b393430e-e67e-4a56-81c9-f2bfe8da3853",
   "metadata": {},
   "outputs": [
    {
     "data": {
      "text/plain": [
       "(12, 12)"
      ]
     },
     "execution_count": 41,
     "metadata": {},
     "output_type": "execute_result"
    }
   ],
   "source": [
    "square12.shape"
   ]
  },
  {
   "cell_type": "code",
   "execution_count": 42,
   "id": "ddcaff08-4ee1-4132-a1a2-ac7b6967f013",
   "metadata": {},
   "outputs": [
    {
     "data": {
      "text/plain": [
       "dtype('int32')"
      ]
     },
     "execution_count": 42,
     "metadata": {},
     "output_type": "execute_result"
    }
   ],
   "source": [
    "square12.dtype"
   ]
  },
  {
   "cell_type": "code",
   "execution_count": 43,
   "id": "485eca43-d217-4e9b-86e1-a04464381082",
   "metadata": {},
   "outputs": [
    {
     "data": {
      "text/plain": [
       "  C_CONTIGUOUS : True\n",
       "  F_CONTIGUOUS : False\n",
       "  OWNDATA : True\n",
       "  WRITEABLE : True\n",
       "  ALIGNED : True\n",
       "  WRITEBACKIFCOPY : False"
      ]
     },
     "execution_count": 43,
     "metadata": {},
     "output_type": "execute_result"
    }
   ],
   "source": [
    "square12.flags"
   ]
  },
  {
   "cell_type": "code",
   "execution_count": 44,
   "id": "720d572d-c872-42dc-be7f-ca5fec580fd1",
   "metadata": {},
   "outputs": [
    {
     "data": {
      "text/plain": [
       "array([[138,   8,  17],\n",
       "       [ 19, 125, 140],\n",
       "       [128,  18,   7]])"
      ]
     },
     "execution_count": 44,
     "metadata": {},
     "output_type": "execute_result"
    }
   ],
   "source": [
    "extract = square12[:3, :3]\n",
    "extract"
   ]
  },
  {
   "cell_type": "code",
   "execution_count": 45,
   "id": "ad471971-e23d-43b7-a100-e16196781b60",
   "metadata": {},
   "outputs": [
    {
     "data": {
      "text/plain": [
       "  C_CONTIGUOUS : False\n",
       "  F_CONTIGUOUS : False\n",
       "  OWNDATA : False\n",
       "  WRITEABLE : True\n",
       "  ALIGNED : True\n",
       "  WRITEBACKIFCOPY : False"
      ]
     },
     "execution_count": 45,
     "metadata": {},
     "output_type": "execute_result"
    }
   ],
   "source": [
    "extract.flags"
   ]
  },
  {
   "cell_type": "code",
   "execution_count": 46,
   "id": "a5efa48d-d9f3-4ac9-bd3d-e6893aa0049a",
   "metadata": {},
   "outputs": [],
   "source": [
    "extract[0, 0] = 137\n",
    "assert extract[0, 0] == 137\n",
    "assert square12[0, 0] == 137"
   ]
  },
  {
   "cell_type": "code",
   "execution_count": 47,
   "id": "28199edc-7329-4e20-95b4-f1b30877c763",
   "metadata": {},
   "outputs": [
    {
     "data": {
      "text/plain": [
       "12"
      ]
     },
     "execution_count": 47,
     "metadata": {},
     "output_type": "execute_result"
    }
   ],
   "source": [
    "n,_ = square12.shape\n",
    "n"
   ]
  },
  {
   "cell_type": "code",
   "execution_count": 50,
   "id": "783f926a-985d-4f6f-91dd-c65bd3e56923",
   "metadata": {},
   "outputs": [
    {
     "data": {
      "text/plain": [
       "array([ 41, 116,  31, 102,  39, 118,  33, 100,  37, 120,  35,  98])"
      ]
     },
     "execution_count": 50,
     "metadata": {},
     "output_type": "execute_result"
    }
   ],
   "source": [
    "# slice : column of index numColumn\n",
    "numColumn = 6\n",
    "square12[:, numColumn ]"
   ]
  },
  {
   "cell_type": "code",
   "execution_count": null,
   "id": "50f4370f-6c1e-400f-9ecd-26f93771ae0d",
   "metadata": {},
   "outputs": [],
   "source": [
    "# 2 diags"
   ]
  }
 ],
 "metadata": {
  "kernelspec": {
   "display_name": "k312",
   "language": "python",
   "name": "k312"
  },
  "language_info": {
   "codemirror_mode": {
    "name": "ipython",
    "version": 3
   },
   "file_extension": ".py",
   "mimetype": "text/x-python",
   "name": "python",
   "nbconvert_exporter": "python",
   "pygments_lexer": "ipython3",
   "version": "3.12.0"
  }
 },
 "nbformat": 4,
 "nbformat_minor": 5
}
