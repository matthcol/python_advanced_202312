{
 "cells": [
  {
   "cell_type": "markdown",
   "id": "933c6a7b-d8e6-472c-bc45-bad89a60e0c0",
   "metadata": {},
   "source": [
    "# Decorators\n",
    "\n",
    "Article: https://realpython.com/primer-on-python-decorators"
   ]
  },
  {
   "cell_type": "code",
   "execution_count": 44,
   "id": "da0ade33-6fd6-47f2-abe7-115c712454b3",
   "metadata": {},
   "outputs": [],
   "source": [
    "import functools\n",
    "from datetime import datetime\n",
    "import time"
   ]
  },
  {
   "cell_type": "markdown",
   "id": "26384048-634c-4d10-9556-189988814d42",
   "metadata": {},
   "source": [
    "## Decorator on functions"
   ]
  },
  {
   "cell_type": "code",
   "execution_count": 15,
   "id": "1cabc453-407d-492b-b485-8447e40869cf",
   "metadata": {},
   "outputs": [],
   "source": [
    "def my_decorator(func):\n",
    "    @functools.wraps(func)\n",
    "    def wrapper():\n",
    "        print(\"Something is happening before the function is called.\")\n",
    "        func()\n",
    "        print(\"Something is happening after the function is called.\")\n",
    "    return wrapper"
   ]
  },
  {
   "cell_type": "code",
   "execution_count": 16,
   "id": "f3f1a146-5332-40a8-917d-e1fda182b657",
   "metadata": {},
   "outputs": [],
   "source": [
    "def say_whee():\n",
    "    print(\"Whee!\")\n",
    "\n",
    "say_whee = my_decorator(say_whee)"
   ]
  },
  {
   "cell_type": "code",
   "execution_count": 17,
   "id": "8083f251-bde9-460a-af3d-ea442f677e6c",
   "metadata": {},
   "outputs": [
    {
     "name": "stdout",
     "output_type": "stream",
     "text": [
      "Something is happening before the function is called.\n",
      "Whee!\n",
      "Something is happening after the function is called.\n"
     ]
    }
   ],
   "source": [
    "say_whee()"
   ]
  },
  {
   "cell_type": "code",
   "execution_count": 18,
   "id": "13df6516-bde0-4f80-8397-08921ece69a1",
   "metadata": {},
   "outputs": [],
   "source": [
    "@my_decorator\n",
    "def say_python():\n",
    "    \"\"\" super function saying its love for Python \"\"\"\n",
    "    print(\"I like Python !\")\n",
    "    "
   ]
  },
  {
   "cell_type": "code",
   "execution_count": 19,
   "id": "72b0d059-f629-45e5-b3ee-04711bb06329",
   "metadata": {},
   "outputs": [
    {
     "name": "stdout",
     "output_type": "stream",
     "text": [
      "Something is happening before the function is called.\n",
      "I like Python !\n",
      "Something is happening after the function is called.\n"
     ]
    }
   ],
   "source": [
    "say_python()"
   ]
  },
  {
   "cell_type": "code",
   "execution_count": 21,
   "id": "a7be892e-3d70-44f9-b47a-2321ed117c9b",
   "metadata": {},
   "outputs": [
    {
     "data": {
      "text/plain": [
       "\u001b[1;31mSignature:\u001b[0m \u001b[0msay_python\u001b[0m\u001b[1;33m(\u001b[0m\u001b[1;33m)\u001b[0m\u001b[1;33m\u001b[0m\u001b[1;33m\u001b[0m\u001b[0m\n",
       "\u001b[1;31mDocstring:\u001b[0m super function saying its love for Python \n",
       "\u001b[1;31mFile:\u001b[0m      c:\\users\\matthias\\appdata\\local\\temp\\ipykernel_864\\4100201100.py\n",
       "\u001b[1;31mType:\u001b[0m      function"
      ]
     },
     "metadata": {},
     "output_type": "display_data"
    }
   ],
   "source": [
    "say_python?"
   ]
  },
  {
   "cell_type": "code",
   "execution_count": 22,
   "id": "38eeadc9-1837-4d65-9805-0ff09fbf014a",
   "metadata": {},
   "outputs": [
    {
     "data": {
      "text/plain": [
       "'say_python'"
      ]
     },
     "execution_count": 22,
     "metadata": {},
     "output_type": "execute_result"
    }
   ],
   "source": [
    "say_python.__name__"
   ]
  },
  {
   "cell_type": "code",
   "execution_count": 26,
   "id": "68a469ad-ab1c-4676-9183-a2b11dc55874",
   "metadata": {},
   "outputs": [],
   "source": [
    "def twice(func):\n",
    "    @functools.wraps(func)\n",
    "    def wrapper():\n",
    "        func()\n",
    "        func()\n",
    "    return wrapper"
   ]
  },
  {
   "cell_type": "code",
   "execution_count": 29,
   "id": "7b4d9373-b759-40e5-980d-6690bc15a68a",
   "metadata": {},
   "outputs": [
    {
     "name": "stdout",
     "output_type": "stream",
     "text": [
      "I like Python !\n",
      "I like Python !\n",
      "say_python\n",
      "Help on function say_python in module __main__:\n",
      "\n",
      "say_python()\n",
      "    super function saying its love for Python\n",
      "\n",
      "None\n"
     ]
    }
   ],
   "source": [
    "@twice\n",
    "def say_python():\n",
    "    \"\"\" super function saying its love for Python \"\"\"\n",
    "    print(\"I like Python !\")\n",
    "\n",
    "say_python()\n",
    "\n",
    "print(say_python.__name__)\n",
    "print(help(say_python))"
   ]
  },
  {
   "cell_type": "code",
   "execution_count": 30,
   "id": "1dec84d7-56f2-4790-88d9-f6099879d038",
   "metadata": {
    "scrolled": true
   },
   "outputs": [
    {
     "name": "stdout",
     "output_type": "stream",
     "text": [
      "Something is happening before the function is called.\n",
      "I like Python !\n",
      "I like Python !\n",
      "Something is happening after the function is called.\n",
      "Something is happening before the function is called.\n",
      "I like Python !\n",
      "I like Python !\n",
      "Something is happening after the function is called.\n"
     ]
    }
   ],
   "source": [
    "@twice\n",
    "@my_decorator\n",
    "@twice\n",
    "def say_python():\n",
    "    \"\"\" super function saying its love for Python \"\"\"\n",
    "    print(\"I like Python !\")\n",
    "\n",
    "say_python()"
   ]
  },
  {
   "cell_type": "code",
   "execution_count": 46,
   "id": "3daf0df1-22b2-4dac-906f-641a3c709fc3",
   "metadata": {},
   "outputs": [],
   "source": [
    "def twice(func):\n",
    "    \"\"\"\n",
    "    call twice decorated function \n",
    "    verify the result is the same\n",
    "    return last result\n",
    "    \"\"\"\n",
    "    \n",
    "    @functools.wraps(func)\n",
    "    def wrapper(*args, **kwargs):\n",
    "        res1 = func(*args, **kwargs)\n",
    "        time.sleep(1)\n",
    "        res2 = func(*args, **kwargs)\n",
    "        assert res1 == res2\n",
    "        return res2\n",
    "    return wrapper"
   ]
  },
  {
   "cell_type": "code",
   "execution_count": 47,
   "id": "4ed4ddf8-407a-4505-adfe-db62eb1d4a91",
   "metadata": {},
   "outputs": [],
   "source": [
    "@twice\n",
    "@twice\n",
    "def compute(x, y, z=0):\n",
    "    return 3*x + 2*y + z "
   ]
  },
  {
   "cell_type": "code",
   "execution_count": 48,
   "id": "94ab6607-1cce-4f8f-be4c-28d23fe88aa4",
   "metadata": {},
   "outputs": [
    {
     "name": "stdout",
     "output_type": "stream",
     "text": [
      "29\n"
     ]
    }
   ],
   "source": [
    "res = compute(3, 4, z=12)\n",
    "print(res)"
   ]
  },
  {
   "cell_type": "code",
   "execution_count": 49,
   "id": "4ea2e559-6285-4416-ae79-ffb26e2e3f12",
   "metadata": {},
   "outputs": [],
   "source": [
    "@twice\n",
    "def indeterminist_function():\n",
    "    return datetime.now()\n"
   ]
  },
  {
   "cell_type": "code",
   "execution_count": 51,
   "id": "3a1ca87a-7c42-4cd3-a439-c044072c529b",
   "metadata": {},
   "outputs": [],
   "source": [
    "# AssertionError\n",
    "# indeterminist_function()"
   ]
  },
  {
   "cell_type": "code",
   "execution_count": 60,
   "id": "afda6d22-3346-457b-a32f-98c82e5a2f20",
   "metadata": {},
   "outputs": [],
   "source": [
    "def repeat(n):\n",
    "    \"\"\"\n",
    "    call n times decorated function \n",
    "    verify the result is always the same\n",
    "    return 1st result\n",
    "\n",
    "    raises ValueError if n < 1\n",
    "    \"\"\"\n",
    "\n",
    "    def repeat_decorator(func):\n",
    "        @functools.wraps(func)\n",
    "        def wrapper(*args, **kwargs):\n",
    "            res1 = func(*args, **kwargs)\n",
    "            for _ in range(n-1):\n",
    "                time.sleep(1)\n",
    "                res2 = func(*args, **kwargs)\n",
    "                assert res1 == res2\n",
    "            return res1\n",
    "        return wrapper\n",
    "\n",
    "    if n < 1:\n",
    "        raise ValueError(f\"Repeat at least once got: {n}\")\n",
    "    return repeat_decorator"
   ]
  },
  {
   "cell_type": "code",
   "execution_count": 61,
   "id": "6c325f44-a3e4-48c7-8da2-e3d70e5f7096",
   "metadata": {},
   "outputs": [],
   "source": [
    "@repeat(n=3)\n",
    "def compute(x, y, z=0):\n",
    "    return 3*x + 2*y + z "
   ]
  },
  {
   "cell_type": "code",
   "execution_count": 62,
   "id": "88086991-a95a-4d5d-802d-3742e7eb5411",
   "metadata": {},
   "outputs": [
    {
     "data": {
      "text/plain": [
       "44"
      ]
     },
     "execution_count": 62,
     "metadata": {},
     "output_type": "execute_result"
    }
   ],
   "source": [
    "compute(12,4)"
   ]
  },
  {
   "cell_type": "code",
   "execution_count": 64,
   "id": "626b480e-224b-4df0-aea5-f65b4dc2ff5c",
   "metadata": {},
   "outputs": [],
   "source": [
    "compute2 = repeat(n=2)(compute)"
   ]
  },
  {
   "cell_type": "code",
   "execution_count": 65,
   "id": "36e9407c-1ed3-4b79-85c8-0bdea4d5a670",
   "metadata": {},
   "outputs": [
    {
     "data": {
      "text/plain": [
       "44"
      ]
     },
     "execution_count": 65,
     "metadata": {},
     "output_type": "execute_result"
    }
   ],
   "source": [
    "compute2(12,4)"
   ]
  },
  {
   "cell_type": "code",
   "execution_count": 67,
   "id": "869622a0-e8ff-4b0b-bdb2-47821f210f47",
   "metadata": {},
   "outputs": [],
   "source": [
    "# ValueError: Repeat at least once got: 0\n",
    "\n",
    "# @repeat(0)\n",
    "# def dummy():\n",
    "#     return 1"
   ]
  }
 ],
 "metadata": {
  "kernelspec": {
   "display_name": "k312",
   "language": "python",
   "name": "k312"
  },
  "language_info": {
   "codemirror_mode": {
    "name": "ipython",
    "version": 3
   },
   "file_extension": ".py",
   "mimetype": "text/x-python",
   "name": "python",
   "nbconvert_exporter": "python",
   "pygments_lexer": "ipython3",
   "version": "3.12.0"
  }
 },
 "nbformat": 4,
 "nbformat_minor": 5
}
